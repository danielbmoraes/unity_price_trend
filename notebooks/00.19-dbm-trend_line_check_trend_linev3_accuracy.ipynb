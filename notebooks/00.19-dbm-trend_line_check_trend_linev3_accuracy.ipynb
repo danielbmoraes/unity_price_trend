{
 "cells": [
  {
   "cell_type": "code",
   "execution_count": 1,
   "id": "36438603a2e816df",
   "metadata": {
    "collapsed": true,
    "ExecuteTime": {
     "end_time": "2024-03-18T14:00:07.799733400Z",
     "start_time": "2024-03-18T14:00:07.765493700Z"
    }
   },
   "outputs": [],
   "source": [
    "import os\n",
    "import pandas as pd\n",
    "import numpy as np\n",
    "from scipy.constants import value\n",
    "from tqdm import tqdm\n",
    "\n",
    "from src.utils.utils import get_logger\n",
    "import logging\n",
    "\n",
    "from IPython.display import clear_output\n",
    "\n",
    "logger = logging.getLogger(__name__)\n",
    "logger = get_logger(logger=logger)"
   ]
  },
  {
   "cell_type": "code",
   "execution_count": 2,
   "outputs": [],
   "source": [
    "# Leitura dos dados históricos\n",
    "\n",
    "grouped_data = pd.read_parquet(\"../data/processed/average_unity_price_historic.parquet\")"
   ],
   "metadata": {
    "collapsed": false,
    "ExecuteTime": {
     "end_time": "2024-03-18T14:00:24.142917600Z",
     "start_time": "2024-03-18T14:00:07.799733400Z"
    }
   },
   "id": "4c1ea23064652e62"
  },
  {
   "cell_type": "code",
   "execution_count": 3,
   "outputs": [
    {
     "name": "stderr",
     "output_type": "stream",
     "text": [
      "2024-03-18 11:00:24,175 - __main__ - INFO - Filtrando e corrigindo dados\n"
     ]
    }
   ],
   "source": [
    "# Deleção dos dados nulos\n",
    "logger.info(\"Filtrando e corrigindo dados\")\n",
    "grouped_data.dropna(inplace=True)\n",
    "grouped_data = grouped_data[(grouped_data[\"importador_uf\"] != \"\") \\\n",
    "                            & (grouped_data[\"importador_municipio\"] != \"\")].copy()"
   ],
   "metadata": {
    "collapsed": false,
    "ExecuteTime": {
     "end_time": "2024-03-18T14:00:32.166336700Z",
     "start_time": "2024-03-18T14:00:24.175750800Z"
    }
   },
   "id": "427e572a2d7c473d"
  },
  {
   "cell_type": "code",
   "execution_count": 4,
   "outputs": [
    {
     "name": "stderr",
     "output_type": "stream",
     "text": [
      "2024-03-18 11:00:32,249 - __main__ - INFO - \tajustando importador UF\n",
      "2024-03-18 11:01:17,940 - __main__ - INFO - \tajustando importador municipio\n"
     ]
    }
   ],
   "source": [
    "\n",
    "# Correção de estados e municipios\n",
    "estados_br = [\"AC\", \"AL\", \"AP\", \"AM\", \"BA\", \"CE\", \"ES\", \"GO\", \"MA\", \"MT\", \"MS\", \"MG\", \"PA\", \"PB\", \"PR\", \"PE\",\n",
    "              \"PI\", \"RJ\", \"RN\", \"RS\", \"RO\", \"RR\", \"SC\", \"SP\", \"SE\", \"TO\", \"DF\"]\n",
    "\n",
    "grouped_data[\"old_municipio\"] = grouped_data[\"importador_municipio\"]\n",
    "\n",
    "logger.info(\"\\tajustando importador UF\")\n",
    "grouped_data[\"importador_uf_new\"] = grouped_data.apply(lambda x: x[\"importador_uf\"] \\\n",
    "    if x[\"importador_uf\"] in estados_br else x[\"importador_municipio\"], axis=1)\n",
    "\n",
    "logger.info(\"\\tajustando importador municipio\")\n",
    "grouped_data[\"importador_municipio_new\"] = grouped_data.apply(lambda x: x[\"old_municipio\"] \\\n",
    "    if x[\"old_municipio\"] not in estados_br else x[\"importador_uf\"], axis=1)\n",
    "\n",
    "grouped_data.drop(columns=['importador_municipio', \"importador_uf\", \"old_municipio\"], inplace=True)\n",
    "grouped_data.rename(columns={\"importador_municipio_new\": \"importador_municipio\",\n",
    "                   \"importador_uf_new\": \"importador_uf\"}, inplace=True)"
   ],
   "metadata": {
    "collapsed": false,
    "ExecuteTime": {
     "end_time": "2024-03-18T14:02:04.114491900Z",
     "start_time": "2024-03-18T14:00:32.166336700Z"
    }
   },
   "id": "cd2b385032af917d"
  },
  {
   "cell_type": "code",
   "execution_count": 5,
   "outputs": [],
   "source": [
    "# Criação das chaves agrupadas\n",
    "grouped_data[\"key\"] = grouped_data[\"ncm\"].astype(str) + '-' + grouped_data[\"id_pais_origem\"] + '-' + \\\n",
    "                      grouped_data['importador_municipio'] + '-' + grouped_data['urf']"
   ],
   "metadata": {
    "collapsed": false,
    "ExecuteTime": {
     "end_time": "2024-03-18T14:02:10.097773800Z",
     "start_time": "2024-03-18T14:02:04.114491900Z"
    }
   },
   "id": "6a2522ccc5ed182a"
  },
  {
   "cell_type": "code",
   "execution_count": 6,
   "outputs": [],
   "source": [
    "# Filtro de chaves que tiveram preços unitários registrados em 2024\n",
    "keys_2_check = grouped_data[grouped_data[\"ano_semestre\"]==202302][\"key\"].unique()\n",
    "grouped_2_check = grouped_data[grouped_data[\"key\"].isin(keys_2_check)].copy()\n",
    "grouped_2_check = grouped_2_check[[\"key\", \"semestre\", \"ano\", \"avg_valor_item\"]].copy()\n",
    "grouped_2_check[\"ano_semestre\"] = grouped_2_check[\"ano\"]*10 + grouped_2_check[\"semestre\"]\n",
    "grouped_2_check = grouped_2_check.groupby([\"key\", \"ano_semestre\"], as_index=False).mean(\"avg_valor_item\")\n",
    "# grouped_2_check[\"ano_semestre\"] = grouped_2_check[\"ano_semestre\"].astype(str)"
   ],
   "metadata": {
    "collapsed": false,
    "ExecuteTime": {
     "end_time": "2024-03-18T14:02:18.717122300Z",
     "start_time": "2024-03-18T14:02:10.113246200Z"
    }
   },
   "id": "670e0a2d9b8791f"
  },
  {
   "cell_type": "code",
   "execution_count": 7,
   "outputs": [],
   "source": [
    "# Pega do dado realizado interpolado\n",
    "historic_data = pd.read_parquet(\"../data/processed/exp_g2/o2_trended_data_interpolated.parquet\")\n",
    "historic_data = historic_data[(historic_data[\"ano\"]<2022) | (historic_data[\"semestre\"]<2)]\n",
    "historic_data[\"key\"] = historic_data[\"ncm\"].astype(str) + '-' + historic_data[\"id_pais_origem\"] + '-' + \\\n",
    "                      historic_data['importador_municipio'] + '-' + historic_data['urf']\n",
    "\n",
    "# Filtro do dados realizado interpolado somente para o que tem dado realizado em 2024\n",
    "historic_data = historic_data[[\"key\", \"semestre\", \"ano\",\"avg_valor_item\"]].copy()\n",
    "historic_data = historic_data[historic_data[\"key\"].isin(keys_2_check)].copy()\n",
    "\n",
    "# Junção do realizado interpolado + realizado em 2024\n",
    "final_data = pd.concat([historic_data, grouped_2_check])\n",
    "final_data[\"ano_semestre\"] = final_data[\"ano\"]*10 + final_data[\"semestre\"]\n",
    "final_data_gp = final_data.groupby([\"key\", \"ano_semestre\"], as_index=False).mean(\"avg_valor_item\")\n",
    "final_data_gp.sort_values(by=[\"key\", \"ano_semestre\"], inplace=True)\n",
    "\n",
    "# Pivot da tabela para facilitar a iteração dos grupos\n",
    "final_data_pivot = final_data_gp.pivot(columns=\"ano_semestre\", index=\"key\", values=\"avg_valor_item\")\n",
    "final_data_pivot = final_data_pivot.dropna(subset=[20231, 20232])\n",
    "# Aplicação da regra de queda ou aumento no valor unitário\n",
    "final_data_pivot[\"trend_realizada\"] = final_data_pivot.apply(lambda x: \"aumento\" if x[20231] < x[20232] else \"queda\",axis=1)\n",
    "\n",
    "true_data = final_data_pivot[[\"trend_realizada\"]].copy().reset_index()"
   ],
   "metadata": {
    "collapsed": false,
    "ExecuteTime": {
     "end_time": "2024-03-18T14:02:22.892106700Z",
     "start_time": "2024-03-18T14:02:18.739131Z"
    }
   },
   "id": "99a983ca6d84ce1b"
  },
  {
   "cell_type": "code",
   "execution_count": 9,
   "outputs": [],
   "source": [
    "# Checar as previsões\n",
    "processed_data = pd.read_parquet(\"../data/processed/exp_g2/o2_trended_data_interpolated.parquet\")\n",
    "processed_data = processed_data[processed_data[\"ano\"]>=2023]\n",
    "processed_data[\"key\"] = processed_data[\"ncm\"].astype(str) + '-' + processed_data[\"id_pais_origem\"] + '-' + \\\n",
    "                      processed_data['importador_municipio'] + '-' + processed_data['urf']\n",
    "\n",
    "processed_data[\"ano_semestre\"] = processed_data[\"ano\"]*10 + processed_data[\"semestre\"]\n",
    "processed_data = processed_data.groupby([\"key\", \"ano_semestre\"], as_index=False).mean(\"avg_valor_item\")\n",
    "processed_data.sort_values(by=[\"key\", \"ano_semestre\"], inplace=True)"
   ],
   "metadata": {
    "collapsed": false,
    "ExecuteTime": {
     "end_time": "2024-03-18T14:02:41.402554800Z",
     "start_time": "2024-03-18T14:02:41.355203Z"
    }
   },
   "id": "c7551b91027e8721"
  },
  {
   "cell_type": "code",
   "execution_count": 10,
   "outputs": [
    {
     "data": {
      "text/plain": "ano_semestre                                                key  \\\n0             1.0051E7-ALEMANHA-CAMBE-AEROPORTO INTERNACIONA...   \n1             1.101001E7-ALEMANHA-GUARAPUAVA-PORTO DE PARANAGUA   \n2                   1.1052E7-ALEMANHA-SAO PAULO-PORTO DE SANTOS   \n3                  1.10813E7-ALEMANHA-SAO PAULO-PORTO DE SANTOS   \n4             1.10819E7-ALEMANHA-RIO DE JANEIRO-PORTO DO RIO...   \n\nano_semestre trend_projetada  \n0                      queda  \n1                      queda  \n2                    aumento  \n3                      queda  \n4                    aumento  ",
      "text/html": "<div>\n<style scoped>\n    .dataframe tbody tr th:only-of-type {\n        vertical-align: middle;\n    }\n\n    .dataframe tbody tr th {\n        vertical-align: top;\n    }\n\n    .dataframe thead th {\n        text-align: right;\n    }\n</style>\n<table border=\"1\" class=\"dataframe\">\n  <thead>\n    <tr style=\"text-align: right;\">\n      <th>ano_semestre</th>\n      <th>key</th>\n      <th>trend_projetada</th>\n    </tr>\n  </thead>\n  <tbody>\n    <tr>\n      <th>0</th>\n      <td>1.0051E7-ALEMANHA-CAMBE-AEROPORTO INTERNACIONA...</td>\n      <td>queda</td>\n    </tr>\n    <tr>\n      <th>1</th>\n      <td>1.101001E7-ALEMANHA-GUARAPUAVA-PORTO DE PARANAGUA</td>\n      <td>queda</td>\n    </tr>\n    <tr>\n      <th>2</th>\n      <td>1.1052E7-ALEMANHA-SAO PAULO-PORTO DE SANTOS</td>\n      <td>aumento</td>\n    </tr>\n    <tr>\n      <th>3</th>\n      <td>1.10813E7-ALEMANHA-SAO PAULO-PORTO DE SANTOS</td>\n      <td>queda</td>\n    </tr>\n    <tr>\n      <th>4</th>\n      <td>1.10819E7-ALEMANHA-RIO DE JANEIRO-PORTO DO RIO...</td>\n      <td>aumento</td>\n    </tr>\n  </tbody>\n</table>\n</div>"
     },
     "execution_count": 10,
     "metadata": {},
     "output_type": "execute_result"
    }
   ],
   "source": [
    "processed_data_pivot = processed_data.pivot(columns=\"ano_semestre\", index=\"key\", values=\"avg_valor_item\")\n",
    "processed_data_pivot[\"trend_projetada\"] = processed_data_pivot.apply(lambda x: \"aumento\" if x[20231] < x[20232]  else \"queda\",axis=1)\n",
    "processed_data_trend = processed_data_pivot[[\"trend_projetada\"]].copy().reset_index()\n",
    "processed_data_trend.head()"
   ],
   "metadata": {
    "collapsed": false,
    "ExecuteTime": {
     "end_time": "2024-03-18T14:02:45.813990900Z",
     "start_time": "2024-03-18T14:02:45.780209300Z"
    }
   },
   "id": "21f12e9fd4a5f073"
  },
  {
   "cell_type": "code",
   "execution_count": 11,
   "outputs": [
    {
     "data": {
      "text/plain": "Series([], Name: score, dtype: float64)"
     },
     "execution_count": 11,
     "metadata": {},
     "output_type": "execute_result"
    }
   ],
   "source": [
    "# Merge data\n",
    "trend_n_real = processed_data_trend.merge(true_data, on=\"key\")\n",
    "trend_n_real[\"score\"] = trend_n_real.apply(lambda x: 1 if x[\"trend_projetada\"] == x[\"trend_realizada\"] else 0,axis=1) \n",
    "trend_n_real[\"score\"].value_counts()/trend_n_real.shape[0]"
   ],
   "metadata": {
    "collapsed": false,
    "ExecuteTime": {
     "end_time": "2024-03-18T14:02:45.966728300Z",
     "start_time": "2024-03-18T14:02:45.833088800Z"
    }
   },
   "id": "578f67e5902ad94b"
  },
  {
   "cell_type": "code",
   "execution_count": 12,
   "outputs": [
    {
     "data": {
      "text/plain": "Series([], dtype: int64)"
     },
     "execution_count": 12,
     "metadata": {},
     "output_type": "execute_result"
    }
   ],
   "source": [
    "trend_n_real = processed_data_trend.merge(true_data, on=\"key\")\n",
    "trend_n_real[[\"trend_projetada\", \"trend_realizada\"]].value_counts()"
   ],
   "metadata": {
    "collapsed": false,
    "ExecuteTime": {
     "end_time": "2024-03-18T14:02:46.078641200Z",
     "start_time": "2024-03-18T14:02:46.062938400Z"
    }
   },
   "id": "92eb42b7061b462e"
  },
  {
   "cell_type": "code",
   "execution_count": 13,
   "outputs": [
    {
     "ename": "ValueError",
     "evalue": "zero-size array to reduction operation fmin which has no identity",
     "output_type": "error",
     "traceback": [
      "\u001B[1;31m---------------------------------------------------------------------------\u001B[0m",
      "\u001B[1;31mValueError\u001B[0m                                Traceback (most recent call last)",
      "Cell \u001B[1;32mIn[13], line 3\u001B[0m\n\u001B[0;32m      1\u001B[0m \u001B[38;5;28;01mfrom\u001B[39;00m \u001B[38;5;21;01msklearn\u001B[39;00m\u001B[38;5;21;01m.\u001B[39;00m\u001B[38;5;21;01mmetrics\u001B[39;00m \u001B[38;5;28;01mimport\u001B[39;00m confusion_matrix\n\u001B[0;32m      2\u001B[0m \u001B[38;5;28;01mimport\u001B[39;00m \u001B[38;5;21;01mseaborn\u001B[39;00m \u001B[38;5;28;01mas\u001B[39;00m \u001B[38;5;21;01msns\u001B[39;00m\n\u001B[1;32m----> 3\u001B[0m \u001B[43msns\u001B[49m\u001B[38;5;241;43m.\u001B[39;49m\u001B[43mheatmap\u001B[49m\u001B[43m(\u001B[49m\u001B[43mconfusion_matrix\u001B[49m\u001B[43m(\u001B[49m\u001B[43mtrend_n_real\u001B[49m\u001B[43m[\u001B[49m\u001B[38;5;124;43m\"\u001B[39;49m\u001B[38;5;124;43mtrend_realizada\u001B[39;49m\u001B[38;5;124;43m\"\u001B[39;49m\u001B[43m]\u001B[49m\u001B[43m,\u001B[49m\u001B[43m \u001B[49m\u001B[43mtrend_n_real\u001B[49m\u001B[43m[\u001B[49m\u001B[38;5;124;43m\"\u001B[39;49m\u001B[38;5;124;43mtrend_projetada\u001B[39;49m\u001B[38;5;124;43m\"\u001B[39;49m\u001B[43m]\u001B[49m\u001B[43m)\u001B[49m\u001B[43m,\u001B[49m\u001B[43m \u001B[49m\u001B[43mannot\u001B[49m\u001B[38;5;241;43m=\u001B[39;49m\u001B[38;5;28;43;01mTrue\u001B[39;49;00m\u001B[43m,\u001B[49m\u001B[43m \u001B[49m\u001B[43mfmt\u001B[49m\u001B[38;5;241;43m=\u001B[39;49m\u001B[38;5;124;43m'\u001B[39;49m\u001B[38;5;124;43mg\u001B[39;49m\u001B[38;5;124;43m'\u001B[39;49m\u001B[43m)\u001B[49m\n",
      "File \u001B[1;32m~\\test_environment\\venv\\lib\\site-packages\\seaborn\\matrix.py:446\u001B[0m, in \u001B[0;36mheatmap\u001B[1;34m(data, vmin, vmax, cmap, center, robust, annot, fmt, annot_kws, linewidths, linecolor, cbar, cbar_kws, cbar_ax, square, xticklabels, yticklabels, mask, ax, **kwargs)\u001B[0m\n\u001B[0;32m    365\u001B[0m \u001B[38;5;250m\u001B[39m\u001B[38;5;124;03m\"\"\"Plot rectangular data as a color-encoded matrix.\u001B[39;00m\n\u001B[0;32m    366\u001B[0m \n\u001B[0;32m    367\u001B[0m \u001B[38;5;124;03mThis is an Axes-level function and will draw the heatmap into the\u001B[39;00m\n\u001B[1;32m   (...)\u001B[0m\n\u001B[0;32m    443\u001B[0m \n\u001B[0;32m    444\u001B[0m \u001B[38;5;124;03m\"\"\"\u001B[39;00m\n\u001B[0;32m    445\u001B[0m \u001B[38;5;66;03m# Initialize the plotter object\u001B[39;00m\n\u001B[1;32m--> 446\u001B[0m plotter \u001B[38;5;241m=\u001B[39m \u001B[43m_HeatMapper\u001B[49m\u001B[43m(\u001B[49m\u001B[43mdata\u001B[49m\u001B[43m,\u001B[49m\u001B[43m \u001B[49m\u001B[43mvmin\u001B[49m\u001B[43m,\u001B[49m\u001B[43m \u001B[49m\u001B[43mvmax\u001B[49m\u001B[43m,\u001B[49m\u001B[43m \u001B[49m\u001B[43mcmap\u001B[49m\u001B[43m,\u001B[49m\u001B[43m \u001B[49m\u001B[43mcenter\u001B[49m\u001B[43m,\u001B[49m\u001B[43m \u001B[49m\u001B[43mrobust\u001B[49m\u001B[43m,\u001B[49m\u001B[43m \u001B[49m\u001B[43mannot\u001B[49m\u001B[43m,\u001B[49m\u001B[43m \u001B[49m\u001B[43mfmt\u001B[49m\u001B[43m,\u001B[49m\n\u001B[0;32m    447\u001B[0m \u001B[43m                      \u001B[49m\u001B[43mannot_kws\u001B[49m\u001B[43m,\u001B[49m\u001B[43m \u001B[49m\u001B[43mcbar\u001B[49m\u001B[43m,\u001B[49m\u001B[43m \u001B[49m\u001B[43mcbar_kws\u001B[49m\u001B[43m,\u001B[49m\u001B[43m \u001B[49m\u001B[43mxticklabels\u001B[49m\u001B[43m,\u001B[49m\n\u001B[0;32m    448\u001B[0m \u001B[43m                      \u001B[49m\u001B[43myticklabels\u001B[49m\u001B[43m,\u001B[49m\u001B[43m \u001B[49m\u001B[43mmask\u001B[49m\u001B[43m)\u001B[49m\n\u001B[0;32m    450\u001B[0m \u001B[38;5;66;03m# Add the pcolormesh kwargs here\u001B[39;00m\n\u001B[0;32m    451\u001B[0m kwargs[\u001B[38;5;124m\"\u001B[39m\u001B[38;5;124mlinewidths\u001B[39m\u001B[38;5;124m\"\u001B[39m] \u001B[38;5;241m=\u001B[39m linewidths\n",
      "File \u001B[1;32m~\\test_environment\\venv\\lib\\site-packages\\seaborn\\matrix.py:163\u001B[0m, in \u001B[0;36m_HeatMapper.__init__\u001B[1;34m(self, data, vmin, vmax, cmap, center, robust, annot, fmt, annot_kws, cbar, cbar_kws, xticklabels, yticklabels, mask)\u001B[0m\n\u001B[0;32m    160\u001B[0m \u001B[38;5;28mself\u001B[39m\u001B[38;5;241m.\u001B[39mylabel \u001B[38;5;241m=\u001B[39m ylabel \u001B[38;5;28;01mif\u001B[39;00m ylabel \u001B[38;5;129;01mis\u001B[39;00m \u001B[38;5;129;01mnot\u001B[39;00m \u001B[38;5;28;01mNone\u001B[39;00m \u001B[38;5;28;01melse\u001B[39;00m \u001B[38;5;124m\"\u001B[39m\u001B[38;5;124m\"\u001B[39m\n\u001B[0;32m    162\u001B[0m \u001B[38;5;66;03m# Determine good default values for the colormapping\u001B[39;00m\n\u001B[1;32m--> 163\u001B[0m \u001B[38;5;28;43mself\u001B[39;49m\u001B[38;5;241;43m.\u001B[39;49m\u001B[43m_determine_cmap_params\u001B[49m\u001B[43m(\u001B[49m\u001B[43mplot_data\u001B[49m\u001B[43m,\u001B[49m\u001B[43m \u001B[49m\u001B[43mvmin\u001B[49m\u001B[43m,\u001B[49m\u001B[43m \u001B[49m\u001B[43mvmax\u001B[49m\u001B[43m,\u001B[49m\n\u001B[0;32m    164\u001B[0m \u001B[43m                            \u001B[49m\u001B[43mcmap\u001B[49m\u001B[43m,\u001B[49m\u001B[43m \u001B[49m\u001B[43mcenter\u001B[49m\u001B[43m,\u001B[49m\u001B[43m \u001B[49m\u001B[43mrobust\u001B[49m\u001B[43m)\u001B[49m\n\u001B[0;32m    166\u001B[0m \u001B[38;5;66;03m# Sort out the annotations\u001B[39;00m\n\u001B[0;32m    167\u001B[0m \u001B[38;5;28;01mif\u001B[39;00m annot \u001B[38;5;129;01mis\u001B[39;00m \u001B[38;5;28;01mNone\u001B[39;00m \u001B[38;5;129;01mor\u001B[39;00m annot \u001B[38;5;129;01mis\u001B[39;00m \u001B[38;5;28;01mFalse\u001B[39;00m:\n",
      "File \u001B[1;32m~\\test_environment\\venv\\lib\\site-packages\\seaborn\\matrix.py:202\u001B[0m, in \u001B[0;36m_HeatMapper._determine_cmap_params\u001B[1;34m(self, plot_data, vmin, vmax, cmap, center, robust)\u001B[0m\n\u001B[0;32m    200\u001B[0m         vmin \u001B[38;5;241m=\u001B[39m np\u001B[38;5;241m.\u001B[39mnanpercentile(calc_data, \u001B[38;5;241m2\u001B[39m)\n\u001B[0;32m    201\u001B[0m     \u001B[38;5;28;01melse\u001B[39;00m:\n\u001B[1;32m--> 202\u001B[0m         vmin \u001B[38;5;241m=\u001B[39m \u001B[43mnp\u001B[49m\u001B[38;5;241;43m.\u001B[39;49m\u001B[43mnanmin\u001B[49m\u001B[43m(\u001B[49m\u001B[43mcalc_data\u001B[49m\u001B[43m)\u001B[49m\n\u001B[0;32m    203\u001B[0m \u001B[38;5;28;01mif\u001B[39;00m vmax \u001B[38;5;129;01mis\u001B[39;00m \u001B[38;5;28;01mNone\u001B[39;00m:\n\u001B[0;32m    204\u001B[0m     \u001B[38;5;28;01mif\u001B[39;00m robust:\n",
      "File \u001B[1;32m~\\test_environment\\venv\\lib\\site-packages\\numpy\\lib\\nanfunctions.py:343\u001B[0m, in \u001B[0;36mnanmin\u001B[1;34m(a, axis, out, keepdims, initial, where)\u001B[0m\n\u001B[0;32m    338\u001B[0m     kwargs[\u001B[38;5;124m'\u001B[39m\u001B[38;5;124mwhere\u001B[39m\u001B[38;5;124m'\u001B[39m] \u001B[38;5;241m=\u001B[39m where\n\u001B[0;32m    340\u001B[0m \u001B[38;5;28;01mif\u001B[39;00m \u001B[38;5;28mtype\u001B[39m(a) \u001B[38;5;129;01mis\u001B[39;00m np\u001B[38;5;241m.\u001B[39mndarray \u001B[38;5;129;01mand\u001B[39;00m a\u001B[38;5;241m.\u001B[39mdtype \u001B[38;5;241m!=\u001B[39m np\u001B[38;5;241m.\u001B[39mobject_:\n\u001B[0;32m    341\u001B[0m     \u001B[38;5;66;03m# Fast, but not safe for subclasses of ndarray, or object arrays,\u001B[39;00m\n\u001B[0;32m    342\u001B[0m     \u001B[38;5;66;03m# which do not implement isnan (gh-9009), or fmin correctly (gh-8975)\u001B[39;00m\n\u001B[1;32m--> 343\u001B[0m     res \u001B[38;5;241m=\u001B[39m np\u001B[38;5;241m.\u001B[39mfmin\u001B[38;5;241m.\u001B[39mreduce(a, axis\u001B[38;5;241m=\u001B[39maxis, out\u001B[38;5;241m=\u001B[39mout, \u001B[38;5;241m*\u001B[39m\u001B[38;5;241m*\u001B[39mkwargs)\n\u001B[0;32m    344\u001B[0m     \u001B[38;5;28;01mif\u001B[39;00m np\u001B[38;5;241m.\u001B[39misnan(res)\u001B[38;5;241m.\u001B[39many():\n\u001B[0;32m    345\u001B[0m         warnings\u001B[38;5;241m.\u001B[39mwarn(\u001B[38;5;124m\"\u001B[39m\u001B[38;5;124mAll-NaN slice encountered\u001B[39m\u001B[38;5;124m\"\u001B[39m, \u001B[38;5;167;01mRuntimeWarning\u001B[39;00m,\n\u001B[0;32m    346\u001B[0m                       stacklevel\u001B[38;5;241m=\u001B[39m\u001B[38;5;241m2\u001B[39m)\n",
      "\u001B[1;31mValueError\u001B[0m: zero-size array to reduction operation fmin which has no identity"
     ]
    }
   ],
   "source": [
    "from sklearn.metrics import confusion_matrix\n",
    "import seaborn as sns\n",
    "sns.heatmap(confusion_matrix(trend_n_real[\"trend_realizada\"], trend_n_real[\"trend_projetada\"]), annot=True, fmt='g')"
   ],
   "metadata": {
    "collapsed": false,
    "ExecuteTime": {
     "end_time": "2024-03-18T14:02:46.392126400Z",
     "start_time": "2024-03-18T14:02:46.078641200Z"
    }
   },
   "id": "719842134eeb5737"
  },
  {
   "cell_type": "code",
   "execution_count": null,
   "outputs": [],
   "source": [
    "trend_n_real[\"trend_realizada\"].value_counts()"
   ],
   "metadata": {
    "collapsed": false,
    "ExecuteTime": {
     "start_time": "2024-03-18T14:02:46.392126400Z"
    }
   },
   "id": "23ce36249a04b753"
  },
  {
   "cell_type": "code",
   "execution_count": null,
   "outputs": [],
   "source": [
    "trend_n_real[\"trend_projetada\"].value_counts()"
   ],
   "metadata": {
    "collapsed": false,
    "ExecuteTime": {
     "end_time": "2024-03-18T14:02:23.569513600Z",
     "start_time": "2024-03-18T14:02:23.569513600Z"
    }
   },
   "id": "3ba17793d3201349"
  }
 ],
 "metadata": {
  "kernelspec": {
   "display_name": "Python 3",
   "language": "python",
   "name": "python3"
  },
  "language_info": {
   "codemirror_mode": {
    "name": "ipython",
    "version": 2
   },
   "file_extension": ".py",
   "mimetype": "text/x-python",
   "name": "python",
   "nbconvert_exporter": "python",
   "pygments_lexer": "ipython2",
   "version": "2.7.6"
  }
 },
 "nbformat": 4,
 "nbformat_minor": 5
}
