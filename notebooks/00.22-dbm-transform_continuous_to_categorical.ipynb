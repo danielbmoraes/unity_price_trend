{
 "cells": [
  {
   "cell_type": "code",
   "execution_count": 28,
   "id": "36438603a2e816df",
   "metadata": {
    "ExecuteTime": {
     "end_time": "2024-03-20T14:48:37.529312100Z",
     "start_time": "2024-03-20T14:48:37.479572100Z"
    }
   },
   "outputs": [],
   "source": [
    "import os\n",
    "import pandas as pd\n",
    "import numpy as np\n",
    "from scipy.constants import value\n",
    "from tqdm import tqdm\n",
    "import sys\n",
    "\n",
    "from src.utils.utils import get_logger\n",
    "import logging\n",
    "\n",
    "from pyspark.sql import SparkSession\n",
    "from pyspark import SparkConf, SparkContext\n",
    "from xgboost.spark import SparkXGBClassifier\n",
    "\n",
    "import seaborn as sns\n",
    "import pandas as pd\n",
    "\n",
    "logger = logging.getLogger(__name__)\n",
    "logger = get_logger(logger=logger)"
   ]
  },
  {
   "cell_type": "code",
   "execution_count": 29,
   "id": "c0cfcbee23836f21",
   "metadata": {
    "collapsed": false,
    "ExecuteTime": {
     "end_time": "2024-03-20T14:48:37.740437Z",
     "start_time": "2024-03-20T14:48:37.527813200Z"
    }
   },
   "outputs": [
    {
     "name": "stdout",
     "output_type": "stream",
     "text": [
      "Python 3.11.8\n"
     ]
    }
   ],
   "source": [
    "!python --version"
   ]
  },
  {
   "cell_type": "code",
   "execution_count": 30,
   "id": "e7cf436ff715f9a0",
   "metadata": {
    "collapsed": false,
    "ExecuteTime": {
     "end_time": "2024-03-20T14:48:37.740437Z",
     "start_time": "2024-03-20T14:48:37.726722100Z"
    }
   },
   "outputs": [],
   "source": [
    "# Execution Flags\n",
    "PRE_INTERPOLATED_DATA = False\n",
    "REMOVE_OUTLIER_PRICES = False"
   ]
  },
  {
   "cell_type": "code",
   "execution_count": 31,
   "id": "834b55946ddfb0e3",
   "metadata": {
    "collapsed": false,
    "ExecuteTime": {
     "end_time": "2024-03-20T14:48:37.889793800Z",
     "start_time": "2024-03-20T14:48:37.745450500Z"
    }
   },
   "outputs": [],
   "source": [
    "conf=SparkConf()\n",
    "spark = SparkSession.builder.master(\"local[1]\").appName(\"trend_line\").getOrCreate()"
   ]
  },
  {
   "cell_type": "code",
   "execution_count": 32,
   "id": "203d29b7dfeac72d",
   "metadata": {
    "collapsed": false,
    "ExecuteTime": {
     "end_time": "2024-03-20T14:48:37.928705100Z",
     "start_time": "2024-03-20T14:48:37.770615800Z"
    }
   },
   "outputs": [
    {
     "data": {
      "text/plain": "<pyspark.sql.session.SparkSession at 0x1d8073273d0>",
      "text/html": "\n            <div>\n                <p><b>SparkSession - in-memory</b></p>\n                \n        <div>\n            <p><b>SparkContext</b></p>\n\n            <p><a href=\"http://192.168.0.7:4040\">Spark UI</a></p>\n\n            <dl>\n              <dt>Version</dt>\n                <dd><code>v3.5.1</code></dd>\n              <dt>Master</dt>\n                <dd><code>local[1]</code></dd>\n              <dt>AppName</dt>\n                <dd><code>trend_line</code></dd>\n            </dl>\n        </div>\n        \n            </div>\n        "
     },
     "execution_count": 32,
     "metadata": {},
     "output_type": "execute_result"
    }
   ],
   "source": [
    "spark"
   ]
  },
  {
   "cell_type": "code",
   "execution_count": 33,
   "outputs": [],
   "source": [
    "# Leitura dos dados históricos\n",
    "if PRE_INTERPOLATED_DATA:\n",
    "    grouped_data = pd.read_parquet(\"../data/processed/pd_trended_data_interpolated.parquet\")\n",
    "    grouped_fata = grouped_data[grouped_data[\"ano_semestre\"] < 202400].copy()\n",
    "else:\n",
    "    grouped_data = pd.read_parquet(\"../data/processed/average_unity_price_historic.parquet\")"
   ],
   "metadata": {
    "collapsed": false,
    "ExecuteTime": {
     "end_time": "2024-03-20T14:49:07.584693400Z",
     "start_time": "2024-03-20T14:48:37.791734Z"
    }
   },
   "id": "4c1ea23064652e62"
  },
  {
   "cell_type": "code",
   "execution_count": 34,
   "id": "427e572a2d7c473d",
   "metadata": {
    "collapsed": false,
    "ExecuteTime": {
     "end_time": "2024-03-20T14:49:23.235744500Z",
     "start_time": "2024-03-20T14:49:07.596698600Z"
    }
   },
   "outputs": [
    {
     "name": "stderr",
     "output_type": "stream",
     "text": [
      "2024-03-20 11:49:07,602 - __main__ - INFO - Filtrando e corrigindo dados\n",
      "2024-03-20 11:49:07,602 - __main__ - INFO - Filtrando e corrigindo dados\n"
     ]
    }
   ],
   "source": [
    "# Deleção dos dados nulos\n",
    "logger.info(\"Filtrando e corrigindo dados\")\n",
    "grouped_data.dropna(inplace=True)\n",
    "grouped_data = grouped_data[(grouped_data[\"importador_uf\"] != \"\") \\\n",
    "                            & (grouped_data[\"importador_municipio\"] != \"\")].copy()"
   ]
  },
  {
   "cell_type": "markdown",
   "id": "fd8c2c0a2467ef76",
   "metadata": {
    "collapsed": false
   },
   "source": [
    "## 1. Correção de estados e municipios"
   ]
  },
  {
   "cell_type": "code",
   "execution_count": 35,
   "id": "e9845b53515bf9f7",
   "metadata": {
    "collapsed": false,
    "ExecuteTime": {
     "end_time": "2024-03-20T14:51:20.375597500Z",
     "start_time": "2024-03-20T14:49:23.235744500Z"
    }
   },
   "outputs": [
    {
     "name": "stderr",
     "output_type": "stream",
     "text": [
      "2024-03-20 11:49:23,328 - __main__ - INFO - \tajustando importador UF\n",
      "2024-03-20 11:49:23,328 - __main__ - INFO - \tajustando importador UF\n",
      "2024-03-20 11:50:37,629 - __main__ - INFO - \tajustando importador municipio\n",
      "2024-03-20 11:50:37,629 - __main__ - INFO - \tajustando importador municipio\n"
     ]
    }
   ],
   "source": [
    "ESTADOS_BR = [\"AC\", \"AL\", \"AP\", \"AM\", \"BA\", \"CE\", \"ES\", \"GO\", \"MA\", \"MT\", \"MS\", \"MG\", \"PA\", \"PB\", \"PR\", \"PE\",\n",
    "              \"PI\", \"RJ\", \"RN\", \"RS\", \"RO\", \"RR\", \"SC\", \"SP\", \"SE\", \"TO\", \"DF\"]\n",
    "\n",
    "grouped_data[\"old_municipio\"] = grouped_data[\"importador_municipio\"]\n",
    "\n",
    "logger.info(\"\\tajustando importador UF\")\n",
    "grouped_data[\"importador_uf_new\"] = grouped_data.apply(lambda x: x[\"importador_uf\"] \\\n",
    "    if x[\"importador_uf\"] in ESTADOS_BR else x[\"importador_municipio\"], axis=1)\n",
    "\n",
    "logger.info(\"\\tajustando importador municipio\")\n",
    "grouped_data[\"importador_municipio_new\"] = grouped_data.apply(lambda x: x[\"old_municipio\"] \\\n",
    "    if x[\"old_municipio\"] not in ESTADOS_BR else x[\"importador_uf\"], axis=1)\n",
    "\n",
    "grouped_data.drop(columns=['importador_municipio', \"importador_uf\", \"old_municipio\"], inplace=True)\n",
    "grouped_data.rename(columns={\"importador_municipio_new\": \"importador_municipio\",\n",
    "                   \"importador_uf_new\": \"importador_uf\"}, inplace=True)"
   ]
  },
  {
   "cell_type": "markdown",
   "id": "7a333fa9ddd1b273",
   "metadata": {
    "collapsed": false
   },
   "source": [
    "## 2. Montagem do gabarito de datas"
   ]
  },
  {
   "cell_type": "markdown",
   "id": "2ff49e5cfd2ea39b",
   "metadata": {
    "collapsed": false
   },
   "source": [
    "### 2.1 Criação do gabarito"
   ]
  },
  {
   "cell_type": "code",
   "execution_count": 36,
   "id": "fd378564687c3a1f",
   "metadata": {
    "collapsed": false,
    "ExecuteTime": {
     "end_time": "2024-03-20T14:51:20.465258200Z",
     "start_time": "2024-03-20T14:51:20.383192900Z"
    }
   },
   "outputs": [
    {
     "name": "stderr",
     "output_type": "stream",
     "text": [
      "2024-03-20 11:51:20,385 - __main__ - INFO - Criando dataframes de datas\n",
      "2024-03-20 11:51:20,385 - __main__ - INFO - Criando dataframes de datas\n"
     ]
    }
   ],
   "source": [
    "logger.info(\"Criando dataframes de datas\")\n",
    "# Creation of historic dates template\n",
    "years_df = pd.DataFrame.from_dict({\"ano\": [2018, 2019, 2020, 2021, 2022, 2023]})\n",
    "# years_df = pd.DataFrame.from_dict({\"ano\": [2022, 2023]})\n",
    "semesters_df = pd.DataFrame.from_dict({\"semestre\": [1, 2]})\n",
    "dates_template = years_df.join(semesters_df, how=\"cross\")\n",
    "dates_template[\"ano_semestre\"] = dates_template[\"ano\"] * 100 + dates_template[\"semestre\"]\n",
    "dates_template.drop(columns=[\"ano\", \"semestre\"], inplace=True)"
   ]
  },
  {
   "cell_type": "markdown",
   "id": "69285810b29acd13",
   "metadata": {
    "collapsed": false
   },
   "source": [
    "### 2.2 Left Join com dados Crus"
   ]
  },
  {
   "cell_type": "code",
   "execution_count": 37,
   "id": "26ba5c1a7bff39db",
   "metadata": {
    "collapsed": false,
    "ExecuteTime": {
     "end_time": "2024-03-20T14:51:25.065758500Z",
     "start_time": "2024-03-20T14:51:20.412685200Z"
    }
   },
   "outputs": [],
   "source": [
    "grouped_data[\"ncm\"] = grouped_data[\"ncm\"].astype(float).astype(int).astype(str)"
   ]
  },
  {
   "cell_type": "code",
   "execution_count": 38,
   "id": "2b2e31797324d5a9",
   "metadata": {
    "collapsed": false,
    "ExecuteTime": {
     "end_time": "2024-03-20T14:51:31.966546800Z",
     "start_time": "2024-03-20T14:51:25.066725900Z"
    }
   },
   "outputs": [],
   "source": [
    "# Criação de chaves únicas\n",
    "grouped_data[\"key\"] = grouped_data[\"ncm\"].astype(str) + '-' + grouped_data[\"id_pais_origem\"] + '-' + \\\n",
    "                      grouped_data['importador_municipio'] + '-' + grouped_data['urf']"
   ]
  },
  {
   "cell_type": "code",
   "execution_count": 39,
   "outputs": [
    {
     "data": {
      "text/plain": "0                              29342031-CHINA-ITAJAI-ITAJAI\n1         40169990-BÉLGICA-SAO JOSE DOS CAMPOS-PORTO DE ...\n2         81089000-FRANÇA-SAO JOSE DOS CAMPOS-AEROPORTO ...\n3         83012000-ITÁLIA-SETE LAGOAS-PORTO DO RIO DE JA...\n4                     84821010-JAPÃO-SUZANO-PORTO DE SANTOS\n                                ...                        \n396630    84799090-ALEMANHA-BARRO ALTO-AEROPORTO INTERNA...\n396631               96035000-CHINA-CAJAMAR-PORTO DE SANTOS\n396632    96035000-CHINA-CAJAMAR-AEROPORTO INTERNACIONAL...\n396633    22030000-PARAGUAI-JACAREI-AEROPORTO INTERNACIO...\n396634    84823000-MALÁSIA-BARUERI-AEROPORTO INTERNACION...\nName: index, Length: 396635, dtype: object"
     },
     "execution_count": 39,
     "metadata": {},
     "output_type": "execute_result"
    }
   ],
   "source": [
    "# Seleção somente do que é recorrente\n",
    "gp_data = grouped_data.groupby([\"key\", \"ano\", \"semestre\"], as_index=False).mean(\"avg_valor_item\")\n",
    "df_count = gp_data[\"key\"].value_counts().reset_index()\n",
    "recurrent_keys = df_count[df_count[\"key\"] >= 4][\"index\"]\n",
    "recurrent_keys"
   ],
   "metadata": {
    "collapsed": false,
    "ExecuteTime": {
     "end_time": "2024-03-20T14:51:46.212031Z",
     "start_time": "2024-03-20T14:51:31.968501900Z"
    }
   },
   "id": "4e5a6df6c744b5a7"
  },
  {
   "cell_type": "code",
   "execution_count": 40,
   "outputs": [],
   "source": [
    "grouped_data = grouped_data[grouped_data[\"key\"].isin(recurrent_keys)].copy()\n",
    "grouped_data.to_parquet(\"../data/interim/grouped_data.parquet\", index=False)\n",
    "unique_keys = grouped_data.drop_duplicates(subset=\"key\")[[\"key\", \"ncm\", \"id_pais_origem\", \"importador_municipio\", \"urf\"]]\n",
    "cross_template = unique_keys.merge(dates_template, how=\"cross\")"
   ],
   "metadata": {
    "collapsed": false,
    "ExecuteTime": {
     "end_time": "2024-03-20T14:52:00.653939400Z",
     "start_time": "2024-03-20T14:51:46.213987700Z"
    }
   },
   "id": "99836a0b3eb4459e"
  },
  {
   "cell_type": "code",
   "execution_count": 41,
   "outputs": [
    {
     "data": {
      "text/plain": "                                                 key       ncm id_pais_origem  \\\n0  83021000-COREIA DO SUL-ITU-AEROPORTO INTERNACI...  83021000  COREIA DO SUL   \n1  83021000-COREIA DO SUL-ITU-AEROPORTO INTERNACI...  83021000  COREIA DO SUL   \n2  83021000-COREIA DO SUL-ITU-AEROPORTO INTERNACI...  83021000  COREIA DO SUL   \n3  83021000-COREIA DO SUL-ITU-AEROPORTO INTERNACI...  83021000  COREIA DO SUL   \n4  83021000-COREIA DO SUL-ITU-AEROPORTO INTERNACI...  83021000  COREIA DO SUL   \n\n  importador_municipio                                   urf  ano_semestre  \n0                  ITU  AEROPORTO INTERNACIONAL DE VIRACOPOS        201801  \n1                  ITU  AEROPORTO INTERNACIONAL DE VIRACOPOS        201802  \n2                  ITU  AEROPORTO INTERNACIONAL DE VIRACOPOS        201901  \n3                  ITU  AEROPORTO INTERNACIONAL DE VIRACOPOS        201902  \n4                  ITU  AEROPORTO INTERNACIONAL DE VIRACOPOS        202001  ",
      "text/html": "<div>\n<style scoped>\n    .dataframe tbody tr th:only-of-type {\n        vertical-align: middle;\n    }\n\n    .dataframe tbody tr th {\n        vertical-align: top;\n    }\n\n    .dataframe thead th {\n        text-align: right;\n    }\n</style>\n<table border=\"1\" class=\"dataframe\">\n  <thead>\n    <tr style=\"text-align: right;\">\n      <th></th>\n      <th>key</th>\n      <th>ncm</th>\n      <th>id_pais_origem</th>\n      <th>importador_municipio</th>\n      <th>urf</th>\n      <th>ano_semestre</th>\n    </tr>\n  </thead>\n  <tbody>\n    <tr>\n      <th>0</th>\n      <td>83021000-COREIA DO SUL-ITU-AEROPORTO INTERNACI...</td>\n      <td>83021000</td>\n      <td>COREIA DO SUL</td>\n      <td>ITU</td>\n      <td>AEROPORTO INTERNACIONAL DE VIRACOPOS</td>\n      <td>201801</td>\n    </tr>\n    <tr>\n      <th>1</th>\n      <td>83021000-COREIA DO SUL-ITU-AEROPORTO INTERNACI...</td>\n      <td>83021000</td>\n      <td>COREIA DO SUL</td>\n      <td>ITU</td>\n      <td>AEROPORTO INTERNACIONAL DE VIRACOPOS</td>\n      <td>201802</td>\n    </tr>\n    <tr>\n      <th>2</th>\n      <td>83021000-COREIA DO SUL-ITU-AEROPORTO INTERNACI...</td>\n      <td>83021000</td>\n      <td>COREIA DO SUL</td>\n      <td>ITU</td>\n      <td>AEROPORTO INTERNACIONAL DE VIRACOPOS</td>\n      <td>201901</td>\n    </tr>\n    <tr>\n      <th>3</th>\n      <td>83021000-COREIA DO SUL-ITU-AEROPORTO INTERNACI...</td>\n      <td>83021000</td>\n      <td>COREIA DO SUL</td>\n      <td>ITU</td>\n      <td>AEROPORTO INTERNACIONAL DE VIRACOPOS</td>\n      <td>201902</td>\n    </tr>\n    <tr>\n      <th>4</th>\n      <td>83021000-COREIA DO SUL-ITU-AEROPORTO INTERNACI...</td>\n      <td>83021000</td>\n      <td>COREIA DO SUL</td>\n      <td>ITU</td>\n      <td>AEROPORTO INTERNACIONAL DE VIRACOPOS</td>\n      <td>202001</td>\n    </tr>\n  </tbody>\n</table>\n</div>"
     },
     "execution_count": 41,
     "metadata": {},
     "output_type": "execute_result"
    }
   ],
   "source": [
    "cross_template.head(5)"
   ],
   "metadata": {
    "collapsed": false,
    "ExecuteTime": {
     "end_time": "2024-03-20T14:52:00.678835300Z",
     "start_time": "2024-03-20T14:52:00.654971400Z"
    }
   },
   "id": "f03361941f02d4a3"
  },
  {
   "cell_type": "code",
   "execution_count": 42,
   "id": "a62fdb9d5a3c9b06",
   "metadata": {
    "collapsed": false,
    "ExecuteTime": {
     "end_time": "2024-03-20T14:52:03.507440800Z",
     "start_time": "2024-03-20T14:52:00.665819500Z"
    }
   },
   "outputs": [],
   "source": [
    "cross_template.to_parquet(\"../data/interim/cross_template.parquet\", index=False)\n",
    "del cross_template, grouped_data"
   ]
  },
  {
   "cell_type": "code",
   "execution_count": 43,
   "id": "6436dc637ee8ed2c",
   "metadata": {
    "collapsed": false,
    "ExecuteTime": {
     "end_time": "2024-03-20T14:52:03.880006400Z",
     "start_time": "2024-03-20T14:52:03.512399600Z"
    }
   },
   "outputs": [],
   "source": [
    "cross_template_sp = spark.read.parquet(\"../data/interim/cross_template.parquet\")\n",
    "grouped_data = spark.read.parquet(\"../data/interim/grouped_data.parquet\")"
   ]
  },
  {
   "cell_type": "code",
   "execution_count": 44,
   "id": "9d91c06a7c0d391d",
   "metadata": {
    "collapsed": false,
    "ExecuteTime": {
     "end_time": "2024-03-20T14:52:04.063019700Z",
     "start_time": "2024-03-20T14:52:03.881004800Z"
    }
   },
   "outputs": [],
   "source": [
    "# Grouped Data Treatment\n",
    "grouped_data = grouped_data.groupBy([\"key\", \"ano_semestre\"]).avg(\"avg_valor_item\")\n",
    "grouped_data = grouped_data.withColumnRenamed(\"avg(avg_valor_item)\", \"avg_valor_item\")"
   ]
  },
  {
   "cell_type": "code",
   "execution_count": 45,
   "id": "851790261e57cc71",
   "metadata": {
    "collapsed": false,
    "ExecuteTime": {
     "end_time": "2024-03-20T14:52:04.064017100Z",
     "start_time": "2024-03-20T14:52:03.921254700Z"
    }
   },
   "outputs": [],
   "source": [
    "# preenchimento dos dados históricos\n",
    "df_filled = cross_template_sp.join(grouped_data, on=[\"key\",\"ano_semestre\"],  how=\"left\")"
   ]
  },
  {
   "cell_type": "code",
   "execution_count": 46,
   "id": "afd9bf65a5e89fc3",
   "metadata": {
    "collapsed": false,
    "ExecuteTime": {
     "end_time": "2024-03-20T14:52:17.377876100Z",
     "start_time": "2024-03-20T14:52:04.061017500Z"
    }
   },
   "outputs": [
    {
     "name": "stdout",
     "output_type": "stream",
     "text": [
      "+--------------------+------------+--------+--------------+--------------------+--------------------+------------------+\n",
      "|                 key|ano_semestre|     ncm|id_pais_origem|importador_municipio|                 urf|    avg_valor_item|\n",
      "+--------------------+------------+--------+--------------+--------------------+--------------------+------------------+\n",
      "|83021000-COREIA D...|      201802|83021000| COREIA DO SUL|                 ITU|AEROPORTO INTERNA...| 61.74749916791916|\n",
      "|83021000-COREIA D...|      201901|83021000| COREIA DO SUL|                 ITU|AEROPORTO INTERNA...|17.366388967964383|\n",
      "|83021000-COREIA D...|      201902|83021000| COREIA DO SUL|                 ITU|AEROPORTO INTERNA...|21.336110929648083|\n",
      "|83021000-COREIA D...|      202002|83021000| COREIA DO SUL|                 ITU|AEROPORTO INTERNA...|              NULL|\n",
      "|83021000-COREIA D...|      201801|83021000| COREIA DO SUL|                 ITU|AEROPORTO INTERNA...| 1.840000033378601|\n",
      "+--------------------+------------+--------+--------------+--------------------+--------------------+------------------+\n"
     ]
    }
   ],
   "source": [
    "df_filled.show(5)"
   ]
  },
  {
   "cell_type": "markdown",
   "id": "6470582ff9bbd691",
   "metadata": {
    "collapsed": false
   },
   "source": [
    "## 3. Transformação em categórico"
   ]
  },
  {
   "cell_type": "markdown",
   "id": "5d86fbca1ff21d2f",
   "metadata": {
    "collapsed": false
   },
   "source": [
    "### 3.1 Pivot dos semestres"
   ]
  },
  {
   "cell_type": "code",
   "execution_count": 47,
   "id": "d63d39e12355d76f",
   "metadata": {
    "collapsed": false,
    "ExecuteTime": {
     "end_time": "2024-03-20T14:52:17.622485100Z",
     "start_time": "2024-03-20T14:52:17.376876300Z"
    }
   },
   "outputs": [],
   "source": [
    "df_filled_pivot = df_filled.groupBy(\"key\", \"ncm\", \"id_pais_origem\", \"importador_municipio\", \"urf\").pivot(\"ano_semestre\").avg(\"avg_valor_item\")\n",
    "# df_filled_pivot.show()"
   ]
  },
  {
   "cell_type": "code",
   "execution_count": 48,
   "id": "3357a211404124aa",
   "metadata": {
    "collapsed": false,
    "ExecuteTime": {
     "end_time": "2024-03-20T14:52:51.756090100Z",
     "start_time": "2024-03-20T14:52:17.624484900Z"
    }
   },
   "outputs": [],
   "source": [
    "# df_filled_pivot.fillna(value=0)\n",
    "df_filled_pivot.write.parquet('../data/interim/2_interpolate', mode=\"overwrite\")"
   ]
  },
  {
   "cell_type": "markdown",
   "id": "4b13a665873b4f20",
   "metadata": {
    "collapsed": false
   },
   "source": [
    "### 3.2 Criação da função para detectar alta ou queda"
   ]
  },
  {
   "cell_type": "code",
   "execution_count": 49,
   "outputs": [],
   "source": [
    "from pathlib import Path\n",
    "\n"
   ],
   "metadata": {
    "collapsed": false,
    "ExecuteTime": {
     "end_time": "2024-03-20T14:52:51.769867700Z",
     "start_time": "2024-03-20T14:52:51.758090700Z"
    }
   },
   "id": "5b91682d3566d397"
  },
  {
   "cell_type": "code",
   "execution_count": 50,
   "outputs": [
    {
     "name": "stderr",
     "output_type": "stream",
     "text": [
      "Interpolating and transforming values: 100%|██████████| 3/3 [00:05<00:00,  1.85s/it]\n"
     ]
    }
   ],
   "source": [
    "# List existing files\n",
    "from pathlib import Path\n",
    "COLUMNS_2_INTERPOLATE = ['201801', '201802', '201901', '201902', '202001', '202002', '202101', '202102', '202201', '202202', '202301', '202302']\n",
    "\n",
    "def get_upsndowns(row):\n",
    "    if row['202301'] < row['202302']:\n",
    "        status=\"aumento\"\n",
    "    elif row['202301'] > row['202302']:\n",
    "        status=\"queda\"\n",
    "    else:\n",
    "        status=\"manteve\"\n",
    "    return status\n",
    "data_dir = Path('../data/interim/2_interpolate')\n",
    "files = [parquet_file for parquet_file in data_dir.glob('*.parquet')]\n",
    "with tqdm(total=len(files), desc=\"Interpolating and transforming values\") as pbar:\n",
    "    for file in files:\n",
    "        df_aux = pd.read_parquet(file)\n",
    "        df_aux.dropna(subset=['202301', '202302'], inplace=True)\n",
    "        df_aux[COLUMNS_2_INTERPOLATE] = df_aux[COLUMNS_2_INTERPOLATE].interpolate(axis=1, method=\"linear\")\n",
    "        df_aux[\"status\"] = df_aux.apply(lambda x: get_upsndowns(x), axis=1)\n",
    "        # Removing outliers\n",
    "        # train_df[np.abs((stats.zscore(train_df[\"valor_fob_da\"])) < 3)]\n",
    "        df_aux.to_parquet(f'../data/interim/interpolated_categorized/{file.name}')\n",
    "        pbar.update(1)"
   ],
   "metadata": {
    "collapsed": false,
    "ExecuteTime": {
     "end_time": "2024-03-20T14:52:57.335935700Z",
     "start_time": "2024-03-20T14:52:51.769867700Z"
    }
   },
   "id": "1eed99b1cf85a2cf"
  },
  {
   "cell_type": "markdown",
   "id": "c7b7519ba2b86af3",
   "metadata": {
    "collapsed": false
   },
   "source": [
    "### 3.3 Melt dos valores para preparação"
   ]
  },
  {
   "cell_type": "code",
   "execution_count": 51,
   "outputs": [],
   "source": [
    "df_aux.set_index(\"key\", inplace=True)"
   ],
   "metadata": {
    "collapsed": false,
    "ExecuteTime": {
     "end_time": "2024-03-20T14:52:57.349925700Z",
     "start_time": "2024-03-20T14:52:57.336899700Z"
    }
   },
   "id": "b7cda166447686ed"
  },
  {
   "cell_type": "code",
   "execution_count": 52,
   "outputs": [
    {
     "data": {
      "text/plain": "Index(['ncm', 'id_pais_origem', 'importador_municipio', 'urf', '201801',\n       '201802', '201901', '201902', '202001', '202002', '202101', '202102',\n       '202201', '202202', '202301', '202302', 'status'],\n      dtype='object')"
     },
     "execution_count": 52,
     "metadata": {},
     "output_type": "execute_result"
    }
   ],
   "source": [
    "df_aux.columns"
   ],
   "metadata": {
    "collapsed": false,
    "ExecuteTime": {
     "end_time": "2024-03-20T14:52:57.349925700Z",
     "start_time": "2024-03-20T14:52:57.344329900Z"
    }
   },
   "id": "8d9007f6e75432bc"
  },
  {
   "cell_type": "code",
   "execution_count": 53,
   "id": "f7b4b59e84065eb8",
   "metadata": {
    "collapsed": false,
    "ExecuteTime": {
     "end_time": "2024-03-20T14:53:00.078182900Z",
     "start_time": "2024-03-20T14:52:57.353917300Z"
    }
   },
   "outputs": [
    {
     "name": "stderr",
     "output_type": "stream",
     "text": [
      "Interpolating and transforming values:   0%|          | 0/9 [00:00<?, ?it/s]\n",
      "\tfor file part-00000-0c5d4e99-2137-4330-89e6-3939a8ec780d-c000.snappy.parquet:   0%|          | 0/5 [00:00<?, ?it/s]\u001B[A\n",
      "\tfor file part-00000-0c5d4e99-2137-4330-89e6-3939a8ec780d-c000.snappy.parquet: 100%|██████████| 5/5 [00:00<00:00, 32.39it/s]\u001B[A\n"
     ]
    },
    {
     "name": "stdout",
     "output_type": "stream",
     "text": [
      "['aumento' 'manteve' 'queda']\n"
     ]
    },
    {
     "name": "stderr",
     "output_type": "stream",
     "text": [
      "Interpolating and transforming values:  11%|█         | 1/9 [00:00<00:04,  1.87it/s]\n",
      "\tfor file part-00000-25fbe3f5-21ee-4e97-8c89-62a54fa8fa1f-c000.snappy.parquet: 100%|██████████| 5/5 [00:00<00:00, 76.84it/s]\n",
      "Interpolating and transforming values:  22%|██▏       | 2/9 [00:00<00:02,  2.81it/s]"
     ]
    },
    {
     "name": "stdout",
     "output_type": "stream",
     "text": [
      "['aumento' 'manteve' 'queda']\n"
     ]
    },
    {
     "name": "stderr",
     "output_type": "stream",
     "text": [
      "\n",
      "\tfor file part-00000-bc5dadc7-908c-4b5c-97d6-25dab4e21923-c000.snappy.parquet: 100%|██████████| 5/5 [00:00<00:00, 73.32it/s]\n",
      "Interpolating and transforming values:  33%|███▎      | 3/9 [00:00<00:01,  3.36it/s]"
     ]
    },
    {
     "name": "stdout",
     "output_type": "stream",
     "text": [
      "['aumento' 'manteve' 'queda']\n"
     ]
    },
    {
     "name": "stderr",
     "output_type": "stream",
     "text": [
      "\n",
      "\tfor file part-00001-0c5d4e99-2137-4330-89e6-3939a8ec780d-c000.snappy.parquet:   0%|          | 0/5 [00:00<?, ?it/s]\u001B[A\n",
      "\tfor file part-00001-0c5d4e99-2137-4330-89e6-3939a8ec780d-c000.snappy.parquet: 100%|██████████| 5/5 [00:00<00:00, 36.62it/s]\u001B[A\n",
      "Interpolating and transforming values:  44%|████▍     | 4/9 [00:01<00:01,  2.68it/s]"
     ]
    },
    {
     "name": "stdout",
     "output_type": "stream",
     "text": [
      "['aumento' 'manteve' 'queda']\n"
     ]
    },
    {
     "name": "stderr",
     "output_type": "stream",
     "text": [
      "\n",
      "\tfor file part-00001-25fbe3f5-21ee-4e97-8c89-62a54fa8fa1f-c000.snappy.parquet: 100%|██████████| 5/5 [00:00<00:00, 76.27it/s]\n",
      "Interpolating and transforming values:  56%|█████▌    | 5/9 [00:01<00:01,  2.99it/s]"
     ]
    },
    {
     "name": "stdout",
     "output_type": "stream",
     "text": [
      "['aumento' 'manteve' 'queda']\n"
     ]
    },
    {
     "name": "stderr",
     "output_type": "stream",
     "text": [
      "\n",
      "\tfor file part-00001-bc5dadc7-908c-4b5c-97d6-25dab4e21923-c000.snappy.parquet: 100%|██████████| 5/5 [00:00<00:00, 74.80it/s]\n",
      "Interpolating and transforming values:  67%|██████▋   | 6/9 [00:01<00:00,  3.39it/s]"
     ]
    },
    {
     "name": "stdout",
     "output_type": "stream",
     "text": [
      "['aumento' 'manteve' 'queda']\n"
     ]
    },
    {
     "name": "stderr",
     "output_type": "stream",
     "text": [
      "\n",
      "\tfor file part-00002-0c5d4e99-2137-4330-89e6-3939a8ec780d-c000.snappy.parquet:   0%|          | 0/5 [00:00<?, ?it/s]\u001B[A\n",
      "\tfor file part-00002-0c5d4e99-2137-4330-89e6-3939a8ec780d-c000.snappy.parquet: 100%|██████████| 5/5 [00:00<00:00, 39.83it/s]\u001B[A\n",
      "Interpolating and transforming values:  78%|███████▊  | 7/9 [00:02<00:00,  3.08it/s]"
     ]
    },
    {
     "name": "stdout",
     "output_type": "stream",
     "text": [
      "['aumento' 'manteve' 'queda']\n"
     ]
    },
    {
     "name": "stderr",
     "output_type": "stream",
     "text": [
      "\n",
      "\tfor file part-00002-25fbe3f5-21ee-4e97-8c89-62a54fa8fa1f-c000.snappy.parquet: 100%|██████████| 5/5 [00:00<00:00, 101.23it/s]\n",
      "Interpolating and transforming values:  89%|████████▉ | 8/9 [00:02<00:00,  3.58it/s]"
     ]
    },
    {
     "name": "stdout",
     "output_type": "stream",
     "text": [
      "['aumento' 'manteve' 'queda']\n"
     ]
    },
    {
     "name": "stderr",
     "output_type": "stream",
     "text": [
      "\n",
      "\tfor file part-00002-bc5dadc7-908c-4b5c-97d6-25dab4e21923-c000.snappy.parquet:   0%|          | 0/5 [00:00<?, ?it/s]\u001B[A"
     ]
    },
    {
     "name": "stdout",
     "output_type": "stream",
     "text": [
      "['aumento' 'manteve' 'queda']\n"
     ]
    },
    {
     "name": "stderr",
     "output_type": "stream",
     "text": [
      "\tfor file part-00002-bc5dadc7-908c-4b5c-97d6-25dab4e21923-c000.snappy.parquet: 100%|██████████| 5/5 [00:00<00:00, 96.34it/s]\n",
      "Interpolating and transforming values: 100%|██████████| 9/9 [00:02<00:00,  3.32it/s]\n"
     ]
    }
   ],
   "source": [
    "## 4. Preparação para treinamento\n",
    "from sklearn.preprocessing import LabelEncoder\n",
    "\n",
    "# df_to_train = pd.read_parquet('../data/interim/interpolated_categorized/')\n",
    "CATEGORICAL_COLUMNS = ['ncm', 'id_pais_origem', 'importador_municipio', 'urf', \"status\"]\n",
    "\n",
    "data_dir = Path('../data/interim/interpolated_categorized')\n",
    "files = [parquet_file for parquet_file in data_dir.glob('*.parquet')]\n",
    "\n",
    "with tqdm(total=len(files), desc=\"Interpolating and transforming values\") as pbar:\n",
    "    for file in files:\n",
    "        df_aux = pd.read_parquet(file)\n",
    "        # df_aux.set_index(\"key\", inplace=True)\n",
    "        with tqdm(total=len(CATEGORICAL_COLUMNS), desc=f\"\\tfor file {file.name}\") as pbar_s:\n",
    "            for column in CATEGORICAL_COLUMNS:\n",
    "                le = LabelEncoder()\n",
    "                df_aux[column + \"_le\"] = le.fit_transform(df_aux[column])\n",
    "                if column == \"status\":\n",
    "                    print(le.classes_)\n",
    "                df_aux.drop(columns=column, inplace=True)\n",
    "                pbar_s.update(1)\n",
    "        df_aux.to_parquet(f'../data/interim/ready_to_train/{file.name}')\n",
    "        pbar.update(1)"
   ]
  },
  {
   "cell_type": "code",
   "execution_count": 54,
   "outputs": [],
   "source": [
    "df_raw = pd.read_parquet(f'../data/interim/ready_to_train/')\n",
    "# ToDo: Test without the melt value\n",
    "df_raw = df_raw.melt(id_vars=[\"key\",\"ncm_le\", \"id_pais_origem_le\", \"importador_municipio_le\", \"urf_le\", \"status_le\"])\n",
    "df_raw.rename(columns={\"variable\": \"ano_semestre\", \"value\": \"avg_valor_unitario\"}, inplace=True)\n",
    "df_raw[\"ano\"] = df_raw[\"ano_semestre\"].str[:4]\n",
    "df_raw[\"semestre\"] = df_raw[\"ano_semestre\"].str[-1]\n",
    "df_raw.dropna(subset=\"avg_valor_unitario\", inplace=True)\n",
    "df_raw.to_parquet(\"../data/interim/data_ready_to_train.parquet\")"
   ],
   "metadata": {
    "collapsed": false,
    "ExecuteTime": {
     "end_time": "2024-03-20T14:53:11.572293800Z",
     "start_time": "2024-03-20T14:53:00.078182900Z"
    }
   },
   "id": "3078599e5ba11822"
  }
 ],
 "metadata": {
  "kernelspec": {
   "display_name": "Python 3 (ipykernel)",
   "language": "python",
   "name": "python3"
  },
  "language_info": {
   "codemirror_mode": {
    "name": "ipython",
    "version": 3
   },
   "file_extension": ".py",
   "mimetype": "text/x-python",
   "name": "python",
   "nbconvert_exporter": "python",
   "pygments_lexer": "ipython3",
   "version": "3.11.8"
  }
 },
 "nbformat": 4,
 "nbformat_minor": 5
}
