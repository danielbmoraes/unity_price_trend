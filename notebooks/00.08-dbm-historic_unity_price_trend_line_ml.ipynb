{
 "cells": [
  {
   "cell_type": "raw",
   "source": [
    "# #%% md\n",
    "# Shipper-Brand Relation"
   ],
   "metadata": {
    "collapsed": false
   },
   "id": "43393a88d8db239d"
  },
  {
   "cell_type": "markdown",
   "source": [
    "Esse notebook tem por objetivo fazer a relação de empresas que importam somente uma marca, facilitando a relação importador-"
   ],
   "metadata": {
    "collapsed": false
   },
   "id": "ee3547a85086aa1f"
  },
  {
   "cell_type": "code",
   "execution_count": 77,
   "id": "2247626460e056ff",
   "metadata": {
    "collapsed": true,
    "ExecuteTime": {
     "end_time": "2024-03-08T19:41:37.764242100Z",
     "start_time": "2024-03-08T19:41:36.944247700Z"
    }
   },
   "outputs": [],
   "source": [
    "# Importing the modules needed\n",
    "import sys\n",
    "\n",
    "import pandas as pd\n",
    "\n",
    "sys.path.append(\"../src/\")\n",
    "\n",
    "from src.data.dremio_utils import *\n",
    "# Data Handling\n",
    "from dotenv import dotenv_values \n",
    "\n",
    "import numpy as np\n",
    "from tqdm import tqdm\n",
    "from pyspark import SparkContext\n",
    "from pyspark.sql import SparkSession\n",
    "from pyspark.sql.functions import udf\n",
    "from pyspark.sql.types import StructType, StructField, StringType, IntegerType, FloatType, DateType, TimestampType\n",
    "\n",
    "from xgboost import XGBRegressor\n",
    "\n",
    "from sklearn.preprocessing import LabelEncoder\n",
    "# import pyspark.pandas as pd"
   ]
  },
  {
   "cell_type": "code",
   "execution_count": 78,
   "outputs": [],
   "source": [
    "spark = SparkSession.builder.master(\"local[1]\").appName(\"attributes_dict\").getOrCreate()"
   ],
   "metadata": {
    "collapsed": false,
    "ExecuteTime": {
     "end_time": "2024-03-08T19:41:37.797040400Z",
     "start_time": "2024-03-08T19:41:36.959303Z"
    }
   },
   "id": "9f4b6b3ba58fedc9"
  },
  {
   "cell_type": "code",
   "execution_count": 79,
   "outputs": [],
   "source": [
    "config = dotenv_values(\".env\")\n",
    "bds = BaseDremioService(config)"
   ],
   "metadata": {
    "collapsed": false,
    "ExecuteTime": {
     "end_time": "2024-03-08T19:41:37.797040400Z",
     "start_time": "2024-03-08T19:41:36.990565900Z"
    }
   },
   "id": "b958cb0ee3f1a4f9"
  },
  {
   "cell_type": "markdown",
   "source": [
    "## 1. Getting Merged Data"
   ],
   "metadata": {
    "collapsed": false
   },
   "id": "7a857a09bd42d6f3"
  },
  {
   "cell_type": "code",
   "execution_count": 80,
   "outputs": [],
   "source": [
    "grouped_data = pd.read_parquet(\"../data/processed/average_unity_price_historic.parquet\")\n",
    "grouped_data.dropna(inplace=True)\n",
    "grouped_data = grouped_data[(grouped_data[\"importador_uf\"] != \"\") & (grouped_data[\"importador_municipio\"] != \"\")].copy()"
   ],
   "metadata": {
    "collapsed": false,
    "ExecuteTime": {
     "end_time": "2024-03-08T19:41:53.604948700Z",
     "start_time": "2024-03-08T19:41:37.022570100Z"
    }
   },
   "id": "890265008d0fe9c4"
  },
  {
   "cell_type": "code",
   "execution_count": 81,
   "outputs": [
    {
     "data": {
      "text/plain": "(9390031, 10)"
     },
     "execution_count": 81,
     "metadata": {},
     "output_type": "execute_result"
    }
   ],
   "source": [
    "grouped_data.shape"
   ],
   "metadata": {
    "collapsed": false,
    "ExecuteTime": {
     "end_time": "2024-03-08T19:41:53.651821500Z",
     "start_time": "2024-03-08T19:41:53.604948700Z"
    }
   },
   "id": "177c9d331430d11a"
  },
  {
   "cell_type": "code",
   "execution_count": 82,
   "outputs": [],
   "source": [
    "grouped_data = grouped_data.groupby(['ncm', 'importador_uf', 'importador_municipio', 'urf', 'id_pais_origem', 'ano', 'semestre'], \n",
    "                                    as_index=False).mean('avg_valor_item')"
   ],
   "metadata": {
    "collapsed": false,
    "ExecuteTime": {
     "end_time": "2024-03-08T19:42:01.519449900Z",
     "start_time": "2024-03-08T19:41:53.636312800Z"
    }
   },
   "id": "42996bef6833a929"
  },
  {
   "cell_type": "markdown",
   "source": [
    "## 2. Feature Engineering"
   ],
   "metadata": {
    "collapsed": false
   },
   "id": "a5b0ffaee94ce58b"
  },
  {
   "cell_type": "code",
   "execution_count": 83,
   "outputs": [],
   "source": [
    "# years_df = pd.DataFrame.from_dict({\"ano\": [2022, 2023]})\n",
    "years_df = pd.DataFrame.from_dict({\"ano\": [2018, 2019, 2020, 2021, 2022, 2023]})\n",
    "semesters_df = pd.DataFrame.from_dict({\"semestre\": [1, 2]})\n",
    "gabarito_datas = years_df.join(semesters_df, how=\"cross\")\n",
    "gabarito_datas[\"ano_semestre\"] =  gabarito_datas[\"ano\"]*100 + gabarito_datas[\"semestre\"] \n",
    "# gabarito_datas.drop(columns=[\"ano\", \"semestre\"], inplace=True)"
   ],
   "metadata": {
    "collapsed": false,
    "ExecuteTime": {
     "end_time": "2024-03-08T19:42:01.551138800Z",
     "start_time": "2024-03-08T19:42:01.527494Z"
    }
   },
   "id": "ca82d8f02de1b8c1"
  },
  {
   "cell_type": "code",
   "execution_count": 84,
   "outputs": [],
   "source": [
    "unique_keys = grouped_data[[\"ncm\", \"id_pais_origem\", \"importador_uf\", \"importador_municipio\", \"urf\"]].drop_duplicates()\n",
    "df_2b_filled = unique_keys.join(gabarito_datas, how=\"cross\")"
   ],
   "metadata": {
    "collapsed": false,
    "ExecuteTime": {
     "end_time": "2024-03-08T19:42:10.450083300Z",
     "start_time": "2024-03-08T19:42:01.551138800Z"
    }
   },
   "id": "a36b5d48f8a46165"
  },
  {
   "cell_type": "code",
   "execution_count": 85,
   "outputs": [],
   "source": [
    "grouped_data[\"ano_semestre\"] = grouped_data[\"ano_semestre\"].astype(int)\n",
    "grouped_data[\"ano\"] = grouped_data[\"ano\"].astype(int)\n",
    "grouped_data[\"semestre\"] = grouped_data[\"semestre\"].astype(int)"
   ],
   "metadata": {
    "collapsed": false,
    "ExecuteTime": {
     "end_time": "2024-03-08T19:42:10.685623500Z",
     "start_time": "2024-03-08T19:42:10.465806200Z"
    }
   },
   "id": "6d160cb511e8570"
  },
  {
   "cell_type": "code",
   "execution_count": 86,
   "outputs": [],
   "source": [
    "df_filled = df_2b_filled.merge(grouped_data, how='left', \n",
    "                               on=[\"ncm\", \"id_pais_origem\", \"importador_uf\", \"importador_municipio\", \"urf\", \"ano_semestre\", \"ano\", \"semestre\"])"
   ],
   "metadata": {
    "collapsed": false,
    "ExecuteTime": {
     "end_time": "2024-03-08T19:42:37.215849300Z",
     "start_time": "2024-03-08T19:42:10.685623500Z"
    }
   },
   "id": "6ddfa9f873966e61"
  },
  {
   "cell_type": "code",
   "execution_count": 87,
   "outputs": [],
   "source": [
    "# df_filled[\"avg_valor_item\"] = df_filled[\"avg_valor_item\"].interpolate() "
   ],
   "metadata": {
    "collapsed": false,
    "ExecuteTime": {
     "end_time": "2024-03-08T19:42:37.278783300Z",
     "start_time": "2024-03-08T19:42:37.263135800Z"
    }
   },
   "id": "ff5cd42db8b3dcae"
  },
  {
   "cell_type": "code",
   "execution_count": 88,
   "outputs": [
    {
     "data": {
      "text/plain": "(28499640, 9)"
     },
     "execution_count": 88,
     "metadata": {},
     "output_type": "execute_result"
    }
   ],
   "source": [
    "df_filled.shape"
   ],
   "metadata": {
    "collapsed": false,
    "ExecuteTime": {
     "end_time": "2024-03-08T19:42:37.341272700Z",
     "start_time": "2024-03-08T19:42:37.278783300Z"
    }
   },
   "id": "9d7532e9238c7f8f"
  },
  {
   "cell_type": "code",
   "execution_count": 89,
   "outputs": [],
   "source": [
    "# Saving the interpolation\n",
    "# df_filled.to_parquet(\"../data/interim/interpolated_data.parquet\")\n",
    "# df_filled.shape[0]"
   ],
   "metadata": {
    "collapsed": false,
    "ExecuteTime": {
     "end_time": "2024-03-08T19:42:37.341272700Z",
     "start_time": "2024-03-08T19:42:37.310032300Z"
    }
   },
   "id": "da2118e56777e90e"
  },
  {
   "cell_type": "code",
   "execution_count": 90,
   "outputs": [
    {
     "name": "stderr",
     "output_type": "stream",
     "text": [
      "Converting categorical column urf: 100%|██████████| 5/5 [00:17<00:00,  3.49s/it]                 \n"
     ]
    }
   ],
   "source": [
    "categorical_columns =[\"id_pais_origem\",\n",
    "\"importador_municipio\",\n",
    "\"importador_uf\",\n",
    "\"ncm\",\n",
    "\"urf\"]\n",
    "\n",
    "label_encoders = {}\n",
    "with tqdm(total=len(categorical_columns)) as pbar:\n",
    "    for column in categorical_columns:\n",
    "        pbar.set_description(f\"Converting categorical column {column}\")\n",
    "        le = LabelEncoder()\n",
    "        unique_values = df_filled[column].unique()\n",
    "        le.fit(unique_values)\n",
    "        encoded_column = column + \"_label\"\n",
    "        df_filled[encoded_column] = le.transform(df_filled[column])\n",
    "        label_encoders[column] = le\n",
    "        pbar.update(1)"
   ],
   "metadata": {
    "collapsed": false,
    "ExecuteTime": {
     "end_time": "2024-03-08T19:42:54.893661Z",
     "start_time": "2024-03-08T19:42:37.357940700Z"
    }
   },
   "id": "92d61fe86272eca9"
  },
  {
   "cell_type": "code",
   "execution_count": 91,
   "outputs": [],
   "source": [
    "df_filled[\"ano\"] = df_filled[\"ano_semestre\"].astype(str).str[:4].astype(int)"
   ],
   "metadata": {
    "collapsed": false,
    "ExecuteTime": {
     "end_time": "2024-03-08T19:43:08.944088100Z",
     "start_time": "2024-03-08T19:43:02.832442300Z"
    }
   },
   "id": "1a637c54c38ebca7"
  },
  {
   "cell_type": "code",
   "execution_count": 92,
   "outputs": [],
   "source": [
    "df_filled[\"semestre\"] = df_filled[\"ano_semestre\"].astype(str).str[-1:].astype(int)"
   ],
   "metadata": {
    "collapsed": false,
    "ExecuteTime": {
     "end_time": "2024-03-08T19:43:19.616081Z",
     "start_time": "2024-03-08T19:43:08.944088100Z"
    }
   },
   "id": "c2db16fe3c483df6"
  },
  {
   "cell_type": "code",
   "execution_count": 93,
   "outputs": [],
   "source": [
    "df_filled = df_filled[df_filled[\"avg_valor_item\"] > 0].copy()"
   ],
   "metadata": {
    "collapsed": false,
    "ExecuteTime": {
     "end_time": "2024-03-08T19:43:22.576154400Z",
     "start_time": "2024-03-08T19:43:19.616081Z"
    }
   },
   "id": "ed6dd162cb60b9f4"
  },
  {
   "cell_type": "code",
   "execution_count": 94,
   "outputs": [],
   "source": [
    "# df_filled = df_filled[df_filled[\"ano_semestre\"] >=20222]"
   ],
   "metadata": {
    "collapsed": false,
    "ExecuteTime": {
     "end_time": "2024-03-08T19:43:22.591247500Z",
     "start_time": "2024-03-08T19:43:22.576154400Z"
    }
   },
   "id": "6c277718eae9acdc"
  },
  {
   "cell_type": "code",
   "execution_count": 95,
   "outputs": [],
   "source": [
    "df_filled.dropna(subset=\"avg_valor_item\", axis=0, inplace=True)\n",
    "x = df_filled[[\"ncm_label\", \"id_pais_origem_label\", \"importador_uf_label\", \"importador_municipio_label\", \"urf_label\", \"ano_semestre\",\n",
    "               \"ano\", \"semestre\"]].copy()\n",
    "y = df_filled[\"avg_valor_item\"]"
   ],
   "metadata": {
    "collapsed": false,
    "ExecuteTime": {
     "end_time": "2024-03-08T19:43:24.136668100Z",
     "start_time": "2024-03-08T19:43:22.606885500Z"
    }
   },
   "id": "498d4a3c62f2f579"
  },
  {
   "cell_type": "code",
   "execution_count": 96,
   "outputs": [
    {
     "data": {
      "text/plain": "XGBRegressor(base_score=None, booster=None, callbacks=None,\n             colsample_bylevel=None, colsample_bynode=None,\n             colsample_bytree=None, device=None, early_stopping_rounds=None,\n             enable_categorical=False, eval_metric=None, feature_types=None,\n             gamma=None, grow_policy=None, importance_type=None,\n             interaction_constraints=None, learning_rate=None, max_bin=None,\n             max_cat_threshold=None, max_cat_to_onehot=None,\n             max_delta_step=None, max_depth=None, max_leaves=None,\n             min_child_weight=None, missing=nan, monotone_constraints=None,\n             multi_strategy=None, n_estimators=None, n_jobs=None,\n             num_parallel_tree=None, random_state=None, ...)",
      "text/html": "<style>#sk-container-id-4 {color: black;}#sk-container-id-4 pre{padding: 0;}#sk-container-id-4 div.sk-toggleable {background-color: white;}#sk-container-id-4 label.sk-toggleable__label {cursor: pointer;display: block;width: 100%;margin-bottom: 0;padding: 0.3em;box-sizing: border-box;text-align: center;}#sk-container-id-4 label.sk-toggleable__label-arrow:before {content: \"▸\";float: left;margin-right: 0.25em;color: #696969;}#sk-container-id-4 label.sk-toggleable__label-arrow:hover:before {color: black;}#sk-container-id-4 div.sk-estimator:hover label.sk-toggleable__label-arrow:before {color: black;}#sk-container-id-4 div.sk-toggleable__content {max-height: 0;max-width: 0;overflow: hidden;text-align: left;background-color: #f0f8ff;}#sk-container-id-4 div.sk-toggleable__content pre {margin: 0.2em;color: black;border-radius: 0.25em;background-color: #f0f8ff;}#sk-container-id-4 input.sk-toggleable__control:checked~div.sk-toggleable__content {max-height: 200px;max-width: 100%;overflow: auto;}#sk-container-id-4 input.sk-toggleable__control:checked~label.sk-toggleable__label-arrow:before {content: \"▾\";}#sk-container-id-4 div.sk-estimator input.sk-toggleable__control:checked~label.sk-toggleable__label {background-color: #d4ebff;}#sk-container-id-4 div.sk-label input.sk-toggleable__control:checked~label.sk-toggleable__label {background-color: #d4ebff;}#sk-container-id-4 input.sk-hidden--visually {border: 0;clip: rect(1px 1px 1px 1px);clip: rect(1px, 1px, 1px, 1px);height: 1px;margin: -1px;overflow: hidden;padding: 0;position: absolute;width: 1px;}#sk-container-id-4 div.sk-estimator {font-family: monospace;background-color: #f0f8ff;border: 1px dotted black;border-radius: 0.25em;box-sizing: border-box;margin-bottom: 0.5em;}#sk-container-id-4 div.sk-estimator:hover {background-color: #d4ebff;}#sk-container-id-4 div.sk-parallel-item::after {content: \"\";width: 100%;border-bottom: 1px solid gray;flex-grow: 1;}#sk-container-id-4 div.sk-label:hover label.sk-toggleable__label {background-color: #d4ebff;}#sk-container-id-4 div.sk-serial::before {content: \"\";position: absolute;border-left: 1px solid gray;box-sizing: border-box;top: 0;bottom: 0;left: 50%;z-index: 0;}#sk-container-id-4 div.sk-serial {display: flex;flex-direction: column;align-items: center;background-color: white;padding-right: 0.2em;padding-left: 0.2em;position: relative;}#sk-container-id-4 div.sk-item {position: relative;z-index: 1;}#sk-container-id-4 div.sk-parallel {display: flex;align-items: stretch;justify-content: center;background-color: white;position: relative;}#sk-container-id-4 div.sk-item::before, #sk-container-id-4 div.sk-parallel-item::before {content: \"\";position: absolute;border-left: 1px solid gray;box-sizing: border-box;top: 0;bottom: 0;left: 50%;z-index: -1;}#sk-container-id-4 div.sk-parallel-item {display: flex;flex-direction: column;z-index: 1;position: relative;background-color: white;}#sk-container-id-4 div.sk-parallel-item:first-child::after {align-self: flex-end;width: 50%;}#sk-container-id-4 div.sk-parallel-item:last-child::after {align-self: flex-start;width: 50%;}#sk-container-id-4 div.sk-parallel-item:only-child::after {width: 0;}#sk-container-id-4 div.sk-dashed-wrapped {border: 1px dashed gray;margin: 0 0.4em 0.5em 0.4em;box-sizing: border-box;padding-bottom: 0.4em;background-color: white;}#sk-container-id-4 div.sk-label label {font-family: monospace;font-weight: bold;display: inline-block;line-height: 1.2em;}#sk-container-id-4 div.sk-label-container {text-align: center;}#sk-container-id-4 div.sk-container {/* jupyter's `normalize.less` sets `[hidden] { display: none; }` but bootstrap.min.css set `[hidden] { display: none !important; }` so we also need the `!important` here to be able to override the default hidden behavior on the sphinx rendered scikit-learn.org. See: https://github.com/scikit-learn/scikit-learn/issues/21755 */display: inline-block !important;position: relative;}#sk-container-id-4 div.sk-text-repr-fallback {display: none;}</style><div id=\"sk-container-id-4\" class=\"sk-top-container\"><div class=\"sk-text-repr-fallback\"><pre>XGBRegressor(base_score=None, booster=None, callbacks=None,\n             colsample_bylevel=None, colsample_bynode=None,\n             colsample_bytree=None, device=None, early_stopping_rounds=None,\n             enable_categorical=False, eval_metric=None, feature_types=None,\n             gamma=None, grow_policy=None, importance_type=None,\n             interaction_constraints=None, learning_rate=None, max_bin=None,\n             max_cat_threshold=None, max_cat_to_onehot=None,\n             max_delta_step=None, max_depth=None, max_leaves=None,\n             min_child_weight=None, missing=nan, monotone_constraints=None,\n             multi_strategy=None, n_estimators=None, n_jobs=None,\n             num_parallel_tree=None, random_state=None, ...)</pre><b>In a Jupyter environment, please rerun this cell to show the HTML representation or trust the notebook. <br />On GitHub, the HTML representation is unable to render, please try loading this page with nbviewer.org.</b></div><div class=\"sk-container\" hidden><div class=\"sk-item\"><div class=\"sk-estimator sk-toggleable\"><input class=\"sk-toggleable__control sk-hidden--visually\" id=\"sk-estimator-id-4\" type=\"checkbox\" checked><label for=\"sk-estimator-id-4\" class=\"sk-toggleable__label sk-toggleable__label-arrow\">XGBRegressor</label><div class=\"sk-toggleable__content\"><pre>XGBRegressor(base_score=None, booster=None, callbacks=None,\n             colsample_bylevel=None, colsample_bynode=None,\n             colsample_bytree=None, device=None, early_stopping_rounds=None,\n             enable_categorical=False, eval_metric=None, feature_types=None,\n             gamma=None, grow_policy=None, importance_type=None,\n             interaction_constraints=None, learning_rate=None, max_bin=None,\n             max_cat_threshold=None, max_cat_to_onehot=None,\n             max_delta_step=None, max_depth=None, max_leaves=None,\n             min_child_weight=None, missing=nan, monotone_constraints=None,\n             multi_strategy=None, n_estimators=None, n_jobs=None,\n             num_parallel_tree=None, random_state=None, ...)</pre></div></div></div></div></div>"
     },
     "execution_count": 96,
     "metadata": {},
     "output_type": "execute_result"
    }
   ],
   "source": [
    "xgbr = XGBRegressor()\n",
    "xgbr.fit(x, y)"
   ],
   "metadata": {
    "collapsed": false,
    "ExecuteTime": {
     "end_time": "2024-03-08T19:43:38.792862700Z",
     "start_time": "2024-03-08T19:43:24.153805100Z"
    }
   },
   "id": "8c29fb41b589f468"
  },
  {
   "cell_type": "code",
   "execution_count": 97,
   "outputs": [],
   "source": [
    "predict_df = pd.DataFrame.from_dict({\"ano\": [2024, 2024], \"semestre\": [1, 2]})\n",
    "predict_df[\"ano_semestre\"] = predict_df[\"ano\"]*10 + predict_df[\"semestre\"] \n",
    "unique_keys = df_filled[[\"ncm_label\", \"id_pais_origem_label\", \"importador_uf_label\", \"importador_municipio_label\", \"urf_label\"]].drop_duplicates()\n",
    "df_2b_predicted = unique_keys.join(predict_df, how=\"cross\")"
   ],
   "metadata": {
    "collapsed": false,
    "ExecuteTime": {
     "end_time": "2024-03-08T19:43:39.785881200Z",
     "start_time": "2024-03-08T19:43:38.746947700Z"
    }
   },
   "id": "59c0f6ef71e1ffc8"
  },
  {
   "cell_type": "code",
   "execution_count": 98,
   "outputs": [],
   "source": [
    "x_pred = df_2b_predicted[[\"ncm_label\", \"id_pais_origem_label\", \"importador_uf_label\", \"importador_municipio_label\", \"urf_label\", \"ano_semestre\", \"ano\", \"semestre\"]]\n",
    "y_pred = xgbr.predict(x_pred)"
   ],
   "metadata": {
    "collapsed": false,
    "ExecuteTime": {
     "end_time": "2024-03-08T19:43:41.403201700Z",
     "start_time": "2024-03-08T19:43:39.785881200Z"
    }
   },
   "id": "f46d38b15549051a"
  },
  {
   "cell_type": "code",
   "execution_count": 99,
   "outputs": [
    {
     "name": "stderr",
     "output_type": "stream",
     "text": [
      "Unconverting categorical column urf: 100%|██████████| 5/5 [00:01<00:00,  3.63it/s]                 \n"
     ]
    }
   ],
   "source": [
    "predicted_df = pd.DataFrame(x_pred)\n",
    "with tqdm(total=len(categorical_columns)) as pbar:\n",
    "    for column in categorical_columns:\n",
    "        pbar.set_description(f\"Unconverting categorical column {column}\")\n",
    "        le = label_encoders[column]\n",
    "        predicted_df[column] = le.inverse_transform(predicted_df[column + \"_label\"])\n",
    "        predicted_df.drop(columns=[column + \"_label\"], inplace=True)\n",
    "        pbar.update(1)"
   ],
   "metadata": {
    "collapsed": false,
    "ExecuteTime": {
     "end_time": "2024-03-08T19:43:42.848052400Z",
     "start_time": "2024-03-08T19:43:41.403201700Z"
    }
   },
   "id": "e7b615f9d856a9aa"
  },
  {
   "cell_type": "code",
   "execution_count": 100,
   "outputs": [
    {
     "data": {
      "text/plain": "   ano_semestre   ano  semestre id_pais_origem importador_municipio  \\\n0         20241  2024         1      ARGENTINA                   RS   \n1         20242  2024         2      ARGENTINA                   RS   \n2         20241  2024         1      ARGENTINA                   RS   \n3         20242  2024         2      ARGENTINA                   RS   \n4         20241  2024         1        URUGUAI                   RS   \n\n  importador_uf        ncm                                             urf  \\\n0   PASSO FUNDO  1.00111E7  AEROPORTO INTERNACIONAL DE SAO PAULO/GUARULHOS   \n1   PASSO FUNDO  1.00111E7  AEROPORTO INTERNACIONAL DE SAO PAULO/GUARULHOS   \n2   PASSO FUNDO  1.00111E7                                ALF - URUGUAIANA   \n3   PASSO FUNDO  1.00111E7                                ALF - URUGUAIANA   \n4   PASSO FUNDO  1.00111E7                       IRF SANTANA DO LIVRAMENTO   \n\n   avg_valor_item  \n0  -186855.250000  \n1  -103427.773438  \n2    81168.015625  \n3    34145.562500  \n4   -71863.898438  ",
      "text/html": "<div>\n<style scoped>\n    .dataframe tbody tr th:only-of-type {\n        vertical-align: middle;\n    }\n\n    .dataframe tbody tr th {\n        vertical-align: top;\n    }\n\n    .dataframe thead th {\n        text-align: right;\n    }\n</style>\n<table border=\"1\" class=\"dataframe\">\n  <thead>\n    <tr style=\"text-align: right;\">\n      <th></th>\n      <th>ano_semestre</th>\n      <th>ano</th>\n      <th>semestre</th>\n      <th>id_pais_origem</th>\n      <th>importador_municipio</th>\n      <th>importador_uf</th>\n      <th>ncm</th>\n      <th>urf</th>\n      <th>avg_valor_item</th>\n    </tr>\n  </thead>\n  <tbody>\n    <tr>\n      <th>0</th>\n      <td>20241</td>\n      <td>2024</td>\n      <td>1</td>\n      <td>ARGENTINA</td>\n      <td>RS</td>\n      <td>PASSO FUNDO</td>\n      <td>1.00111E7</td>\n      <td>AEROPORTO INTERNACIONAL DE SAO PAULO/GUARULHOS</td>\n      <td>-186855.250000</td>\n    </tr>\n    <tr>\n      <th>1</th>\n      <td>20242</td>\n      <td>2024</td>\n      <td>2</td>\n      <td>ARGENTINA</td>\n      <td>RS</td>\n      <td>PASSO FUNDO</td>\n      <td>1.00111E7</td>\n      <td>AEROPORTO INTERNACIONAL DE SAO PAULO/GUARULHOS</td>\n      <td>-103427.773438</td>\n    </tr>\n    <tr>\n      <th>2</th>\n      <td>20241</td>\n      <td>2024</td>\n      <td>1</td>\n      <td>ARGENTINA</td>\n      <td>RS</td>\n      <td>PASSO FUNDO</td>\n      <td>1.00111E7</td>\n      <td>ALF - URUGUAIANA</td>\n      <td>81168.015625</td>\n    </tr>\n    <tr>\n      <th>3</th>\n      <td>20242</td>\n      <td>2024</td>\n      <td>2</td>\n      <td>ARGENTINA</td>\n      <td>RS</td>\n      <td>PASSO FUNDO</td>\n      <td>1.00111E7</td>\n      <td>ALF - URUGUAIANA</td>\n      <td>34145.562500</td>\n    </tr>\n    <tr>\n      <th>4</th>\n      <td>20241</td>\n      <td>2024</td>\n      <td>1</td>\n      <td>URUGUAI</td>\n      <td>RS</td>\n      <td>PASSO FUNDO</td>\n      <td>1.00111E7</td>\n      <td>IRF SANTANA DO LIVRAMENTO</td>\n      <td>-71863.898438</td>\n    </tr>\n  </tbody>\n</table>\n</div>"
     },
     "execution_count": 100,
     "metadata": {},
     "output_type": "execute_result"
    }
   ],
   "source": [
    "predicted_df[\"avg_valor_item\"] = y_pred\n",
    "predicted_df.head()"
   ],
   "metadata": {
    "collapsed": false,
    "ExecuteTime": {
     "end_time": "2024-03-08T19:43:42.880340Z",
     "start_time": "2024-03-08T19:43:42.801169700Z"
    }
   },
   "id": "ace9003e73145a52"
  },
  {
   "cell_type": "code",
   "execution_count": 101,
   "outputs": [],
   "source": [
    "predicted_df.to_parquet(\"../data/processed/xgboost_trendline.parquet\")"
   ],
   "metadata": {
    "collapsed": false,
    "ExecuteTime": {
     "end_time": "2024-03-08T19:43:48.098621300Z",
     "start_time": "2024-03-08T19:43:42.832432900Z"
    }
   },
   "id": "18f3856a89060c6a"
  }
 ],
 "metadata": {
  "kernelspec": {
   "display_name": "Python 3",
   "language": "python",
   "name": "python3"
  },
  "language_info": {
   "codemirror_mode": {
    "name": "ipython",
    "version": 2
   },
   "file_extension": ".py",
   "mimetype": "text/x-python",
   "name": "python",
   "nbconvert_exporter": "python",
   "pygments_lexer": "ipython2",
   "version": "2.7.6"
  }
 },
 "nbformat": 4,
 "nbformat_minor": 5
}
