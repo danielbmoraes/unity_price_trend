{
 "cells": [
  {
   "cell_type": "raw",
   "source": [
    "# #%% md\n",
    "# Shipper-Brand Relation"
   ],
   "metadata": {
    "collapsed": false
   },
   "id": "43393a88d8db239d"
  },
  {
   "cell_type": "markdown",
   "source": [
    "Esse notebook tem por objetivo fazer a relação de empresas que importam somente uma marca, facilitando a relação importador-"
   ],
   "metadata": {
    "collapsed": false
   },
   "id": "ee3547a85086aa1f"
  },
  {
   "cell_type": "code",
   "execution_count": null,
   "id": "2247626460e056ff",
   "metadata": {
    "collapsed": true
   },
   "outputs": [],
   "source": [
    "# Importing the modules needed\n",
    "import sys\n",
    "\n",
    "import pandas as pd\n",
    "\n",
    "sys.path.append(\"../src/\")\n",
    "\n",
    "from src.data.dremio_utils import *\n",
    "# Data Handling\n",
    "from dotenv import dotenv_values \n",
    "\n",
    "import numpy as np\n",
    "from tqdm import tqdm\n",
    "from pyspark import SparkContext\n",
    "from pyspark.sql import SparkSession\n",
    "from pyspark.sql.functions import udf\n",
    "from pyspark.sql.types import StructType, StructField, StringType, IntegerType, FloatType, DateType, TimestampType\n",
    "\n",
    "# import pyspark.pandas as pd"
   ]
  },
  {
   "cell_type": "code",
   "execution_count": null,
   "outputs": [],
   "source": [
    "spark = SparkSession.builder.master(\"local[1]\").appName(\"attributes_dict\").getOrCreate()"
   ],
   "metadata": {
    "collapsed": false
   },
   "id": "9f4b6b3ba58fedc9"
  },
  {
   "cell_type": "code",
   "execution_count": null,
   "outputs": [],
   "source": [
    "config = dotenv_values(\".env\")\n",
    "bds = BaseDremioService(config)"
   ],
   "metadata": {
    "collapsed": false
   },
   "id": "b958cb0ee3f1a4f9"
  },
  {
   "cell_type": "markdown",
   "source": [
    "## 1. Getting Merged Data"
   ],
   "metadata": {
    "collapsed": false
   },
   "id": "7a857a09bd42d6f3"
  },
  {
   "cell_type": "code",
   "execution_count": null,
   "outputs": [],
   "source": [
    "grouped_data = pd.read_parquet(\"../data/processed/average_unity_price_historic.parquet\")\n",
    "grouped_data.dropna(inplace=True)\n",
    "grouped_data = grouped_data[(grouped_data[\"importador_uf\"] != \"\") & (grouped_data[\"importador_municipio\"] != \"\")].copy()"
   ],
   "metadata": {
    "collapsed": false
   },
   "id": "890265008d0fe9c4"
  },
  {
   "cell_type": "code",
   "execution_count": null,
   "outputs": [],
   "source": [
    "# desinverter UF e municipio\n",
    "estados_br = [\"AC\",\"AL\",\"AP\",\"AM\",\"BA\",\"CE\",\"ES\",\"GO\",\"MA\",\"MT\",\"MS\",\"MG\",\"PA\",\"PB\",\"PR\",\"PE\",\n",
    "              \"PI\",\"RJ\",\"RN\",\"RS\",\"RO\",\"RR\",\"SC\",\"SP\",\"SE\",\"TO\",\"DF\"]\n",
    "\n",
    "grouped_data[\"old_municipio\"] = grouped_data[\"importador_municipio\"] "
   ],
   "metadata": {
    "collapsed": false
   },
   "id": "2c517f33d74519fd"
  },
  {
   "cell_type": "code",
   "execution_count": null,
   "outputs": [],
   "source": [
    "print(\"Ajustando importador UF\")\n",
    "grouped_data[\"importador_uf_new\"] = grouped_data.apply(lambda x: x[\"importador_uf\"] if x[\"importador_uf\"] in estados_br \\\n",
    "    else x[\"importador_municipio\"], axis=1)\n",
    "\n",
    "print(\"Ajustando importador municipio\")\n",
    "grouped_data[\"importador_municipio_new\"] = grouped_data.apply(lambda x: x[\"old_municipio\"] if x[\"old_municipio\"] not in estados_br \\\n",
    "    else x[\"importador_uf\"],axis=1)"
   ],
   "metadata": {
    "collapsed": false
   },
   "id": "e97ef0b2e11c600"
  },
  {
   "cell_type": "code",
   "execution_count": null,
   "outputs": [],
   "source": [
    "grouped_data = grouped_data.groupby(['ncm', 'importador_uf', 'importador_municipio', 'urf', 'id_pais_origem', 'ano', 'semestre'], \n",
    "                as_index=False).mean('avg_valor_item')"
   ],
   "metadata": {
    "collapsed": false
   },
   "id": "42996bef6833a929"
  },
  {
   "cell_type": "markdown",
   "source": [
    "```python\n",
    "# MVP\n",
    "teste_base = {\"ncm\": ['123456','123456','123456','123456'],\n",
    "              \"importador_uf\": ['123456', '123456','123456','123456',],\n",
    "              \"ano\": [2018, 2018, 2019, 2020],\n",
    "              \"semestre\": [1,2,1,1],\n",
    "              \"valor_unitario\": [1.2, 1.1, 1.3, 1.4]}\n",
    "\n",
    "df_base = pd.DataFrame(teste_base)\n",
    "df_base[\"ano_semestre\"] = df_base[\"ano\"]*100 + df_base[\"semestre\"]\n",
    "\n",
    "new_data = {\"ano\": [2024, 2024],\n",
    "            \"semestre\": [1,2]}\n",
    "df_new_data = pd.DataFrame(new_data)\n",
    "\n",
    "df_new_data[\"ncm\"] = \"123456\"\n",
    "df_new_data[\"importador_uf\"] = \"123456\"\n",
    "df_new_data[\"ano_semestre\"] = df_new_data[\"ano\"]*100 + df_new_data[\"semestre\"]\n",
    "\n",
    "df_last = pd.concat([df_base, df_new_data])\n",
    "# df_last[\"ano_semestre\"] = df_last[\"ano\"]*100 + df_last[\"semestre\"] \n",
    "z = np.polyfit(df_base[\"ano_semestre\"], df_base[\"valor_unitario\"], 1)\n",
    "p = np.poly1d(z)\n",
    "p(df_last[\"ano_semestre\"])\n",
    "# p\n",
    "```"
   ],
   "metadata": {
    "collapsed": false
   },
   "id": "85dc3d7275cfab4a"
  },
  {
   "cell_type": "markdown",
   "source": [
    "## 3.1 Usage in the grouped dataset"
   ],
   "metadata": {
    "collapsed": false
   },
   "id": "a5b0ffaee94ce58b"
  },
  {
   "cell_type": "markdown",
   "source": [
    "### 3.1.1 Create the data to be trended"
   ],
   "metadata": {
    "collapsed": false
   },
   "id": "cd1e99698efc09c"
  },
  {
   "cell_type": "code",
   "execution_count": null,
   "outputs": [],
   "source": [
    "years_df = pd.DataFrame.from_dict({\"ano\": [2018, 2019, 2020, 2021, 2022, 2023]})\n",
    "semesters_df = pd.DataFrame.from_dict({\"semestre\": [1, 2]})\n",
    "gabarito_datas = years_df.join(semesters_df, how=\"cross\")\n",
    "gabarito_datas[\"ano_semestre\"] =  gabarito_datas[\"ano\"]*100 + gabarito_datas[\"semestre\"] \n",
    "gabarito_datas.drop(columns=[\"ano\", \"semestre\"], inplace=True)"
   ],
   "metadata": {
    "collapsed": false
   },
   "id": "ca82d8f02de1b8c1"
  },
  {
   "cell_type": "code",
   "execution_count": null,
   "outputs": [],
   "source": [
    "new_data = {\"ano\": [2024, 2024],\n",
    "            \"semestre\": [1,2]}\n",
    "df_new_data = pd.DataFrame(new_data)"
   ],
   "metadata": {
    "collapsed": false
   },
   "id": "cdd600852d4dc541"
  },
  {
   "cell_type": "markdown",
   "source": [
    "### 3.1.2 Create the X-axis"
   ],
   "metadata": {
    "collapsed": false
   },
   "id": "f2a0d25981385f67"
  },
  {
   "cell_type": "code",
   "execution_count": null,
   "outputs": [],
   "source": [
    "df_new_data[\"ano_semestre\"] = df_new_data[\"ano\"]*100 + df_new_data[\"semestre\"]"
   ],
   "metadata": {
    "collapsed": false
   },
   "id": "7b28127cb69eea21"
  },
  {
   "cell_type": "markdown",
   "source": [
    "### 3.1.3 Iter over the groups"
   ],
   "metadata": {
    "collapsed": false
   },
   "id": "7e113501add3fc8a"
  },
  {
   "cell_type": "markdown",
   "source": [
    "```python\n",
    "# Snippet to select only the recurrent data \n",
    "grouped_count = grouped_data.copy()\n",
    "grouped_count[\"key\"] =  grouped_count['ncm'].astype(str) + grouped_count['importador_municipio'] + grouped_count['id_pais_origem']\n",
    "grouped_count = grouped_count.groupby(['ncm', 'importador_municipio', 'id_pais_origem'], as_index=False)[\"key\"].count()\n",
    "grouped_count.head()\n",
    "# Only the useful data\n",
    "grouped_count[\"combinations\"] =  grouped_count['ncm'].astype(str) + grouped_count['importador_municipio'] + grouped_count['id_pais_origem']\n",
    "better_combinations = grouped_count[grouped_count[\"key\"]>2][\"combinations\"].to_list()\n",
    "```"
   ],
   "metadata": {
    "collapsed": false
   },
   "id": "6db40673a1af6b71"
  },
  {
   "cell_type": "markdown",
   "source": [
    "```python\n",
    "# Snippet to check the possible combinations\n",
    "groups_qtd = grouped_data[['ncm', 'id_pais_origem']].drop_duplicates().shape[0]\n",
    "print(\"Qtt of combinations: \", groups_qtd)\n",
    "groups_qtd = grouped_data[['ncm', 'id_pais_origem', \"importador_uf\"]].drop_duplicates().shape[0]\n",
    "print(\"Qtt of combinations using more fields: \", groups_qtd)\n",
    "```"
   ],
   "metadata": {
    "collapsed": false
   },
   "id": "425f7c141592bbbc"
  },
  {
   "cell_type": "markdown",
   "source": [
    "```python\n",
    "# Creation of the key field, useless for now\n",
    "grouped = grouped_data.copy()\n",
    "grouped[\"key\"] = grouped['ncm'].astype(str) + grouped['importador_municipio'] + grouped['id_pais_origem']\n",
    "grouped = grouped_data.groupby(['ncm', 'importador_municipio', 'id_pais_origem'])\n",
    "grouped[\"key\"] = grouped['ncm'].astype(str) + grouped['importador_municipio'] + grouped['id_pais_origem']\n",
    "```"
   ],
   "metadata": {
    "collapsed": false
   },
   "id": "c17ddb4d1fdd9135"
  },
  {
   "cell_type": "code",
   "execution_count": null,
   "outputs": [],
   "source": [
    "df_total = pd.DataFrame()"
   ],
   "metadata": {
    "collapsed": false
   },
   "id": "d7aeb9963bf0b637"
  },
  {
   "cell_type": "code",
   "execution_count": null,
   "outputs": [],
   "source": [
    "df_total = pd.read_parquet(\"../data/processed/trend_values/trend_lines.parquet\")"
   ],
   "metadata": {
    "collapsed": false
   },
   "id": "71e137e883ea003e"
  },
  {
   "cell_type": "code",
   "execution_count": null,
   "outputs": [],
   "source": [
    "keys_processed = df_total[[\"ncm\", \"id_pais_origem\"]].drop_duplicates()\n",
    "keys_processed[\"key\"] = keys_processed[\"ncm\"].astype(str) + '-' + keys_processed[\"id_pais_origem\"]\n",
    "already_processed = keys_processed[\"key\"].to_list()"
   ],
   "metadata": {
    "collapsed": false
   },
   "id": "44d10fb0a66324de"
  },
  {
   "cell_type": "code",
   "execution_count": null,
   "outputs": [],
   "source": [
    "grouped_data = grouped_data[grouped_data[\"ano\"] < 2024]"
   ],
   "metadata": {
    "collapsed": false
   },
   "id": "b2c9bcb3ddfb3ef1"
  },
  {
   "cell_type": "code",
   "execution_count": null,
   "outputs": [],
   "source": [
    "grouped_data.columns"
   ],
   "metadata": {
    "collapsed": false
   },
   "id": "921453eca3793016"
  },
  {
   "cell_type": "code",
   "execution_count": null,
   "outputs": [],
   "source": [
    "grouped_data[\"key\"] = grouped_data[\"ncm\"].astype(str) + '-' + grouped_data[\"id_pais_origem\"]  + '-' + \\\n",
    "                      grouped_data['importador_uf']  + '-' + grouped_data['importador_municipio'] + '-' + grouped_data['urf']"
   ],
   "metadata": {
    "collapsed": false
   },
   "id": "eb80da183d0bc369"
  },
  {
   "cell_type": "code",
   "execution_count": null,
   "outputs": [],
   "source": [
    "count = pd.DataFrame(grouped_data[\"key\"].value_counts())\n",
    "count[\"key\"].describe()"
   ],
   "metadata": {
    "collapsed": false
   },
   "id": "6261c3b13abb04e4"
  },
  {
   "cell_type": "code",
   "execution_count": null,
   "outputs": [],
   "source": [
    "threshold_count = 4\n",
    "count = count[count[\"key\"]>=threshold_count]\n",
    "keys_2_process = count.reset_index()[\"index\"].to_list()"
   ],
   "metadata": {
    "collapsed": false
   },
   "id": "25cb816fb6996d7c"
  },
  {
   "cell_type": "code",
   "execution_count": null,
   "outputs": [],
   "source": [
    "grouped_data = grouped_data[~grouped_data[\"key\"].isin(already_processed)]\n",
    "grouped_data = grouped_data[grouped_data[\"key\"].isin(keys_2_process)]"
   ],
   "metadata": {
    "collapsed": false
   },
   "id": "42f3658ab6eeac22"
  },
  {
   "cell_type": "code",
   "execution_count": null,
   "outputs": [],
   "source": [
    "grouped_data.columns"
   ],
   "metadata": {
    "collapsed": false
   },
   "id": "4be93fe82065f62b"
  },
  {
   "cell_type": "code",
   "execution_count": null,
   "outputs": [],
   "source": [
    "# Interpolate the missing values\n",
    "# if len(df_aux_hist[\"ano_semestre\"].unique()) < 10:\n",
    "# Interpolate if it hasn't enough data to infer\n",
    "grouped_data_inter = gabarito_datas.merge(grouped_data, on=['ano_semestre'], how='left')\n",
    "grouped_data_inter[\"avg_valor_item\"] = grouped_data_inter[\"avg_valor_item\"].interpolate()\n",
    "grouped_data_inter.dropna(axis=0, inplace=True)"
   ],
   "metadata": {
    "collapsed": false
   },
   "id": "1b03a5ef82d1cb3e"
  },
  {
   "cell_type": "code",
   "execution_count": null,
   "outputs": [],
   "source": [
    "grouped_data_inter.sort_values(by='key').head()"
   ],
   "metadata": {
    "collapsed": false
   },
   "id": "f9280dd90e286a6d"
  },
  {
   "cell_type": "code",
   "execution_count": null,
   "outputs": [],
   "source": [
    "file_count = 0\n",
    "grouped = grouped_data_inter.groupby(['id_pais_origem', 'ncm', 'importador_municipio', 'urf'])\n",
    "groups_qtd = grouped_data_inter[['id_pais_origem', 'ncm', 'importador_municipio', 'urf']].drop_duplicates().shape[0]\n",
    "with tqdm(total = groups_qtd, desc=\"Creating a trend line for unity price\") as pbar:\n",
    "    for key, df_group in grouped:\n",
    "        # print(key)\n",
    "        # Create the trendline if there's enough data for it\n",
    "        df_aux_hist = grouped_data[\n",
    "                    (grouped_data['id_pais_origem'] == key[0]) &\n",
    "                    (grouped_data['ncm'] == key[1]) &\n",
    "                    # (grouped_data['importador_uf'] == key[2]) &\n",
    "                    (grouped_data['importador_municipio'] == key[2]) &\n",
    "                    (grouped_data['urf'] == key[3])\n",
    "        ].groupby([\"ano_semestre\"], as_index=False).mean(\"avg_valor_item\")\n",
    "        \n",
    "        if (df_aux_hist.shape[0] > 0) and (key[0]+ '-' + key[1] not in already_processed):             \n",
    "            \n",
    "            df_aux_trend = df_new_data.copy()\n",
    "            z = np.polyfit(df_aux_hist[\"ano_semestre\"], df_aux_hist[\"avg_valor_item\"], 1)\n",
    "            p = np.poly1d(z)\n",
    "            df_aux_trend[\"avg_valor_item\"] = p(df_aux_trend[\"ano_semestre\"])\n",
    "        \n",
    "            df_aux_trend['ncm'] = key[0]\n",
    "            df_aux_trend['id_pais_origem'] = key[1]\n",
    "            df_aux_trend[\"ano\"] = df_aux_trend[\"ano\"].astype(int)\n",
    "            \n",
    "            df_total = pd.concat([df_total,df_aux_trend])\n",
    "            file_count += 1\n",
    "            \n",
    "            \n",
    "            if file_count%200 == 0:\n",
    "                # df_aux_trend.to_parquet(f\"../data/processed/trend_values/trend_lines.parquet\", index=False, engine='fastparquet', append=True)\n",
    "                df_total.to_parquet(f\"../data/processed/trend_values/trend_lines.parquet\", index=False)\n",
    "                \n",
    "        pbar.update(1)\n",
    "        # break\n",
    "        # print(df_final)\n",
    "        # break"
   ],
   "metadata": {
    "collapsed": false
   },
   "id": "33fc03dc49aec867"
  },
  {
   "cell_type": "code",
   "execution_count": null,
   "outputs": [],
   "source": [
    "df_total.to_parquet(f\"../data/processed/trend_values/trend_lines.parquet\", index=False)"
   ],
   "metadata": {
    "collapsed": false
   },
   "id": "1e494f30fece491b"
  },
  {
   "cell_type": "code",
   "execution_count": null,
   "outputs": [],
   "source": [
    "df_aux_hist"
   ],
   "metadata": {
    "collapsed": false
   },
   "id": "1d1e66e9654ea02f"
  },
  {
   "cell_type": "code",
   "execution_count": null,
   "outputs": [],
   "source": [
    "pd.concat(gabarito_aux, df_aux_hist, on=['ano_semestre', 'ncm', 'id_pais_origem'])"
   ],
   "metadata": {
    "collapsed": false
   },
   "id": "d4dcad955628c308"
  },
  {
   "cell_type": "markdown",
   "source": [
    "# 2. Iteração sobre os grupos "
   ],
   "metadata": {
    "collapsed": false
   },
   "id": "2da18f3ad6a0b876"
  },
  {
   "cell_type": "code",
   "execution_count": null,
   "outputs": [],
   "source": [
    "for key, df_group in grouped_data.groupby(['ncm', 'importador_uf', 'importador_municipio', 'urf', 'id_pais_origem']):\n",
    "    df_group = \n",
    "    break"
   ],
   "metadata": {
    "collapsed": false
   },
   "id": "8e9ea8a69fd5f2fc"
  },
  {
   "cell_type": "code",
   "execution_count": null,
   "outputs": [],
   "source": [
    "df_group['importador_uf'][0]"
   ],
   "metadata": {
    "collapsed": false
   },
   "id": "e56c09690157b9b3"
  },
  {
   "cell_type": "code",
   "execution_count": null,
   "outputs": [],
   "source": [
    "years_df = pd.DataFrame.from_dict({\"ano\": [2018, 2019, 2020, 2021, 2022, 2023]})\n",
    "semesters_df = pd.DataFrame.from_dict({\"semestre\":[1, 2]})\n",
    "gabarito_datas = years_df.join(semesters_df, how=\"cross\")"
   ],
   "metadata": {
    "collapsed": false
   },
   "id": "443963ec9c879ca6"
  },
  {
   "cell_type": "code",
   "execution_count": null,
   "outputs": [],
   "source": [
    "gabarito_comb = unique_combinations.join(gabarito_datas, how=\"cross\")\n",
    "gabarito_comb.head()"
   ],
   "metadata": {
    "collapsed": false
   },
   "id": "c270ff65c1823768"
  },
  {
   "cell_type": "code",
   "execution_count": null,
   "outputs": [],
   "source": [
    "df_2b_filled = gabarito_comb.merge(grouped_data, how=\"left\", on=['ncm', 'importador_uf', 'importador_municipio', 'urf', 'id_pais_origem', 'ano', 'semestre'])\n",
    "df_2b_filled.head(15)"
   ],
   "metadata": {
    "collapsed": false
   },
   "id": "bfc7c07e1f5179ea"
  },
  {
   "cell_type": "code",
   "execution_count": null,
   "outputs": [],
   "source": [
    "df_filled = df_2b_filled.copy()\n",
    "df_filled[\"avg_valor_item\"] = df_filled[\"avg_valor_item\"].interpolate()"
   ],
   "metadata": {
    "collapsed": false
   },
   "id": "666c0d377be86c49"
  },
  {
   "cell_type": "code",
   "execution_count": null,
   "outputs": [],
   "source": [
    "df_filled.tail(15)"
   ],
   "metadata": {
    "collapsed": false
   },
   "id": "840b689783d6d77a"
  },
  {
   "cell_type": "markdown",
   "source": [
    "## 3. Inference of the value for the first semesters of 2024"
   ],
   "metadata": {
    "collapsed": false
   },
   "id": "b3db62a2081e302a"
  },
  {
   "cell_type": "markdown",
   "source": [
    "### 3.1 Inference using linear interpolation"
   ],
   "metadata": {
    "collapsed": false
   },
   "id": "5cf18a1cec0190c5"
  },
  {
   "cell_type": "code",
   "execution_count": null,
   "outputs": [],
   "source": [
    "years_df = pd.DataFrame.from_dict({\"ano\": [2018, 2019, 2020, 2021, 2022, 2023, 2024]})\n",
    "semesters_df = pd.DataFrame.from_dict({\"semestre\": [1, 2]})\n",
    "gabarito_datas = years_df.join(semesters_df, how=\"cross\")\n",
    "gabarito_comb = unique_combinations.join(gabarito_datas, how=\"cross\")"
   ],
   "metadata": {
    "collapsed": false
   },
   "id": "b9b331a51addcfd1"
  },
  {
   "cell_type": "code",
   "execution_count": null,
   "outputs": [],
   "source": [
    "df_2b_infer = gabarito_comb.merge(df_filled, how=\"left\", on=['ncm', 'importador_uf', 'importador_municipio', 'urf', 'name_pt', 'ano', 'semestre'])\n",
    "df_2b_infer.head()"
   ],
   "metadata": {
    "collapsed": false
   },
   "id": "b4b95d3b12807459"
  },
  {
   "cell_type": "code",
   "execution_count": null,
   "outputs": [],
   "source": [
    "df_2b_infer[\"avg_valor_item\"] = df_2b_infer[\"avg_valor_item\"].interpolate()"
   ],
   "metadata": {
    "collapsed": false
   },
   "id": "858fc6f1a6bc6654"
  },
  {
   "cell_type": "code",
   "execution_count": null,
   "outputs": [],
   "source": [
    "df_2b_infer[\"anosem\"] = df_2b_infer[\"ano\"].astype(str) + df_2b_infer[\"semestre\"].astype(str) "
   ],
   "metadata": {
    "collapsed": false
   },
   "id": "5fb17ca1c18b74a"
  },
  {
   "cell_type": "code",
   "execution_count": null,
   "outputs": [],
   "source": [
    "for _, df in df_2b_infer.groupby(['ncm', 'importador_uf', 'importador_municipio', 'urf', 'name_pt']):\n",
    "    print(df[\"avg_valor_item\"].values)\n",
    "    df.plot(y=\"avg_valor_item\", x=\"anosem\")\n",
    "    break"
   ],
   "metadata": {
    "collapsed": false
   },
   "id": "74dccca8b519100f"
  },
  {
   "cell_type": "markdown",
   "source": [
    "### 3.1 Inference using linear interpolation"
   ],
   "metadata": {
    "collapsed": false
   },
   "id": "3f3311143168a90b"
  }
 ],
 "metadata": {
  "kernelspec": {
   "display_name": "Python 3",
   "language": "python",
   "name": "python3"
  },
  "language_info": {
   "codemirror_mode": {
    "name": "ipython",
    "version": 2
   },
   "file_extension": ".py",
   "mimetype": "text/x-python",
   "name": "python",
   "nbconvert_exporter": "python",
   "pygments_lexer": "ipython2",
   "version": "2.7.6"
  }
 },
 "nbformat": 4,
 "nbformat_minor": 5
}
