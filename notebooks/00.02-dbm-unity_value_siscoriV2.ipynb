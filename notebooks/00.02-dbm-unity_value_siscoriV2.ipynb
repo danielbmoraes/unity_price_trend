{
 "cells": [
  {
   "cell_type": "markdown",
   "source": [
    "# Shipper-Brand Relation"
   ],
   "metadata": {
    "collapsed": false
   },
   "id": "401bf5dc9b838f33"
  },
  {
   "cell_type": "markdown",
   "source": [
    "Esse notebook tem por objetivo fazer a relação de empresas que importam somente uma marca, facilitando a relação importador-"
   ],
   "metadata": {
    "collapsed": false
   },
   "id": "ee3547a85086aa1f"
  },
  {
   "cell_type": "code",
   "execution_count": null,
   "id": "9f4b6b3ba58fedc9",
   "metadata": {
    "collapsed": true,
    "ExecuteTime": {
     "end_time": "2024-02-07T19:09:42.458329500Z",
     "start_time": "2024-02-07T19:09:42.458329500Z"
    }
   },
   "outputs": [],
   "source": [
    "# Importing the modules needed\n",
    "import sys\n",
    "sys.path.append(\"../src/\")\n",
    "\n",
    "from src.data.dremio_utils import *\n",
    "# Data Handling\n",
    "from dotenv import dotenv_values \n",
    "from pyarrow import flight\n",
    "import pandas as pd"
   ]
  },
  {
   "cell_type": "code",
   "execution_count": null,
   "outputs": [],
   "source": [
    "config = dotenv_values(\".env\")\n",
    "bds = BaseDremioService(config)"
   ],
   "metadata": {
    "collapsed": false,
    "ExecuteTime": {
     "start_time": "2024-02-07T19:09:42.458329500Z"
    }
   },
   "id": "b958cb0ee3f1a4f9"
  },
  {
   "cell_type": "markdown",
   "source": [
    "## 1. Extract"
   ],
   "metadata": {
    "collapsed": false
   },
   "id": "7a857a09bd42d6f3"
  },
  {
   "cell_type": "code",
   "execution_count": null,
   "outputs": [],
   "source": [
    "big_data_di_sql = ''' \n",
    "SELECT \n",
    "    *\n",
    "FROM estatisticas_di\n",
    "'''\n",
    "aux_df = bds.extract_dremio_dataset(big_data_di_sql)"
   ],
   "metadata": {
    "collapsed": false,
    "ExecuteTime": {
     "end_time": "2024-02-07T19:09:42.458329500Z",
     "start_time": "2024-02-07T19:09:42.458329500Z"
    }
   },
   "id": "f3a1ec05835a6adc"
  },
  {
   "cell_type": "code",
   "execution_count": null,
   "outputs": [],
   "source": [
    "aux_df.to_parquet(\"../data/raw/attributes_dict.parquet\")"
   ],
   "metadata": {
    "collapsed": false,
    "ExecuteTime": {
     "end_time": "2024-01-11T18:42:44.010850800Z",
     "start_time": "2024-01-11T18:42:44.010850800Z"
    }
   },
   "id": "initial_id"
  },
  {
   "cell_type": "markdown",
   "source": [
    "# 2. Transform the Data"
   ],
   "metadata": {
    "collapsed": false
   },
   "id": "2cd3b9648a0eb283"
  },
  {
   "cell_type": "code",
   "execution_count": 59,
   "outputs": [],
   "source": [
    "df = aux_df.copy()"
   ],
   "metadata": {
    "collapsed": false,
    "ExecuteTime": {
     "end_time": "2023-12-22T18:59:50.493991400Z",
     "start_time": "2023-12-22T18:59:48.859790Z"
    }
   },
   "id": "cea6fb42b69f98a0"
  },
  {
   "cell_type": "code",
   "execution_count": 60,
   "outputs": [],
   "source": [
    "# Filtrar somente as marcas\n",
    "def attributes_to_marca(row):\n",
    "    dict_att = eval(row)\n",
    "    \n",
    "    val = \"sem marca\"\n",
    "    if \"MARCA\" in dict_att.keys():\n",
    "        val = dict_att[\"MARCA\"]\n",
    "    \n",
    "    return val\n",
    "df[\"MARCA\"] = df[\"attributes_pt\"].apply(attributes_to_marca)"
   ],
   "metadata": {
    "collapsed": false,
    "ExecuteTime": {
     "end_time": "2023-12-22T19:04:58.570481300Z",
     "start_time": "2023-12-22T18:59:50.493991400Z"
    }
   },
   "id": "47f238634b6f3454"
  },
  {
   "cell_type": "code",
   "execution_count": 61,
   "outputs": [],
   "source": [
    "df.drop_duplicates(subset=[\"shipper\", \"MARCA\"], inplace = True)\n",
    "df.drop(columns = \"attributes_pt\", inplace = True)\n",
    "df = df[df[\"MARCA\"]!=\"sem marca\"]"
   ],
   "metadata": {
    "collapsed": false,
    "ExecuteTime": {
     "end_time": "2023-12-22T19:05:08.155592600Z",
     "start_time": "2023-12-22T19:04:58.578143500Z"
    }
   },
   "id": "aaa0c3eefdc06d22"
  },
  {
   "cell_type": "code",
   "execution_count": 64,
   "outputs": [],
   "source": [
    "df_group = df.groupby(\"shipper\", as_index = False)[\"MARCA\"].nunique()"
   ],
   "metadata": {
    "collapsed": false,
    "ExecuteTime": {
     "end_time": "2023-12-22T19:05:47.396933400Z",
     "start_time": "2023-12-22T19:05:46.844228600Z"
    }
   },
   "id": "5b2e4a9195cf11b7"
  },
  {
   "cell_type": "code",
   "execution_count": 72,
   "outputs": [],
   "source": [
    "shippers_with_one_brand = df_group[df_group[\"MARCA\"]==1][\"shipper\"].to_list()"
   ],
   "metadata": {
    "collapsed": false,
    "ExecuteTime": {
     "end_time": "2023-12-22T19:20:50.946511Z",
     "start_time": "2023-12-22T19:20:50.927495800Z"
    }
   },
   "id": "fd00b3cfd87e95af"
  },
  {
   "cell_type": "code",
   "execution_count": 75,
   "outputs": [],
   "source": [
    "df_with_one_brand = df[df[\"shipper\"].isin(shippers_with_one_brand)].reset_index(drop=True)\n",
    "df_with_one_brand.to_parquet(\"../data/processed/shipper_brand_relation.parquet\")"
   ],
   "metadata": {
    "collapsed": false,
    "ExecuteTime": {
     "end_time": "2023-12-22T19:23:20.077091300Z",
     "start_time": "2023-12-22T19:23:19.761030200Z"
    }
   },
   "id": "bd41c8e446d3b9a6"
  },
  {
   "cell_type": "code",
   "execution_count": 81,
   "outputs": [],
   "source": [
    "df_aux = df_with_one_brand.copy()\n",
    "df_aux[\"brand_with_shipper_name\"] = df_aux.apply(lambda x: 1 if x[\"MARCA\"] in x[\"shipper\"] else 0, axis=1)\n",
    "brand_with_shipper_name = df_aux[df_aux[\"brand_with_shipper_name\"] == 1].copy()\n",
    "brand_with_shipper_name.drop(columns=\"brand_with_shipper_name\")\n",
    "brand_with_shipper_name.reset_index(drop=True)\n",
    "brand_with_shipper_name.to_parquet(\"../data/processed/brands_with_shipper_name.parquet\")"
   ],
   "metadata": {
    "collapsed": false,
    "ExecuteTime": {
     "end_time": "2023-12-22T20:18:27.809010300Z",
     "start_time": "2023-12-22T20:18:27.338686600Z"
    }
   },
   "id": "299525558d2819a"
  }
 ],
 "metadata": {
  "kernelspec": {
   "display_name": "Python 3",
   "language": "python",
   "name": "python3"
  },
  "language_info": {
   "codemirror_mode": {
    "name": "ipython",
    "version": 2
   },
   "file_extension": ".py",
   "mimetype": "text/x-python",
   "name": "python",
   "nbconvert_exporter": "python",
   "pygments_lexer": "ipython2",
   "version": "2.7.6"
  }
 },
 "nbformat": 4,
 "nbformat_minor": 5
}
