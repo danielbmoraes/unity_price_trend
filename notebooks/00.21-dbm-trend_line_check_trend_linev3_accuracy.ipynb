{
 "cells": [
  {
   "cell_type": "code",
   "execution_count": 1,
   "id": "36438603a2e816df",
   "metadata": {
    "collapsed": true,
    "ExecuteTime": {
     "end_time": "2024-03-18T14:23:26.595084100Z",
     "start_time": "2024-03-18T14:23:26.313476800Z"
    }
   },
   "outputs": [],
   "source": [
    "import os\n",
    "import pandas as pd\n",
    "import numpy as np\n",
    "from scipy.constants import value\n",
    "from tqdm import tqdm\n",
    "\n",
    "from src.utils.utils import get_logger\n",
    "import logging\n",
    "\n",
    "from sklearn.metrics import confusion_matrix\n",
    "import seaborn as sns\n",
    "\n",
    "logger = logging.getLogger(__name__)\n",
    "logger = get_logger(logger=logger)"
   ]
  },
  {
   "cell_type": "code",
   "execution_count": 2,
   "outputs": [],
   "source": [
    "# Leitura dos dados históricos\n",
    "\n",
    "grouped_data = pd.read_parquet(\"../data/processed/average_unity_price_historic.parquet\")"
   ],
   "metadata": {
    "collapsed": false,
    "ExecuteTime": {
     "end_time": "2024-03-18T14:23:39.481750600Z",
     "start_time": "2024-03-18T14:23:26.599140800Z"
    }
   },
   "id": "4c1ea23064652e62"
  },
  {
   "cell_type": "code",
   "execution_count": 3,
   "outputs": [
    {
     "name": "stderr",
     "output_type": "stream",
     "text": [
      "2024-03-18 11:23:39,484 - __main__ - INFO - Filtrando e corrigindo dados\n"
     ]
    }
   ],
   "source": [
    "# Deleção dos dados nulos\n",
    "logger.info(\"Filtrando e corrigindo dados\")\n",
    "grouped_data.dropna(inplace=True)\n",
    "grouped_data = grouped_data[(grouped_data[\"importador_uf\"] != \"\") \\\n",
    "                            & (grouped_data[\"importador_municipio\"] != \"\")].copy()"
   ],
   "metadata": {
    "collapsed": false,
    "ExecuteTime": {
     "end_time": "2024-03-18T14:23:48.826779Z",
     "start_time": "2024-03-18T14:23:39.488209500Z"
    }
   },
   "id": "427e572a2d7c473d"
  },
  {
   "cell_type": "code",
   "execution_count": 4,
   "outputs": [
    {
     "name": "stderr",
     "output_type": "stream",
     "text": [
      "2024-03-18 11:23:48,865 - __main__ - INFO - \tajustando importador UF\n",
      "2024-03-18 11:24:59,727 - __main__ - INFO - \tajustando importador municipio\n"
     ]
    }
   ],
   "source": [
    "\n",
    "# Correção de estados e municipios\n",
    "estados_br = [\"AC\", \"AL\", \"AP\", \"AM\", \"BA\", \"CE\", \"ES\", \"GO\", \"MA\", \"MT\", \"MS\", \"MG\", \"PA\", \"PB\", \"PR\", \"PE\",\n",
    "              \"PI\", \"RJ\", \"RN\", \"RS\", \"RO\", \"RR\", \"SC\", \"SP\", \"SE\", \"TO\", \"DF\"]\n",
    "\n",
    "grouped_data[\"old_municipio\"] = grouped_data[\"importador_municipio\"]\n",
    "\n",
    "logger.info(\"\\tajustando importador UF\")\n",
    "grouped_data[\"importador_uf_new\"] = grouped_data.apply(lambda x: x[\"importador_uf\"] \\\n",
    "    if x[\"importador_uf\"] in estados_br else x[\"importador_municipio\"], axis=1)\n",
    "\n",
    "logger.info(\"\\tajustando importador municipio\")\n",
    "grouped_data[\"importador_municipio_new\"] = grouped_data.apply(lambda x: x[\"old_municipio\"] \\\n",
    "    if x[\"old_municipio\"] not in estados_br else x[\"importador_uf\"], axis=1)\n",
    "\n",
    "grouped_data.drop(columns=['importador_municipio', \"importador_uf\", \"old_municipio\"], inplace=True)\n",
    "grouped_data.rename(columns={\"importador_municipio_new\": \"importador_municipio\",\n",
    "                   \"importador_uf_new\": \"importador_uf\"}, inplace=True)"
   ],
   "metadata": {
    "collapsed": false,
    "ExecuteTime": {
     "end_time": "2024-03-18T14:26:26.387284Z",
     "start_time": "2024-03-18T14:23:48.830819500Z"
    }
   },
   "id": "cd2b385032af917d"
  },
  {
   "cell_type": "code",
   "execution_count": 32,
   "outputs": [],
   "source": [
    "# Criação das chaves agrupadas\n",
    "grouped_data[\"ncm\"] = grouped_data[\"ncm\"].astype(float).astype(int)\n",
    "grouped_data[\"key\"] = grouped_data[\"ncm\"].astype(str) + '-' + grouped_data[\"id_pais_origem\"] + '-' + \\\n",
    "                      grouped_data['importador_municipio'] + '-' + grouped_data['urf']"
   ],
   "metadata": {
    "collapsed": false,
    "ExecuteTime": {
     "end_time": "2024-03-18T14:51:45.747174100Z",
     "start_time": "2024-03-18T14:51:34.999780200Z"
    }
   },
   "id": "6a2522ccc5ed182a"
  },
  {
   "cell_type": "code",
   "execution_count": 33,
   "outputs": [],
   "source": [
    "# Filtro de chaves que tiveram preços unitários registrados em 2024\n",
    "keys_2_check = grouped_data[grouped_data[\"ano_semestre\"]==202302][\"key\"].unique()\n",
    "grouped_2_check = grouped_data[grouped_data[\"key\"].isin(keys_2_check)].copy()\n",
    "grouped_2_check = grouped_2_check[[\"key\", \"semestre\", \"ano\", \"avg_valor_item\"]].copy()\n",
    "grouped_2_check[\"ano_semestre\"] = grouped_2_check[\"ano\"]*10 + grouped_2_check[\"semestre\"]\n",
    "grouped_2_check = grouped_2_check.groupby([\"key\", \"ano_semestre\"], as_index=False).mean(\"avg_valor_item\")\n",
    "# grouped_2_check[\"ano_semestre\"] = grouped_2_check[\"ano_semestre\"].astype(str)"
   ],
   "metadata": {
    "collapsed": false,
    "ExecuteTime": {
     "end_time": "2024-03-18T14:51:54.461125900Z",
     "start_time": "2024-03-18T14:51:45.751744800Z"
    }
   },
   "id": "670e0a2d9b8791f"
  },
  {
   "cell_type": "code",
   "execution_count": 34,
   "outputs": [],
   "source": [
    "# Pega do dado realizado interpolado\n",
    "historic_data = pd.read_parquet(f\"../data/processed/trend_values_v4/trended_datav4_interpolated.parquet\")\n",
    "historic_data = historic_data[(historic_data[\"ano\"]<2022) | (historic_data[\"semestre\"]<2)]\n",
    "historic_data[\"ncm\"] = historic_data[\"ncm\"].astype(float).astype(int)\n",
    "historic_data[\"key\"] = historic_data[\"ncm\"].astype(str) + '-' + historic_data[\"id_pais_origem\"] + '-' + \\\n",
    "                      historic_data['importador_municipio'] + '-' + historic_data['urf']\n",
    "\n",
    "# Filtro do dados realizado interpolado somente para o que tem dado realizado em 2024\n",
    "historic_data = historic_data[[\"key\", \"semestre\", \"ano\",\"avg_valor_item\"]].copy()\n",
    "historic_data = historic_data[historic_data[\"key\"].isin(keys_2_check)].copy()\n",
    "\n",
    "# Junção do realizado interpolado + realizado em 2024\n",
    "final_data = pd.concat([historic_data, grouped_2_check])\n",
    "final_data[\"ano_semestre\"] = final_data[\"ano\"]*10 + final_data[\"semestre\"]\n",
    "final_data_gp = final_data.groupby([\"key\", \"ano_semestre\"], as_index=False).mean(\"avg_valor_item\")\n",
    "final_data_gp.sort_values(by=[\"key\", \"ano_semestre\"], inplace=True)\n",
    "\n",
    "# Pivot da tabela para facilitar a iteração dos grupos\n",
    "final_data_pivot = final_data_gp.pivot(columns=\"ano_semestre\", index=\"key\", values=\"avg_valor_item\")\n",
    "final_data_pivot = final_data_pivot.dropna(subset=[20231, 20232])\n",
    "# Aplicação da regra de queda ou aumento no valor unitário\n",
    "final_data_pivot[\"trend_realizada\"] = final_data_pivot.apply(lambda x: \"aumento\" if x[20231] < x[20232] else \"queda\",axis=1)\n",
    "\n",
    "true_data = final_data_pivot[[\"trend_realizada\"]].copy().reset_index()"
   ],
   "metadata": {
    "collapsed": false,
    "ExecuteTime": {
     "end_time": "2024-03-18T14:51:58.879608200Z",
     "start_time": "2024-03-18T14:51:54.464087300Z"
    }
   },
   "id": "99a983ca6d84ce1b"
  },
  {
   "cell_type": "code",
   "execution_count": 35,
   "outputs": [
    {
     "data": {
      "text/plain": "ano_semestre                                              key trend_realizada\n0               10019900-ARGENTINA-ALTOS-IRF - PORTO DE PECÉM           queda\n1                    10019900-ARGENTINA-ALTOS-PORTO DE SANTOS         aumento\n2             10019900-ARGENTINA-IPOJUCA-IRF - PORTO DE SUAPE         aumento\n3                        10019900-ARGENTINA-OLINDA-ALF RECIFE           queda\n4                  10019900-ARGENTINA-SALVADOR-ALF - SALVADOR           queda",
      "text/html": "<div>\n<style scoped>\n    .dataframe tbody tr th:only-of-type {\n        vertical-align: middle;\n    }\n\n    .dataframe tbody tr th {\n        vertical-align: top;\n    }\n\n    .dataframe thead th {\n        text-align: right;\n    }\n</style>\n<table border=\"1\" class=\"dataframe\">\n  <thead>\n    <tr style=\"text-align: right;\">\n      <th>ano_semestre</th>\n      <th>key</th>\n      <th>trend_realizada</th>\n    </tr>\n  </thead>\n  <tbody>\n    <tr>\n      <th>0</th>\n      <td>10019900-ARGENTINA-ALTOS-IRF - PORTO DE PECÉM</td>\n      <td>queda</td>\n    </tr>\n    <tr>\n      <th>1</th>\n      <td>10019900-ARGENTINA-ALTOS-PORTO DE SANTOS</td>\n      <td>aumento</td>\n    </tr>\n    <tr>\n      <th>2</th>\n      <td>10019900-ARGENTINA-IPOJUCA-IRF - PORTO DE SUAPE</td>\n      <td>aumento</td>\n    </tr>\n    <tr>\n      <th>3</th>\n      <td>10019900-ARGENTINA-OLINDA-ALF RECIFE</td>\n      <td>queda</td>\n    </tr>\n    <tr>\n      <th>4</th>\n      <td>10019900-ARGENTINA-SALVADOR-ALF - SALVADOR</td>\n      <td>queda</td>\n    </tr>\n  </tbody>\n</table>\n</div>"
     },
     "execution_count": 35,
     "metadata": {},
     "output_type": "execute_result"
    }
   ],
   "source": [
    "true_data.head()"
   ],
   "metadata": {
    "collapsed": false,
    "ExecuteTime": {
     "end_time": "2024-03-18T14:51:58.895916800Z",
     "start_time": "2024-03-18T14:51:58.883608200Z"
    }
   },
   "id": "c1fa10d53a2e0103"
  },
  {
   "cell_type": "code",
   "execution_count": 36,
   "outputs": [],
   "source": [
    "# Checar as previsões\n",
    "processed_data = pd.read_parquet(\"../data/processed/trend_values_v4/trended_datav4_interpolated.parquet\")\n",
    "processed_data = processed_data[processed_data[\"ano\"]==2023]\n",
    "processed_data[\"ncm\"] = processed_data[\"ncm\"].astype(float).astype(int)\n",
    "processed_data[\"key\"] = processed_data[\"ncm\"].astype(str) + '-' + processed_data[\"id_pais_origem\"] + '-' + \\\n",
    "                      processed_data['importador_municipio'] + '-' + processed_data['urf']\n",
    "\n",
    "processed_data[\"ano_semestre\"] = processed_data[\"ano\"]*10 + processed_data[\"semestre\"]\n",
    "processed_data = processed_data.groupby([\"key\", \"ano_semestre\"], as_index=False).mean(\"avg_valor_item\")\n",
    "processed_data.sort_values(by=[\"key\", \"ano_semestre\"], inplace=True)"
   ],
   "metadata": {
    "collapsed": false,
    "ExecuteTime": {
     "end_time": "2024-03-18T14:52:02.504981900Z",
     "start_time": "2024-03-18T14:52:02.317556Z"
    }
   },
   "id": "c7551b91027e8721"
  },
  {
   "cell_type": "code",
   "execution_count": 37,
   "outputs": [
    {
     "data": {
      "text/plain": "ano_semestre                                                key  \\\n0             10051000-ALEMANHA-CAMBE-AEROPORTO INTERNACIONA...   \n1               11010010-ALEMANHA-GUARAPUAVA-PORTO DE PARANAGUA   \n2                   11052000-ALEMANHA-SAO PAULO-PORTO DE SANTOS   \n3                   11081300-ALEMANHA-SAO PAULO-PORTO DE SANTOS   \n4             11081900-ALEMANHA-RIO DE JANEIRO-PORTO DO RIO ...   \n\nano_semestre trend_projetada  \n0                    aumento  \n1                      queda  \n2                      queda  \n3                      queda  \n4                    aumento  ",
      "text/html": "<div>\n<style scoped>\n    .dataframe tbody tr th:only-of-type {\n        vertical-align: middle;\n    }\n\n    .dataframe tbody tr th {\n        vertical-align: top;\n    }\n\n    .dataframe thead th {\n        text-align: right;\n    }\n</style>\n<table border=\"1\" class=\"dataframe\">\n  <thead>\n    <tr style=\"text-align: right;\">\n      <th>ano_semestre</th>\n      <th>key</th>\n      <th>trend_projetada</th>\n    </tr>\n  </thead>\n  <tbody>\n    <tr>\n      <th>0</th>\n      <td>10051000-ALEMANHA-CAMBE-AEROPORTO INTERNACIONA...</td>\n      <td>aumento</td>\n    </tr>\n    <tr>\n      <th>1</th>\n      <td>11010010-ALEMANHA-GUARAPUAVA-PORTO DE PARANAGUA</td>\n      <td>queda</td>\n    </tr>\n    <tr>\n      <th>2</th>\n      <td>11052000-ALEMANHA-SAO PAULO-PORTO DE SANTOS</td>\n      <td>queda</td>\n    </tr>\n    <tr>\n      <th>3</th>\n      <td>11081300-ALEMANHA-SAO PAULO-PORTO DE SANTOS</td>\n      <td>queda</td>\n    </tr>\n    <tr>\n      <th>4</th>\n      <td>11081900-ALEMANHA-RIO DE JANEIRO-PORTO DO RIO ...</td>\n      <td>aumento</td>\n    </tr>\n  </tbody>\n</table>\n</div>"
     },
     "execution_count": 37,
     "metadata": {},
     "output_type": "execute_result"
    }
   ],
   "source": [
    "processed_data_pivot = processed_data.pivot(columns=\"ano_semestre\", index=\"key\", values=\"avg_valor_item\")\n",
    "processed_data_pivot[\"trend_projetada\"] = processed_data_pivot.apply(lambda x: \"aumento\" if x[20231] < x[20232]  else \"queda\",axis=1)\n",
    "processed_data_trend = processed_data_pivot[[\"trend_projetada\"]].copy().reset_index()\n",
    "processed_data_trend.head()"
   ],
   "metadata": {
    "collapsed": false,
    "ExecuteTime": {
     "end_time": "2024-03-18T14:52:03.819299500Z",
     "start_time": "2024-03-18T14:52:03.664308200Z"
    }
   },
   "id": "21f12e9fd4a5f073"
  },
  {
   "cell_type": "code",
   "execution_count": 38,
   "outputs": [
    {
     "data": {
      "text/plain": "ano_semestre                                                key  \\\n0             10051000-ALEMANHA-CAMBE-AEROPORTO INTERNACIONA...   \n1                   11052000-ALEMANHA-SAO PAULO-PORTO DE SANTOS   \n2                   11081300-ALEMANHA-SAO PAULO-PORTO DE SANTOS   \n3             11081900-ALEMANHA-RIO DE JANEIRO-PORTO DO RIO ...   \n4                               11090000-ALEMANHA-ITAJAI-ITAJAI   \n...                                                         ...   \n17045                           85443000-ALEMANHA-GUAIBA-ITAJAI   \n17046         85443000-ALEMANHA-GUARATINGUETA-AEROPORTO INTE...   \n17047           85443000-ALEMANHA-GUARATINGUETA-PORTO DE SANTOS   \n17048         85444900-ALBÂNIA-ITUPEVA-AEROPORTO INTERNACION...   \n17049             90318099-AFEGANISTÃO-SOROCABA-PORTO DE SANTOS   \n\nano_semestre trend_projetada trend_realizada  \n0                    aumento           queda  \n1                      queda         aumento  \n2                      queda           queda  \n3                    aumento           queda  \n4                      queda         aumento  \n...                      ...             ...  \n17045                aumento         aumento  \n17046                  queda           queda  \n17047                  queda           queda  \n17048                aumento           queda  \n17049                aumento         aumento  \n\n[17050 rows x 3 columns]",
      "text/html": "<div>\n<style scoped>\n    .dataframe tbody tr th:only-of-type {\n        vertical-align: middle;\n    }\n\n    .dataframe tbody tr th {\n        vertical-align: top;\n    }\n\n    .dataframe thead th {\n        text-align: right;\n    }\n</style>\n<table border=\"1\" class=\"dataframe\">\n  <thead>\n    <tr style=\"text-align: right;\">\n      <th>ano_semestre</th>\n      <th>key</th>\n      <th>trend_projetada</th>\n      <th>trend_realizada</th>\n    </tr>\n  </thead>\n  <tbody>\n    <tr>\n      <th>0</th>\n      <td>10051000-ALEMANHA-CAMBE-AEROPORTO INTERNACIONA...</td>\n      <td>aumento</td>\n      <td>queda</td>\n    </tr>\n    <tr>\n      <th>1</th>\n      <td>11052000-ALEMANHA-SAO PAULO-PORTO DE SANTOS</td>\n      <td>queda</td>\n      <td>aumento</td>\n    </tr>\n    <tr>\n      <th>2</th>\n      <td>11081300-ALEMANHA-SAO PAULO-PORTO DE SANTOS</td>\n      <td>queda</td>\n      <td>queda</td>\n    </tr>\n    <tr>\n      <th>3</th>\n      <td>11081900-ALEMANHA-RIO DE JANEIRO-PORTO DO RIO ...</td>\n      <td>aumento</td>\n      <td>queda</td>\n    </tr>\n    <tr>\n      <th>4</th>\n      <td>11090000-ALEMANHA-ITAJAI-ITAJAI</td>\n      <td>queda</td>\n      <td>aumento</td>\n    </tr>\n    <tr>\n      <th>...</th>\n      <td>...</td>\n      <td>...</td>\n      <td>...</td>\n    </tr>\n    <tr>\n      <th>17045</th>\n      <td>85443000-ALEMANHA-GUAIBA-ITAJAI</td>\n      <td>aumento</td>\n      <td>aumento</td>\n    </tr>\n    <tr>\n      <th>17046</th>\n      <td>85443000-ALEMANHA-GUARATINGUETA-AEROPORTO INTE...</td>\n      <td>queda</td>\n      <td>queda</td>\n    </tr>\n    <tr>\n      <th>17047</th>\n      <td>85443000-ALEMANHA-GUARATINGUETA-PORTO DE SANTOS</td>\n      <td>queda</td>\n      <td>queda</td>\n    </tr>\n    <tr>\n      <th>17048</th>\n      <td>85444900-ALBÂNIA-ITUPEVA-AEROPORTO INTERNACION...</td>\n      <td>aumento</td>\n      <td>queda</td>\n    </tr>\n    <tr>\n      <th>17049</th>\n      <td>90318099-AFEGANISTÃO-SOROCABA-PORTO DE SANTOS</td>\n      <td>aumento</td>\n      <td>aumento</td>\n    </tr>\n  </tbody>\n</table>\n<p>17050 rows × 3 columns</p>\n</div>"
     },
     "execution_count": 38,
     "metadata": {},
     "output_type": "execute_result"
    }
   ],
   "source": [
    "processed_data_trend.merge(true_data, on=\"key\")"
   ],
   "metadata": {
    "collapsed": false,
    "ExecuteTime": {
     "end_time": "2024-03-18T14:52:06.612001500Z",
     "start_time": "2024-03-18T14:52:06.473127200Z"
    }
   },
   "id": "f87fd5e7968e718f"
  },
  {
   "cell_type": "code",
   "execution_count": 39,
   "outputs": [
    {
     "data": {
      "text/plain": "1    0.546686\n0    0.453314\nName: score, dtype: float64"
     },
     "execution_count": 39,
     "metadata": {},
     "output_type": "execute_result"
    }
   ],
   "source": [
    "# Merge data\n",
    "trend_n_real = processed_data_trend.merge(true_data, on=\"key\")\n",
    "trend_n_real[\"score\"] = trend_n_real.apply(lambda x: 1 if x[\"trend_projetada\"] == x[\"trend_realizada\"] else 0,axis=1) \n",
    "trend_n_real[\"score\"].value_counts()/trend_n_real.shape[0]"
   ],
   "metadata": {
    "collapsed": false,
    "ExecuteTime": {
     "end_time": "2024-03-18T14:52:08.234946500Z",
     "start_time": "2024-03-18T14:52:08.020222400Z"
    }
   },
   "id": "578f67e5902ad94b"
  },
  {
   "cell_type": "code",
   "execution_count": 40,
   "outputs": [
    {
     "data": {
      "text/plain": "trend_projetada  trend_realizada\nqueda            queda              5034\naumento          aumento            4287\nqueda            aumento            4073\naumento          queda              3656\ndtype: int64"
     },
     "execution_count": 40,
     "metadata": {},
     "output_type": "execute_result"
    }
   ],
   "source": [
    "trend_n_real = processed_data_trend.merge(true_data, on=\"key\")\n",
    "trend_n_real[[\"trend_projetada\", \"trend_realizada\"]].value_counts()"
   ],
   "metadata": {
    "collapsed": false,
    "ExecuteTime": {
     "end_time": "2024-03-18T14:52:11.331748100Z",
     "start_time": "2024-03-18T14:52:11.205577800Z"
    }
   },
   "id": "92eb42b7061b462e"
  },
  {
   "cell_type": "code",
   "execution_count": 41,
   "outputs": [
    {
     "data": {
      "text/plain": "<Axes: >"
     },
     "execution_count": 41,
     "metadata": {},
     "output_type": "execute_result"
    },
    {
     "data": {
      "text/plain": "<Figure size 640x480 with 2 Axes>",
      "image/png": "[encoded data removed]"
     },
     "metadata": {},
     "output_type": "display_data"
    }
   ],
   "source": [
    "sns.heatmap(confusion_matrix(trend_n_real[\"trend_realizada\"], trend_n_real[\"trend_projetada\"]), annot=True, fmt='g')"
   ],
   "metadata": {
    "collapsed": false,
    "ExecuteTime": {
     "end_time": "2024-03-18T14:52:13.667255200Z",
     "start_time": "2024-03-18T14:52:13.487471200Z"
    }
   },
   "id": "719842134eeb5737"
  },
  {
   "cell_type": "code",
   "execution_count": null,
   "outputs": [],
   "source": [
    "trend_n_real[\"trend_realizada\"].value_counts()"
   ],
   "metadata": {
    "collapsed": false,
    "ExecuteTime": {
     "start_time": "2024-03-18T14:26:52.983330400Z"
    }
   },
   "id": "23ce36249a04b753"
  },
  {
   "cell_type": "code",
   "execution_count": null,
   "outputs": [],
   "source": [
    "trend_n_real[\"trend_projetada\"].value_counts()"
   ],
   "metadata": {
    "collapsed": false,
    "ExecuteTime": {
     "start_time": "2024-03-18T14:26:52.985326300Z"
    }
   },
   "id": "3ba17793d3201349"
  }
 ],
 "metadata": {
  "kernelspec": {
   "display_name": "Python 3",
   "language": "python",
   "name": "python3"
  },
  "language_info": {
   "codemirror_mode": {
    "name": "ipython",
    "version": 2
   },
   "file_extension": ".py",
   "mimetype": "text/x-python",
   "name": "python",
   "nbconvert_exporter": "python",
   "pygments_lexer": "ipython2",
   "version": "2.7.6"
  }
 },
 "nbformat": 4,
 "nbformat_minor": 5
}
