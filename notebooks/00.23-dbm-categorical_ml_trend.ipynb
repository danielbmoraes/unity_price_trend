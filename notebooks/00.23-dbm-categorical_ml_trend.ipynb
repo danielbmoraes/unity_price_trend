{
 "cells": [
  {
   "cell_type": "code",
   "execution_count": 20,
   "id": "36438603a2e816df",
   "metadata": {
    "ExecuteTime": {
     "end_time": "2024-03-20T15:13:05.174862Z",
     "start_time": "2024-03-20T15:13:05.143529200Z"
    }
   },
   "outputs": [],
   "source": [
    "import numpy as np\n",
    "\n",
    "from src.utils.utils import get_logger\n",
    "import logging\n",
    "\n",
    "from pyspark.sql import SparkSession\n",
    "from sklearn.model_selection import train_test_split\n",
    "\n",
    "from sklearn.metrics import confusion_matrix\n",
    "import seaborn as sns\n",
    "import pandas as pd\n",
    "\n",
    "from xgboost import XGBClassifier\n",
    "\n",
    "logger = logging.getLogger(__name__)\n",
    "logger = get_logger(logger=logger)"
   ]
  },
  {
   "cell_type": "code",
   "execution_count": 21,
   "id": "834b55946ddfb0e3",
   "metadata": {
    "collapsed": false,
    "ExecuteTime": {
     "end_time": "2024-03-20T15:13:06.886454500Z",
     "start_time": "2024-03-20T15:13:05.174862Z"
    }
   },
   "outputs": [],
   "source": [
    "spark = SparkSession.builder.master(\"local[*]\").appName(\"trend_line\").getOrCreate()"
   ]
  },
  {
   "cell_type": "code",
   "execution_count": 22,
   "outputs": [
    {
     "name": "stderr",
     "output_type": "stream",
     "text": [
      "2024-03-20 12:13:06,890 - __main__ - INFO - Leitura dos dados\n",
      "2024-03-20 12:13:06,890 - __main__ - INFO - Leitura dos dados\n"
     ]
    }
   ],
   "source": [
    "logger.info(\"Leitura dos dados\")\n",
    "df_raw = pd.read_parquet(f'../data/interim/data_ready_to_train.parquet')\n",
    "df_raw[\"ano\"] = df_raw[\"ano\"].astype(int)\n",
    "df_raw[\"semestre\"] = df_raw[\"semestre\"].astype(int)"
   ],
   "metadata": {
    "collapsed": false,
    "ExecuteTime": {
     "end_time": "2024-03-20T15:13:11.946989200Z",
     "start_time": "2024-03-20T15:13:06.890507500Z"
    }
   },
   "id": "203d29b7dfeac72d"
  },
  {
   "cell_type": "code",
   "execution_count": 23,
   "outputs": [],
   "source": [
    "df_raw = df_raw[df_raw[\"ano_semestre\"] == \"202302\"].copy() "
   ],
   "metadata": {
    "collapsed": false,
    "ExecuteTime": {
     "end_time": "2024-03-20T15:13:12.558862800Z",
     "start_time": "2024-03-20T15:13:11.946989200Z"
    }
   },
   "id": "6e8b224c1a887d83"
  },
  {
   "cell_type": "code",
   "execution_count": 24,
   "outputs": [],
   "source": [
    "# Split train and test\n",
    "X = df_raw[['ncm_le', 'id_pais_origem_le', 'importador_municipio_le','urf_le', 'ano','semestre']]\n",
    "y = df_raw[\"status_le\"]\n",
    "\n",
    "X_train, X_test, y_train, y_test = train_test_split(X, y, test_size=0.3, random_state=42)\n",
    "\n",
    "xgbc = XGBClassifier(enable_categorical=True)\n",
    "\n",
    "xgbc.fit(X_train, y_train)\n",
    "\n",
    "y_hat = xgbc.predict(X_test)\n",
    "y_hat_prob = xgbc.predict_proba(X_test)\n",
    "\n",
    "df_compare = X_test.copy()\n",
    "df_compare[\"true_status\"] = y_test\n",
    "df_compare[\"predicted_status\"] = y_hat\n",
    "df_compare[[\"prob_0\", \"prob_1\", \"prob_2\"]] = y_hat_prob"
   ],
   "metadata": {
    "collapsed": false,
    "ExecuteTime": {
     "end_time": "2024-03-20T15:13:17.388848Z",
     "start_time": "2024-03-20T15:13:12.571406300Z"
    }
   },
   "id": "df7abacd6afa0dbc"
  },
  {
   "cell_type": "code",
   "execution_count": 25,
   "outputs": [
    {
     "data": {
      "text/plain": "array([[0.5228953 , 0.03895073, 0.438154  ],\n       [0.2439354 , 0.462324  , 0.29374057],\n       [0.44470924, 0.07517921, 0.4801116 ],\n       ...,\n       [0.24112904, 0.48335436, 0.27551663],\n       [0.40559763, 0.02879944, 0.5656029 ],\n       [0.49470523, 0.06569737, 0.4395974 ]], dtype=float32)"
     },
     "execution_count": 25,
     "metadata": {},
     "output_type": "execute_result"
    }
   ],
   "source": [
    "y_hat_prob"
   ],
   "metadata": {
    "collapsed": false,
    "ExecuteTime": {
     "end_time": "2024-03-20T15:13:17.408578500Z",
     "start_time": "2024-03-20T15:13:17.393353400Z"
    }
   },
   "id": "8c7095c716c9f54c"
  },
  {
   "cell_type": "code",
   "execution_count": 26,
   "outputs": [
    {
     "data": {
      "text/plain": "1    0.508967\n0    0.491033\nName: correct, dtype: float64"
     },
     "execution_count": 26,
     "metadata": {},
     "output_type": "execute_result"
    }
   ],
   "source": [
    "df_compare[\"correct\"] = df_compare.apply(lambda x: 1 if x[\"true_status\"] == x[\"predicted_status\"] else 0, axis=1)\n",
    "df_compare[\"correct\"].value_counts()/df_compare.shape[0]"
   ],
   "metadata": {
    "collapsed": false,
    "ExecuteTime": {
     "end_time": "2024-03-20T15:13:18.359135600Z",
     "start_time": "2024-03-20T15:13:17.408578500Z"
    }
   },
   "id": "9431f74081040f40"
  },
  {
   "cell_type": "code",
   "execution_count": null,
   "outputs": [],
   "source": [
    "df_compare[]"
   ],
   "metadata": {
    "collapsed": false
   },
   "id": "1fb8e9949c5a0f71"
  },
  {
   "cell_type": "code",
   "execution_count": 27,
   "outputs": [],
   "source": [
    "# Remoção de outliers agrupado\n",
    "# Separação de treino e teste\n",
    "\n",
    "# Deleção dos dados nulos"
   ],
   "metadata": {
    "collapsed": false,
    "ExecuteTime": {
     "end_time": "2024-03-20T15:13:18.359135600Z",
     "start_time": "2024-03-20T15:13:18.357552700Z"
    }
   },
   "id": "7843b015fba71097"
  }
 ],
 "metadata": {
  "kernelspec": {
   "display_name": "Python 3 (ipykernel)",
   "language": "python",
   "name": "python3"
  },
  "language_info": {
   "codemirror_mode": {
    "name": "ipython",
    "version": 3
   },
   "file_extension": ".py",
   "mimetype": "text/x-python",
   "name": "python",
   "nbconvert_exporter": "python",
   "pygments_lexer": "ipython3",
   "version": "3.11.8"
  }
 },
 "nbformat": 4,
 "nbformat_minor": 5
}
