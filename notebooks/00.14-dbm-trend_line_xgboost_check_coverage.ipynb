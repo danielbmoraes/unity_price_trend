{
 "cells": [
  {
   "cell_type": "code",
   "execution_count": 52,
   "id": "36438603a2e816df",
   "metadata": {
    "collapsed": true,
    "ExecuteTime": {
     "end_time": "2024-03-08T19:47:30.820075Z",
     "start_time": "2024-03-08T19:47:30.519714600Z"
    }
   },
   "outputs": [],
   "source": [
    "import os\n",
    "import pandas as pd\n",
    "import numpy as np\n",
    "from scipy.constants import value\n",
    "from tqdm import tqdm\n",
    "\n",
    "from src.utils.utils import get_logger\n",
    "import logging\n",
    "\n",
    "from IPython.display import clear_output\n",
    "\n",
    "logger = logging.getLogger(__name__)\n",
    "logger = get_logger(logger=logger)"
   ]
  },
  {
   "cell_type": "code",
   "execution_count": 53,
   "outputs": [],
   "source": [
    "# Leitura dos dados históricos\n",
    "grouped_data = pd.read_parquet(\"../data/processed/average_unity_price_historic.parquet\")"
   ],
   "metadata": {
    "collapsed": false,
    "ExecuteTime": {
     "end_time": "2024-03-08T19:47:39.043538900Z",
     "start_time": "2024-03-08T19:47:30.537491600Z"
    }
   },
   "id": "4c1ea23064652e62"
  },
  {
   "cell_type": "code",
   "execution_count": 54,
   "outputs": [
    {
     "name": "stderr",
     "output_type": "stream",
     "text": [
      "2024-03-08 16:47:39,043 - __main__ - INFO - Filtrando e corrigindo dados\n",
      "2024-03-08 16:47:39,043 - __main__ - INFO - Filtrando e corrigindo dados\n",
      "2024-03-08 16:47:39,043 - __main__ - INFO - Filtrando e corrigindo dados\n"
     ]
    }
   ],
   "source": [
    "# Deleção dos dados nulos\n",
    "logger.info(\"Filtrando e corrigindo dados\")\n",
    "grouped_data.dropna(inplace=True)\n",
    "grouped_data = grouped_data[(grouped_data[\"importador_uf\"] != \"\") \\\n",
    "                            & (grouped_data[\"importador_municipio\"] != \"\")].copy()"
   ],
   "metadata": {
    "collapsed": false,
    "ExecuteTime": {
     "end_time": "2024-03-08T19:47:45.641607500Z",
     "start_time": "2024-03-08T19:47:39.043538900Z"
    }
   },
   "id": "427e572a2d7c473d"
  },
  {
   "cell_type": "code",
   "execution_count": 55,
   "outputs": [
    {
     "name": "stderr",
     "output_type": "stream",
     "text": [
      "2024-03-08 16:47:45,688 - __main__ - INFO - \tajustando importador UF\n",
      "2024-03-08 16:47:45,688 - __main__ - INFO - \tajustando importador UF\n",
      "2024-03-08 16:47:45,688 - __main__ - INFO - \tajustando importador UF\n",
      "2024-03-08 16:48:29,801 - __main__ - INFO - \tajustando importador municipio\n",
      "2024-03-08 16:48:29,801 - __main__ - INFO - \tajustando importador municipio\n",
      "2024-03-08 16:48:29,801 - __main__ - INFO - \tajustando importador municipio\n"
     ]
    }
   ],
   "source": [
    "\n",
    "# Correção de estados e municipios\n",
    "estados_br = [\"AC\", \"AL\", \"AP\", \"AM\", \"BA\", \"CE\", \"ES\", \"GO\", \"MA\", \"MT\", \"MS\", \"MG\", \"PA\", \"PB\", \"PR\", \"PE\",\n",
    "              \"PI\", \"RJ\", \"RN\", \"RS\", \"RO\", \"RR\", \"SC\", \"SP\", \"SE\", \"TO\", \"DF\"]\n",
    "\n",
    "grouped_data[\"old_municipio\"] = grouped_data[\"importador_municipio\"]\n",
    "\n",
    "logger.info(\"\\tajustando importador UF\")\n",
    "grouped_data[\"importador_uf_new\"] = grouped_data.apply(lambda x: x[\"importador_uf\"] \\\n",
    "    if x[\"importador_uf\"] in estados_br else x[\"importador_municipio\"], axis=1)\n",
    "\n",
    "logger.info(\"\\tajustando importador municipio\")\n",
    "grouped_data[\"importador_municipio_new\"] = grouped_data.apply(lambda x: x[\"old_municipio\"] \\\n",
    "    if x[\"old_municipio\"] not in estados_br else x[\"importador_uf\"], axis=1)\n",
    "\n",
    "grouped_data.drop(columns=['importador_municipio', \"importador_uf\", \"old_municipio\"], inplace=True)\n",
    "grouped_data.rename(columns={\"importador_municipio_new\": \"importador_municipio\",\n",
    "                   \"importador_uf_new\": \"importador_uf\"}, inplace=True)"
   ],
   "metadata": {
    "collapsed": false,
    "ExecuteTime": {
     "end_time": "2024-03-08T19:49:14.284941900Z",
     "start_time": "2024-03-08T19:47:45.641607500Z"
    }
   },
   "id": "cd2b385032af917d"
  },
  {
   "cell_type": "code",
   "execution_count": 56,
   "outputs": [],
   "source": [
    "# Criação das chaves agrupadas\n",
    "grouped_data[\"key\"] = grouped_data[\"ncm\"].astype(str) + '-' + grouped_data[\"id_pais_origem\"] + '-' + \\\n",
    "                      grouped_data['importador_municipio'] + '-' + grouped_data['urf']"
   ],
   "metadata": {
    "collapsed": false,
    "ExecuteTime": {
     "end_time": "2024-03-08T19:49:18.403830800Z",
     "start_time": "2024-03-08T19:49:14.363454Z"
    }
   },
   "id": "6a2522ccc5ed182a"
  },
  {
   "cell_type": "code",
   "execution_count": 57,
   "outputs": [],
   "source": [
    "# Filtro de chaves que tiveram preços unitários registrados em 2024\n",
    "keys_2_check = grouped_data[grouped_data[\"ano\"]==2024][\"key\"].unique()\n",
    "grouped_2_check = grouped_data[grouped_data[\"key\"].isin(keys_2_check)].copy()\n",
    "grouped_2_check = grouped_2_check[[\"key\", \"semestre\", \"ano\", \"anomes\", \"avg_valor_item\"]].copy()\n",
    "grouped_2_check = grouped_2_check.groupby([\"key\", \"ano\", \"semestre\"], as_index=False).mean(\"avg_valor_item\")"
   ],
   "metadata": {
    "collapsed": false,
    "ExecuteTime": {
     "end_time": "2024-03-08T19:49:21.902513100Z",
     "start_time": "2024-03-08T19:49:18.403830800Z"
    }
   },
   "id": "670e0a2d9b8791f"
  },
  {
   "cell_type": "code",
   "execution_count": 58,
   "outputs": [],
   "source": [
    "# Pega do dado realizado interpolado\n",
    "historic_data = pd.read_parquet(\"../data/processed/trended_data_interpolated_treated.parquet\")\n",
    "historic_data = historic_data[historic_data[\"ano\"]<2024]\n",
    "historic_data[\"key\"] = historic_data[\"ncm\"].astype(str) + '-' + historic_data[\"name_pt\"] + '-' + \\\n",
    "                      historic_data['importador_municipio'] + '-' + historic_data['urf']\n",
    "\n",
    "# Filtro do dados realizado interpolado somente para o que tem dado realizado em 2024\n",
    "historic_data = historic_data[[\"key\", \"semestre\", \"ano\",\"avg_valor_item\"]].copy()\n",
    "historic_data = historic_data[historic_data[\"key\"].isin(keys_2_check)].copy()\n",
    "\n",
    "# Junção do realizado interpolado + realizado em 2024\n",
    "final_data = pd.concat([historic_data, grouped_2_check])\n",
    "final_data[\"ano_semestre\"] = final_data[\"ano\"]*10 + final_data[\"semestre\"]\n",
    "final_data_gp = final_data.groupby([\"key\", \"ano_semestre\"], as_index=False).mean(\"avg_valor_item\")\n",
    "final_data_gp.sort_values(by=[\"key\", \"ano_semestre\"], inplace=True)\n",
    "\n",
    "# Pivot da tabela para facilitar a iteração dos grupos\n",
    "final_data_pivot = final_data_gp.pivot(columns=\"ano_semestre\", index=\"key\", values=\"avg_valor_item\")\n",
    "final_data_pivot = final_data_pivot.dropna(subset=[20232, 20241])\n",
    "# Aplicação da regra de queda ou aumento no valor unitário\n",
    "final_data_pivot[\"trend_realizada\"] = final_data_pivot.apply(lambda x: \"aumento\" if x[20232] < x[20241] else \"queda\",axis=1)\n",
    "\n",
    "true_data = final_data_pivot[[\"trend_realizada\"]].copy().reset_index()"
   ],
   "metadata": {
    "collapsed": false,
    "ExecuteTime": {
     "end_time": "2024-03-08T19:49:24.350205200Z",
     "start_time": "2024-03-08T19:49:21.902513100Z"
    }
   },
   "id": "99a983ca6d84ce1b"
  },
  {
   "cell_type": "code",
   "execution_count": 59,
   "outputs": [],
   "source": [
    "# Checar as previsões\n",
    "processed_data = pd.read_parquet(\"../data/processed/xgboost_trendline.parquet\")\n",
    "processed_data = processed_data[processed_data[\"ano\"]==2024]\n",
    "processed_data[\"key\"] = processed_data[\"ncm\"].astype(str) + '-' + processed_data[\"id_pais_origem\"] + '-' + \\\n",
    "                      processed_data['importador_municipio'] + '-' + processed_data['urf']\n",
    "\n",
    "processed_data[\"ano_semestre\"] = processed_data[\"ano\"]*10 + processed_data[\"semestre\"]\n",
    "processed_data = processed_data.groupby([\"key\", \"ano_semestre\"], as_index=False).mean(\"avg_valor_item\")\n",
    "processed_data.sort_values(by=[\"key\", \"ano_semestre\"], inplace=True)"
   ],
   "metadata": {
    "collapsed": false,
    "ExecuteTime": {
     "end_time": "2024-03-08T19:49:33.928849100Z",
     "start_time": "2024-03-08T19:49:24.350205200Z"
    }
   },
   "id": "c7551b91027e8721"
  },
  {
   "cell_type": "code",
   "execution_count": 60,
   "outputs": [],
   "source": [
    "historic_to_concat = historic_data[historic_data[\"ano\"]<=2023].copy()"
   ],
   "metadata": {
    "collapsed": false,
    "ExecuteTime": {
     "end_time": "2024-03-08T19:49:33.960198200Z",
     "start_time": "2024-03-08T19:49:33.928849100Z"
    }
   },
   "id": "1d74ab65657dcb3c"
  },
  {
   "cell_type": "code",
   "execution_count": 61,
   "outputs": [],
   "source": [
    "processed_data = pd.concat([historic_to_concat,processed_data])"
   ],
   "metadata": {
    "collapsed": false,
    "ExecuteTime": {
     "end_time": "2024-03-08T19:49:34.069905400Z",
     "start_time": "2024-03-08T19:49:33.960198200Z"
    }
   },
   "id": "ad2d11e4320ce6c1"
  },
  {
   "cell_type": "code",
   "execution_count": 62,
   "outputs": [
    {
     "data": {
      "text/plain": "20241.0    1733318\n20242.0    1733318\nName: ano_semestre, dtype: int64"
     },
     "execution_count": 62,
     "metadata": {},
     "output_type": "execute_result"
    }
   ],
   "source": [
    "processed_data[\"ano_semestre\"].value_counts()"
   ],
   "metadata": {
    "collapsed": false,
    "ExecuteTime": {
     "end_time": "2024-03-08T19:49:34.117184600Z",
     "start_time": "2024-03-08T19:49:34.096510400Z"
    }
   },
   "id": "8082caeec4e66d9"
  },
  {
   "cell_type": "code",
   "execution_count": 63,
   "outputs": [
    {
     "data": {
      "text/plain": "ano_semestre                                                key  \\\n0             1.00111E7-ARGENTINA-RS-AEROPORTO INTERNACIONAL...   \n1                       1.00111E7-ARGENTINA-RS-ALF - URUGUAIANA   \n2                1.00111E7-URUGUAI-RS-IRF SANTANA DO LIVRAMENTO   \n3             1.00119E7-ARGENTINA-PASSO FUNDO-AEROPORTO INTE...   \n4             1.00119E7-ARGENTINA-RS-AEROPORTO INTERNACIONAL...   \n\nano_semestre trend_projetada  \n0                      queda  \n1                      queda  \n2                      queda  \n3                      queda  \n4                      queda  ",
      "text/html": "<div>\n<style scoped>\n    .dataframe tbody tr th:only-of-type {\n        vertical-align: middle;\n    }\n\n    .dataframe tbody tr th {\n        vertical-align: top;\n    }\n\n    .dataframe thead th {\n        text-align: right;\n    }\n</style>\n<table border=\"1\" class=\"dataframe\">\n  <thead>\n    <tr style=\"text-align: right;\">\n      <th>ano_semestre</th>\n      <th>key</th>\n      <th>trend_projetada</th>\n    </tr>\n  </thead>\n  <tbody>\n    <tr>\n      <th>0</th>\n      <td>1.00111E7-ARGENTINA-RS-AEROPORTO INTERNACIONAL...</td>\n      <td>queda</td>\n    </tr>\n    <tr>\n      <th>1</th>\n      <td>1.00111E7-ARGENTINA-RS-ALF - URUGUAIANA</td>\n      <td>queda</td>\n    </tr>\n    <tr>\n      <th>2</th>\n      <td>1.00111E7-URUGUAI-RS-IRF SANTANA DO LIVRAMENTO</td>\n      <td>queda</td>\n    </tr>\n    <tr>\n      <th>3</th>\n      <td>1.00119E7-ARGENTINA-PASSO FUNDO-AEROPORTO INTE...</td>\n      <td>queda</td>\n    </tr>\n    <tr>\n      <th>4</th>\n      <td>1.00119E7-ARGENTINA-RS-AEROPORTO INTERNACIONAL...</td>\n      <td>queda</td>\n    </tr>\n  </tbody>\n</table>\n</div>"
     },
     "execution_count": 63,
     "metadata": {},
     "output_type": "execute_result"
    }
   ],
   "source": [
    "processed_data[\"ano_semestre\"] = processed_data[\"ano\"]*10 + processed_data[\"semestre\"]  \n",
    "processed_data_pivot = processed_data.pivot(columns=\"ano_semestre\", index=\"key\", values=\"avg_valor_item\")\n",
    "processed_data_pivot[\"trend_projetada\"] = processed_data_pivot.apply(lambda x: \"aumento\" if x[20232] < x[20241] else \"queda\",axis=1)\n",
    "processed_data_trend = processed_data_pivot[[\"trend_projetada\"]].copy().reset_index()\n",
    "processed_data_trend.head()"
   ],
   "metadata": {
    "collapsed": false,
    "ExecuteTime": {
     "end_time": "2024-03-08T19:49:46.032124400Z",
     "start_time": "2024-03-08T19:49:34.117184600Z"
    }
   },
   "id": "21f12e9fd4a5f073"
  },
  {
   "cell_type": "code",
   "execution_count": 64,
   "outputs": [
    {
     "data": {
      "text/plain": "1    0.55608\n0    0.44392\nName: score, dtype: float64"
     },
     "execution_count": 64,
     "metadata": {},
     "output_type": "execute_result"
    }
   ],
   "source": [
    "# Merge data\n",
    "trend_n_real = processed_data_trend.merge(true_data, on=\"key\")\n",
    "trend_n_real[\"score\"] = trend_n_real.apply(lambda x: 1 if x[\"trend_projetada\"] == x[\"trend_realizada\"] else 0,axis=1) \n",
    "trend_n_real[\"score\"].value_counts()/trend_n_real.shape[0]"
   ],
   "metadata": {
    "collapsed": false,
    "ExecuteTime": {
     "end_time": "2024-03-08T19:49:47.048728Z",
     "start_time": "2024-03-08T19:49:46.032124400Z"
    }
   },
   "id": "f8b29bd03f5c3093"
  },
  {
   "cell_type": "code",
   "execution_count": 67,
   "outputs": [
    {
     "data": {
      "text/plain": "queda      21729\naumento     5803\nName: trend_projetada, dtype: int64"
     },
     "execution_count": 67,
     "metadata": {},
     "output_type": "execute_result"
    }
   ],
   "source": [
    "trend_n_real[\"trend_projetada\"].value_counts()"
   ],
   "metadata": {
    "collapsed": false,
    "ExecuteTime": {
     "end_time": "2024-03-08T21:02:47.897971900Z",
     "start_time": "2024-03-08T21:02:47.865671200Z"
    }
   },
   "id": "7f1e76264aab275d"
  },
  {
   "cell_type": "code",
   "execution_count": 68,
   "outputs": [
    {
     "data": {
      "text/plain": "queda      16441\naumento    11091\nName: trend_realizada, dtype: int64"
     },
     "execution_count": 68,
     "metadata": {},
     "output_type": "execute_result"
    }
   ],
   "source": [
    "trend_n_real[\"trend_realizada\"].value_counts()"
   ],
   "metadata": {
    "collapsed": false,
    "ExecuteTime": {
     "end_time": "2024-03-08T21:03:32.398738700Z",
     "start_time": "2024-03-08T21:03:32.365440700Z"
    }
   },
   "id": "c4815b6efad4cb4a"
  },
  {
   "cell_type": "code",
   "execution_count": 65,
   "outputs": [
    {
     "data": {
      "text/plain": "<Axes: >"
     },
     "execution_count": 65,
     "metadata": {},
     "output_type": "execute_result"
    },
    {
     "data": {
      "text/plain": "<Figure size 640x480 with 2 Axes>",
      "image/png": "[encoded data removed]"
     },
     "metadata": {},
     "output_type": "display_data"
    }
   ],
   "source": [
    "from sklearn.metrics import confusion_matrix\n",
    "import seaborn as sns\n",
    "sns.heatmap(confusion_matrix(trend_n_real[\"trend_realizada\"], trend_n_real[\"trend_projetada\"]), annot=True, fmt='g')"
   ],
   "metadata": {
    "collapsed": false,
    "ExecuteTime": {
     "end_time": "2024-03-08T21:01:35.881244700Z",
     "start_time": "2024-03-08T21:01:31.281333100Z"
    }
   },
   "id": "198689f401518571"
  }
 ],
 "metadata": {
  "kernelspec": {
   "display_name": "Python 3",
   "language": "python",
   "name": "python3"
  },
  "language_info": {
   "codemirror_mode": {
    "name": "ipython",
    "version": 2
   },
   "file_extension": ".py",
   "mimetype": "text/x-python",
   "name": "python",
   "nbconvert_exporter": "python",
   "pygments_lexer": "ipython2",
   "version": "2.7.6"
  }
 },
 "nbformat": 4,
 "nbformat_minor": 5
}
