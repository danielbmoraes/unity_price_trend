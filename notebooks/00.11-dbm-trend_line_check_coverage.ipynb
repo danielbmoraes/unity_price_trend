{
 "cells": [
  {
   "cell_type": "code",
   "execution_count": 3,
   "id": "36438603a2e816df",
   "metadata": {
    "collapsed": true,
    "ExecuteTime": {
     "end_time": "2024-03-08T18:56:43.087582700Z",
     "start_time": "2024-03-08T18:56:42.091520600Z"
    }
   },
   "outputs": [],
   "source": [
    "import os\n",
    "import pandas as pd\n",
    "import numpy as np\n",
    "from scipy.constants import value\n",
    "from tqdm import tqdm\n",
    "\n",
    "from src.utils.utils import get_logger\n",
    "import logging\n",
    "\n",
    "from IPython.display import clear_output\n",
    "\n",
    "logger = logging.getLogger(__name__)\n",
    "logger = get_logger(logger=logger)"
   ]
  },
  {
   "cell_type": "code",
   "execution_count": 4,
   "outputs": [],
   "source": [
    "# Leitura dos dados históricos\n",
    "grouped_data = pd.read_parquet(\"../data/processed/average_unity_price_historic.parquet\")"
   ],
   "metadata": {
    "collapsed": false,
    "ExecuteTime": {
     "end_time": "2024-03-08T18:56:49.538259400Z",
     "start_time": "2024-03-08T18:56:43.087582700Z"
    }
   },
   "id": "4c1ea23064652e62"
  },
  {
   "cell_type": "code",
   "execution_count": 5,
   "outputs": [
    {
     "name": "stderr",
     "output_type": "stream",
     "text": [
      "2024-03-08 15:56:49,592 - __main__ - INFO - Filtrando e corrigindo dados\n"
     ]
    }
   ],
   "source": [
    "# Deleção dos dados nulos\n",
    "logger.info(\"Filtrando e corrigindo dados\")\n",
    "grouped_data.dropna(inplace=True)\n",
    "grouped_data = grouped_data[(grouped_data[\"importador_uf\"] != \"\") \\\n",
    "                            & (grouped_data[\"importador_municipio\"] != \"\")].copy()"
   ],
   "metadata": {
    "collapsed": false,
    "ExecuteTime": {
     "end_time": "2024-03-08T18:56:56.998655600Z",
     "start_time": "2024-03-08T18:56:49.553043500Z"
    }
   },
   "id": "427e572a2d7c473d"
  },
  {
   "cell_type": "code",
   "execution_count": 6,
   "outputs": [
    {
     "name": "stderr",
     "output_type": "stream",
     "text": [
      "2024-03-08 15:56:57,047 - __main__ - INFO - \tajustando importador UF\n",
      "2024-03-08 15:57:41,581 - __main__ - INFO - \tajustando importador municipio\n"
     ]
    }
   ],
   "source": [
    "\n",
    "# Correção de estados e municipios\n",
    "estados_br = [\"AC\", \"AL\", \"AP\", \"AM\", \"BA\", \"CE\", \"ES\", \"GO\", \"MA\", \"MT\", \"MS\", \"MG\", \"PA\", \"PB\", \"PR\", \"PE\",\n",
    "              \"PI\", \"RJ\", \"RN\", \"RS\", \"RO\", \"RR\", \"SC\", \"SP\", \"SE\", \"TO\", \"DF\"]\n",
    "\n",
    "grouped_data[\"old_municipio\"] = grouped_data[\"importador_municipio\"]\n",
    "\n",
    "logger.info(\"\\tajustando importador UF\")\n",
    "grouped_data[\"importador_uf_new\"] = grouped_data.apply(lambda x: x[\"importador_uf\"] \\\n",
    "    if x[\"importador_uf\"] in estados_br else x[\"importador_municipio\"], axis=1)\n",
    "\n",
    "logger.info(\"\\tajustando importador municipio\")\n",
    "grouped_data[\"importador_municipio_new\"] = grouped_data.apply(lambda x: x[\"old_municipio\"] \\\n",
    "    if x[\"old_municipio\"] not in estados_br else x[\"importador_uf\"], axis=1)\n",
    "\n",
    "grouped_data.drop(columns=['importador_municipio', \"importador_uf\", \"old_municipio\"], inplace=True)\n",
    "grouped_data.rename(columns={\"importador_municipio_new\": \"importador_municipio\",\n",
    "                   \"importador_uf_new\": \"importador_uf\"}, inplace=True)"
   ],
   "metadata": {
    "collapsed": false,
    "ExecuteTime": {
     "end_time": "2024-03-08T18:58:23.821769400Z",
     "start_time": "2024-03-08T18:56:57.046091500Z"
    }
   },
   "id": "cd2b385032af917d"
  },
  {
   "cell_type": "code",
   "execution_count": 7,
   "outputs": [],
   "source": [
    "# Criação das chaves agrupadas\n",
    "grouped_data[\"key\"] = grouped_data[\"ncm\"].astype(str) + '-' + grouped_data[\"id_pais_origem\"] + '-' + \\\n",
    "                      grouped_data['importador_municipio'] + '-' + grouped_data['urf']"
   ],
   "metadata": {
    "collapsed": false,
    "ExecuteTime": {
     "end_time": "2024-03-08T18:58:27.756533400Z",
     "start_time": "2024-03-08T18:58:25.465827200Z"
    }
   },
   "id": "6a2522ccc5ed182a"
  },
  {
   "cell_type": "code",
   "execution_count": 8,
   "outputs": [],
   "source": [
    "# Filtro de chaves que tiveram preços unitários registrados em 2024\n",
    "keys_2_check = grouped_data[grouped_data[\"ano\"]==2024][\"key\"].unique()\n",
    "grouped_2_check = grouped_data[grouped_data[\"key\"].isin(keys_2_check)].copy()\n",
    "grouped_2_check = grouped_2_check[[\"key\", \"semestre\", \"ano\", \"anomes\", \"avg_valor_item\"]].copy()\n",
    "grouped_2_check = grouped_2_check.groupby([\"key\", \"ano\", \"semestre\"], as_index=False).mean(\"avg_valor_item\")"
   ],
   "metadata": {
    "collapsed": false,
    "ExecuteTime": {
     "end_time": "2024-03-08T18:58:30.694471900Z",
     "start_time": "2024-03-08T18:58:27.756533400Z"
    }
   },
   "id": "670e0a2d9b8791f"
  },
  {
   "cell_type": "code",
   "execution_count": 9,
   "outputs": [],
   "source": [
    "# Pega do dado realizado interpolado\n",
    "historic_data = pd.read_parquet(\"../data/processed/trended_data_interpolated_treated.parquet\")\n",
    "historic_data = historic_data[historic_data[\"ano\"]<2024]\n",
    "historic_data[\"key\"] = historic_data[\"ncm\"].astype(str) + '-' + historic_data[\"name_pt\"] + '-' + \\\n",
    "                      historic_data['importador_municipio'] + '-' + historic_data['urf']\n",
    "\n",
    "# Filtro do dados realizado interpolado somente para o que tem dado realizado em 2024\n",
    "historic_data = historic_data[[\"key\", \"semestre\", \"ano\",\"avg_valor_item\"]].copy()\n",
    "historic_data = historic_data[historic_data[\"key\"].isin(keys_2_check)].copy()\n",
    "\n",
    "# Junção do realizado interpolado + realizado em 2024\n",
    "final_data = pd.concat([historic_data, grouped_2_check])\n",
    "final_data[\"ano_semestre\"] = final_data[\"ano\"]*10 + final_data[\"semestre\"]\n",
    "final_data_gp = final_data.groupby([\"key\", \"ano_semestre\"], as_index=False).mean(\"avg_valor_item\")\n",
    "final_data_gp.sort_values(by=[\"key\", \"ano_semestre\"], inplace=True)\n",
    "\n",
    "# Pivot da tabela para facilitar a iteração dos grupos\n",
    "final_data_pivot = final_data_gp.pivot(columns=\"ano_semestre\", index=\"key\", values=\"avg_valor_item\")\n",
    "final_data_pivot = final_data_pivot.dropna(subset=[20232, 20241])\n",
    "# Aplicação da regra de queda ou aumento no valor unitário\n",
    "final_data_pivot[\"trend_realizada\"] = final_data_pivot.apply(lambda x: \"aumento\" if x[20232] < x[20241] else \"queda\" if,axis=1)\n",
    "\n",
    "true_data = final_data_pivot[[\"trend_realizada\"]].copy().reset_index()"
   ],
   "metadata": {
    "collapsed": false,
    "ExecuteTime": {
     "end_time": "2024-03-08T18:58:33.283490200Z",
     "start_time": "2024-03-08T18:58:30.694471900Z"
    }
   },
   "id": "99a983ca6d84ce1b"
  },
  {
   "cell_type": "code",
   "execution_count": 19,
   "outputs": [],
   "source": [
    "true_data"
   ],
   "metadata": {
    "collapsed": false
   },
   "id": "b50fd808abc0b492"
  },
  {
   "cell_type": "code",
   "execution_count": 10,
   "outputs": [],
   "source": [
    "# Checar as previsões\n",
    "processed_data = pd.read_parquet(\"../data/processed/trended_data_interpolated_treated.parquet\")\n",
    "processed_data = processed_data[processed_data[\"ano\"]>=2023]\n",
    "processed_data[\"key\"] = processed_data[\"ncm\"].astype(str) + '-' + processed_data[\"name_pt\"] + '-' + \\\n",
    "                      processed_data['importador_municipio'] + '-' + processed_data['urf']\n",
    "\n",
    "processed_data[\"ano_semestre\"] = processed_data[\"ano\"]*10 + processed_data[\"semestre\"]\n",
    "processed_data = processed_data.groupby([\"key\", \"ano_semestre\"], as_index=False).mean(\"avg_valor_item\")\n",
    "processed_data.sort_values(by=[\"key\", \"ano_semestre\"], inplace=True)"
   ],
   "metadata": {
    "collapsed": false,
    "ExecuteTime": {
     "end_time": "2024-03-08T18:58:35.001148Z",
     "start_time": "2024-03-08T18:58:33.283490200Z"
    }
   },
   "id": "c7551b91027e8721"
  },
  {
   "cell_type": "code",
   "execution_count": 11,
   "outputs": [
    {
     "data": {
      "text/plain": "ano_semestre                                                key  \\\n0             1.00119E7-ARGENTINA-PASSO FUNDO-AEROPORTO INTE...   \n1                1.00199E7-ARGENTINA-ALTOS-IRF - PORTO DE PECÉM   \n2                1.00199E7-ARGENTINA-ALTOS-IRF - PORTO DE SUAPE   \n3                     1.00199E7-ARGENTINA-ALTOS-PORTO DE SANTOS   \n4                   1.00199E7-ARGENTINA-AQUIRAZ-ALF - FORTALEZA   \n\nano_semestre trend_projetada  \n0                      queda  \n1                    aumento  \n2                      queda  \n3                      queda  \n4                    aumento  ",
      "text/html": "<div>\n<style scoped>\n    .dataframe tbody tr th:only-of-type {\n        vertical-align: middle;\n    }\n\n    .dataframe tbody tr th {\n        vertical-align: top;\n    }\n\n    .dataframe thead th {\n        text-align: right;\n    }\n</style>\n<table border=\"1\" class=\"dataframe\">\n  <thead>\n    <tr style=\"text-align: right;\">\n      <th>ano_semestre</th>\n      <th>key</th>\n      <th>trend_projetada</th>\n    </tr>\n  </thead>\n  <tbody>\n    <tr>\n      <th>0</th>\n      <td>1.00119E7-ARGENTINA-PASSO FUNDO-AEROPORTO INTE...</td>\n      <td>queda</td>\n    </tr>\n    <tr>\n      <th>1</th>\n      <td>1.00199E7-ARGENTINA-ALTOS-IRF - PORTO DE PECÉM</td>\n      <td>aumento</td>\n    </tr>\n    <tr>\n      <th>2</th>\n      <td>1.00199E7-ARGENTINA-ALTOS-IRF - PORTO DE SUAPE</td>\n      <td>queda</td>\n    </tr>\n    <tr>\n      <th>3</th>\n      <td>1.00199E7-ARGENTINA-ALTOS-PORTO DE SANTOS</td>\n      <td>queda</td>\n    </tr>\n    <tr>\n      <th>4</th>\n      <td>1.00199E7-ARGENTINA-AQUIRAZ-ALF - FORTALEZA</td>\n      <td>aumento</td>\n    </tr>\n  </tbody>\n</table>\n</div>"
     },
     "execution_count": 11,
     "metadata": {},
     "output_type": "execute_result"
    }
   ],
   "source": [
    "processed_data_pivot = processed_data.pivot(columns=\"ano_semestre\", index=\"key\", values=\"avg_valor_item\")\n",
    "processed_data_pivot[\"trend_projetada\"] = processed_data_pivot.apply(lambda x: \"aumento\" if x[20232] < x[20241] else \"queda\",axis=1)\n",
    "processed_data_trend = processed_data_pivot[[\"trend_projetada\"]].copy().reset_index()\n",
    "processed_data_trend.head()"
   ],
   "metadata": {
    "collapsed": false,
    "ExecuteTime": {
     "end_time": "2024-03-08T18:58:36.770490100Z",
     "start_time": "2024-03-08T18:58:35.001148Z"
    }
   },
   "id": "21f12e9fd4a5f073"
  },
  {
   "cell_type": "code",
   "execution_count": 12,
   "outputs": [
    {
     "data": {
      "text/plain": "1    0.507354\n0    0.492646\nName: score, dtype: float64"
     },
     "execution_count": 12,
     "metadata": {},
     "output_type": "execute_result"
    }
   ],
   "source": [
    "# Merge data\n",
    "trend_n_real = processed_data_trend.merge(true_data, on=\"key\")\n",
    "trend_n_real[\"score\"] = trend_n_real.apply(lambda x: 1 if x[\"trend_projetada\"] == x[\"trend_realizada\"] else 0,axis=1) \n",
    "trend_n_real[\"score\"].value_counts()/trend_n_real.shape[0]"
   ],
   "metadata": {
    "collapsed": false,
    "ExecuteTime": {
     "end_time": "2024-03-08T18:59:47.151929800Z",
     "start_time": "2024-03-08T18:59:46.957303600Z"
    }
   },
   "id": "f8b29bd03f5c3093"
  }
 ],
 "metadata": {
  "kernelspec": {
   "display_name": "Python 3",
   "language": "python",
   "name": "python3"
  },
  "language_info": {
   "codemirror_mode": {
    "name": "ipython",
    "version": 2
   },
   "file_extension": ".py",
   "mimetype": "text/x-python",
   "name": "python",
   "nbconvert_exporter": "python",
   "pygments_lexer": "ipython2",
   "version": "2.7.6"
  }
 },
 "nbformat": 4,
 "nbformat_minor": 5
}
