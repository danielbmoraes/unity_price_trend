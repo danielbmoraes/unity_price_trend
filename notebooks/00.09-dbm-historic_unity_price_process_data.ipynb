{
 "cells": [
  {
   "cell_type": "raw",
   "source": [
    "# #%% md\n",
    "# Shipper-Brand Relation"
   ],
   "metadata": {
    "collapsed": false
   },
   "id": "43393a88d8db239d"
  },
  {
   "cell_type": "markdown",
   "source": [
    "Esse notebook tem por objetivo fazer a relação de empresas que importam somente uma marca, facilitando a relação importador-"
   ],
   "metadata": {
    "collapsed": false
   },
   "id": "ee3547a85086aa1f"
  },
  {
   "cell_type": "code",
   "execution_count": 1,
   "id": "2247626460e056ff",
   "metadata": {
    "collapsed": true,
    "ExecuteTime": {
     "start_time": "2024-02-29T15:23:25.026133900Z"
    }
   },
   "outputs": [],
   "source": [
    "# Importing the modules needed\n",
    "import sys\n",
    "\n",
    "import pandas as pd\n",
    "\n",
    "sys.path.append(\"../src/\")\n",
    "\n",
    "from src.data.dremio_utils import *\n",
    "# Data Handling\n",
    "from dotenv import dotenv_values \n",
    "\n",
    "import numpy as np\n",
    "from tqdm import tqdm\n",
    "from pyspark import SparkContext\n",
    "from pyspark.sql import SparkSession\n",
    "from pyspark.sql.functions import udf\n",
    "from pyspark.sql.types import StructType, StructField, StringType, IntegerType, FloatType, DateType, TimestampType\n",
    "\n",
    "# import pyspark.pandas as pd"
   ]
  },
  {
   "cell_type": "code",
   "execution_count": 46,
   "outputs": [
    {
     "data": {
      "text/plain": "<pyspark.sql.session.SparkSession at 0x21009e74ca0>",
      "text/html": "\n            <div>\n                <p><b>SparkSession - in-memory</b></p>\n                \n        <div>\n            <p><b>SparkContext</b></p>\n\n            <p><a href=\"http://192.168.0.7:4041\">Spark UI</a></p>\n\n            <dl>\n              <dt>Version</dt>\n                <dd><code>v3.0.1</code></dd>\n              <dt>Master</dt>\n                <dd><code>local[1]</code></dd>\n              <dt>AppName</dt>\n                <dd><code>attributes_dict</code></dd>\n            </dl>\n        </div>\n        \n            </div>\n        "
     },
     "execution_count": 46,
     "metadata": {},
     "output_type": "execute_result"
    }
   ],
   "source": [
    "spark = SparkSession.builder.master(\"local[1]\").appName(\"attributes_dict\").getOrCreate()\n",
    "spark"
   ],
   "metadata": {
    "collapsed": false,
    "ExecuteTime": {
     "end_time": "2024-02-26T18:20:42.620431900Z",
     "start_time": "2024-02-26T18:20:42.302575300Z"
    }
   },
   "id": "9f4b6b3ba58fedc9"
  },
  {
   "cell_type": "code",
   "execution_count": 47,
   "outputs": [],
   "source": [
    "config = dotenv_values(\".env\")\n",
    "bds = BaseDremioService(config)"
   ],
   "metadata": {
    "collapsed": false,
    "ExecuteTime": {
     "end_time": "2024-02-26T18:20:42.620431900Z",
     "start_time": "2024-02-26T18:20:42.318280500Z"
    }
   },
   "id": "b958cb0ee3f1a4f9"
  },
  {
   "cell_type": "markdown",
   "source": [
    "## 1. Getting Merged Data"
   ],
   "metadata": {
    "collapsed": false
   },
   "id": "7a857a09bd42d6f3"
  },
  {
   "cell_type": "markdown",
   "source": [
    "# leitura do dataset histórico"
   ],
   "metadata": {
    "collapsed": false
   },
   "id": "9ca3c4679af015fc"
  },
  {
   "cell_type": "code",
   "execution_count": 48,
   "outputs": [
    {
     "name": "stdout",
     "output_type": "stream",
     "text": [
      "root\n",
      " |-- id_pais_origem: string (nullable = true)\n",
      " |-- ncm: string (nullable = true)\n",
      " |-- importador_uf: string (nullable = true)\n",
      " |-- importador_municipio: string (nullable = true)\n",
      " |-- urf: string (nullable = true)\n",
      " |-- anomes: string (nullable = true)\n",
      " |-- avg_valor_item: double (nullable = true)\n",
      " |-- semestre: long (nullable = true)\n",
      " |-- ano: long (nullable = true)\n",
      " |-- ano_semestre: long (nullable = true)\n",
      " |-- __index_level_0__: long (nullable = true)\n"
     ]
    }
   ],
   "source": [
    "historic_data = spark.read.parquet(\"../data/processed/average_unity_price_historic.parquet\")\n",
    "# Agrupar por semestre\n",
    "historic_data.printSchema()"
   ],
   "metadata": {
    "collapsed": false,
    "ExecuteTime": {
     "end_time": "2024-02-26T18:20:42.651866100Z",
     "start_time": "2024-02-26T18:20:42.369236200Z"
    }
   },
   "id": "fd5820b6b16ce874"
  },
  {
   "cell_type": "markdown",
   "source": [
    "# Completar com os meses futuros"
   ],
   "metadata": {
    "collapsed": false
   },
   "id": "9467b806ef85c594"
  },
  {
   "cell_type": "code",
   "execution_count": 49,
   "outputs": [
    {
     "data": {
      "text/plain": "DataFrame[ano: int, semestre: bigint, ano_semestre: bigint, avg_valor_item: double, ncm: string, id_pais_origem: string]"
     },
     "execution_count": 49,
     "metadata": {},
     "output_type": "execute_result"
    }
   ],
   "source": [
    "spark.read.parquet(\"../data/processed/trend_values/trend_lines.parquet\")"
   ],
   "metadata": {
    "collapsed": false,
    "ExecuteTime": {
     "end_time": "2024-02-26T18:20:42.784912700Z",
     "start_time": "2024-02-26T18:20:42.653968900Z"
    }
   },
   "id": "3ed63ee82e0d2014"
  },
  {
   "cell_type": "code",
   "execution_count": 50,
   "outputs": [],
   "source": [
    "# Creathe the date template to be crossed\n",
    "template_data = [\n",
    "    {\"ano\": 2018, \"semestre\": 1}, {\"ano\": 2018, \"semestre\": 2},\n",
    "    {\"ano\": 2019, \"semestre\": 1}, {\"ano\": 2019, \"semestre\": 2},\n",
    "    {\"ano\": 2020, \"semestre\": 1}, {\"ano\": 2020, \"semestre\": 2},\n",
    "    {\"ano\": 2021, \"semestre\": 1}, {\"ano\": 2021, \"semestre\": 2},\n",
    "    {\"ano\": 2022, \"semestre\": 1}, {\"ano\": 2022, \"semestre\": 2},\n",
    "    {\"ano\": 2023, \"semestre\": 1}, {\"ano\": 2023, \"semestre\": 2}, \n",
    "    {\"ano\": 2024, \"semestre\": 1}, {\"ano\": 2024, \"semestre\": 2}]\n",
    "\n",
    "template_schema = StructType([StructField(\"ano\", IntegerType()),\n",
    "                              StructField(\"semestre\", IntegerType())])\n",
    "\n",
    "data_template = spark.createDataFrame(data=template_data, schema=template_schema)"
   ],
   "metadata": {
    "collapsed": false,
    "ExecuteTime": {
     "end_time": "2024-02-26T18:20:42.867185100Z",
     "start_time": "2024-02-26T18:20:42.788043100Z"
    }
   },
   "id": "932a65e66dd2d470"
  },
  {
   "cell_type": "code",
   "execution_count": 51,
   "outputs": [],
   "source": [
    "unique_combinations = historic_data.select(\n",
    "    historic_data.ncm,\n",
    "    historic_data.id_pais_origem,\n",
    "    historic_data.importador_municipio,\n",
    "    historic_data.importador_uf,\n",
    "    historic_data.urf\n",
    ").distinct()"
   ],
   "metadata": {
    "collapsed": false,
    "ExecuteTime": {
     "end_time": "2024-02-26T18:20:42.915035800Z",
     "start_time": "2024-02-26T18:20:42.867185100Z"
    }
   },
   "id": "6c9df6b7384f2e57"
  },
  {
   "cell_type": "code",
   "execution_count": 52,
   "outputs": [
    {
     "name": "stdout",
     "output_type": "stream",
     "text": [
      "root\n",
      " |-- ncm: string (nullable = true)\n",
      " |-- id_pais_origem: string (nullable = true)\n",
      " |-- importador_municipio: string (nullable = true)\n",
      " |-- importador_uf: string (nullable = true)\n",
      " |-- urf: string (nullable = true)\n"
     ]
    }
   ],
   "source": [
    "unique_combinations.printSchema()"
   ],
   "metadata": {
    "collapsed": false,
    "ExecuteTime": {
     "end_time": "2024-02-26T18:20:42.915035800Z",
     "start_time": "2024-02-26T18:20:42.902987200Z"
    }
   },
   "id": "4028911307e5bce7"
  },
  {
   "cell_type": "code",
   "execution_count": 53,
   "outputs": [
    {
     "name": "stdout",
     "output_type": "stream",
     "text": [
      "root\n",
      " |-- ncm: string (nullable = true)\n",
      " |-- id_pais_origem: string (nullable = true)\n",
      " |-- importador_municipio: string (nullable = true)\n",
      " |-- importador_uf: string (nullable = true)\n",
      " |-- urf: string (nullable = true)\n",
      " |-- ano: integer (nullable = true)\n",
      " |-- semestre: integer (nullable = true)\n"
     ]
    }
   ],
   "source": [
    "data_2b_filled = unique_combinations.crossJoin(data_template)\n",
    "data_2b_filled = data_2b_filled.dropna()\n",
    "data_2b_filled.printSchema()"
   ],
   "metadata": {
    "collapsed": false,
    "ExecuteTime": {
     "end_time": "2024-02-26T18:20:42.993842900Z",
     "start_time": "2024-02-26T18:20:42.919430400Z"
    }
   },
   "id": "8f2f30d8ddcf53b2"
  },
  {
   "cell_type": "code",
   "execution_count": 54,
   "outputs": [],
   "source": [
    "data_2b_filled = data_2b_filled.filter((data_2b_filled.urf != \"\") & \n",
    "                      (data_2b_filled.importador_uf != \"\") &\n",
    "                      (data_2b_filled.importador_municipio != \"\"))"
   ],
   "metadata": {
    "collapsed": false,
    "ExecuteTime": {
     "end_time": "2024-02-26T18:20:43.003332300Z",
     "start_time": "2024-02-26T18:20:42.946533600Z"
    }
   },
   "id": "45c240f1b72e373f"
  },
  {
   "cell_type": "code",
   "execution_count": 55,
   "outputs": [
    {
     "name": "stdout",
     "output_type": "stream",
     "text": [
      "root\n",
      " |-- ncm: string (nullable = true)\n",
      " |-- id_pais_origem: string (nullable = true)\n",
      " |-- importador_municipio: string (nullable = true)\n",
      " |-- importador_uf: string (nullable = true)\n",
      " |-- urf: string (nullable = true)\n",
      " |-- ano: integer (nullable = true)\n",
      " |-- semestre: integer (nullable = true)\n",
      " |-- anomes: string (nullable = true)\n",
      " |-- avg_valor_item: double (nullable = true)\n",
      " |-- ano_semestre: long (nullable = true)\n",
      " |-- __index_level_0__: long (nullable = true)\n"
     ]
    }
   ],
   "source": [
    "data_filled = data_2b_filled.join(historic_data, [\"ncm\", \"id_pais_origem\", \"importador_municipio\", \"importador_uf\", \"urf\", \"ano\", \"semestre\"], how='left')\n",
    "data_filled.printSchema()"
   ],
   "metadata": {
    "collapsed": false,
    "ExecuteTime": {
     "end_time": "2024-02-26T18:20:43.050911300Z",
     "start_time": "2024-02-26T18:20:42.999335Z"
    }
   },
   "id": "df824c71a61765b1"
  },
  {
   "cell_type": "code",
   "execution_count": 56,
   "outputs": [
    {
     "name": "stdout",
     "output_type": "stream",
     "text": [
      "+---------+--------------+--------------------+-------------+--------------------+----+--------+------+-----------------+------------+-----------------+\n",
      "|      ncm|id_pais_origem|importador_municipio|importador_uf|                 urf| ano|semestre|anomes|   avg_valor_item|ano_semestre|__index_level_0__|\n",
      "+---------+--------------+--------------------+-------------+--------------------+----+--------+------+-----------------+------------+-----------------+\n",
      "|1.00191E7|        MÉXICO|                  RS|  PASSO FUNDO|AEROPORTO INTERNA...|2024|       2|  null|             null|        null|             null|\n",
      "|1.00199E7|     ARGENTINA|       CAXIAS DO SUL|           RS|        IRF - ITAQUI|2023|       2|  null|             null|        null|             null|\n",
      "|1.00199E7|     ARGENTINA|                  DF|     BRASILIA|     PORTO DE SANTOS|2024|       1|  null|             null|        null|             null|\n",
      "|1.00199E7|     ARGENTINA|           FORTALEZA|           CE|     ALF - FORTALEZA|2019|       2|201910|241.5500030517578|      201902|             4965|\n",
      "|1.00199E7|     ARGENTINA|           FORTALEZA|           CE|     ALF - FORTALEZA|2019|       2|201907|           217.25|      201902|          1103954|\n",
      "+---------+--------------+--------------------+-------------+--------------------+----+--------+------+-----------------+------------+-----------------+\n"
     ]
    }
   ],
   "source": [
    "data_filled.show(5)"
   ],
   "metadata": {
    "collapsed": false,
    "ExecuteTime": {
     "end_time": "2024-02-26T18:23:53.427730300Z",
     "start_time": "2024-02-26T18:20:43.041872800Z"
    }
   },
   "id": "ea1626e1c91c6374"
  },
  {
   "cell_type": "markdown",
   "source": [
    "\n",
    "## Ler os dados de linha de tendência;"
   ],
   "metadata": {
    "collapsed": false
   },
   "id": "58713b6ec0724937"
  },
  {
   "cell_type": "code",
   "execution_count": 57,
   "outputs": [
    {
     "name": "stdout",
     "output_type": "stream",
     "text": [
      "root\n",
      " |-- ano: integer (nullable = true)\n",
      " |-- semestre: long (nullable = true)\n",
      " |-- ano_semestre: long (nullable = true)\n",
      " |-- avg_valor_item: double (nullable = true)\n",
      " |-- ncm: string (nullable = true)\n",
      " |-- id_pais_origem: string (nullable = true)\n"
     ]
    }
   ],
   "source": [
    "tl_data = spark.read.parquet(\"../data/processed/trend_values/trend_lines.parquet\")\n",
    "tl_data.printSchema()\n",
    "# tl_data = grouped_data[(grouped_data[\"importador_uf\"] != \"\") & (grouped_data[\"importador_municipio\"] != \"\")].copy()"
   ],
   "metadata": {
    "collapsed": false,
    "ExecuteTime": {
     "end_time": "2024-02-26T18:23:53.554495500Z",
     "start_time": "2024-02-26T18:23:53.427730300Z"
    }
   },
   "id": "2d1247de32c7bc35"
  },
  {
   "cell_type": "markdown",
   "source": [
    "## Juntar histórico com gabarito futuro"
   ],
   "metadata": {
    "collapsed": false
   },
   "id": "d0940dc8c8bcb671"
  },
  {
   "cell_type": "code",
   "execution_count": 58,
   "outputs": [],
   "source": [
    "data_trended = data_filled.join(tl_data, [\"ncm\", \"id_pais_origem\"], how='left').select(data_filled.ncm, \n",
    "                                                                                        data_filled.id_pais_origem,\n",
    "                                                                                        data_filled.importador_municipio,\n",
    "                                                                                        data_filled.importador_uf,\n",
    "                                                                                        data_filled.urf,\n",
    "                                                                                        data_filled.ano,\n",
    "                                                                                        data_filled.semestre,\n",
    "                                                                                        tl_data.avg_valor_item)"
   ],
   "metadata": {
    "collapsed": false,
    "ExecuteTime": {
     "end_time": "2024-02-26T18:23:53.633529700Z",
     "start_time": "2024-02-26T18:23:53.554495500Z"
    }
   },
   "id": "9e8b0cb393cd61b5"
  },
  {
   "cell_type": "markdown",
   "source": [
    "# Interpolar meses faltantes"
   ],
   "metadata": {
    "collapsed": false
   },
   "id": "9accde6737ec2f88"
  },
  {
   "cell_type": "code",
   "execution_count": 60,
   "outputs": [],
   "source": [
    "data_trended.write.parquet(\"../data/interim/trended_values/\", mode=\"overwrite\")"
   ],
   "metadata": {
    "collapsed": false,
    "ExecuteTime": {
     "end_time": "2024-02-26T18:29:55.275523600Z",
     "start_time": "2024-02-26T18:25:11.922386100Z"
    }
   },
   "id": "42996bef6833a929"
  },
  {
   "cell_type": "code",
   "execution_count": 61,
   "outputs": [],
   "source": [
    "import pyarrow.parquet as pq\n",
    "\n",
    "table = pq.read_table(\"../data/interim/trended_values/\")\n",
    "df = table.to_pandas()"
   ],
   "metadata": {
    "collapsed": false,
    "ExecuteTime": {
     "end_time": "2024-02-26T18:31:13.600666100Z",
     "start_time": "2024-02-26T18:29:55.276526200Z"
    }
   },
   "id": "70989bd5349fc0e6"
  },
  {
   "cell_type": "code",
   "execution_count": 62,
   "outputs": [
    {
     "data": {
      "text/plain": "         ncm id_pais_origem importador_municipio importador_uf  \\\n0  1.00191E7         MÉXICO                   RS   PASSO FUNDO   \n1  1.00191E7         MÉXICO                   RS   PASSO FUNDO   \n2  1.00191E7         MÉXICO                   RS   PASSO FUNDO   \n3  1.00191E7         MÉXICO                   RS   PASSO FUNDO   \n4  1.00191E7         MÉXICO                   RS   PASSO FUNDO   \n\n                                    urf   ano  semestre  avg_valor_item  \n0  AEROPORTO INTERNACIONAL DE VIRACOPOS  2024         2        1.356255  \n1  AEROPORTO INTERNACIONAL DE VIRACOPOS  2024         2        1.352692  \n2  AEROPORTO INTERNACIONAL DE VIRACOPOS  2024         2        1.356255  \n3  AEROPORTO INTERNACIONAL DE VIRACOPOS  2024         2        1.352692  \n4  AEROPORTO INTERNACIONAL DE VIRACOPOS  2024         2        1.356255  ",
      "text/html": "<div>\n<style scoped>\n    .dataframe tbody tr th:only-of-type {\n        vertical-align: middle;\n    }\n\n    .dataframe tbody tr th {\n        vertical-align: top;\n    }\n\n    .dataframe thead th {\n        text-align: right;\n    }\n</style>\n<table border=\"1\" class=\"dataframe\">\n  <thead>\n    <tr style=\"text-align: right;\">\n      <th></th>\n      <th>ncm</th>\n      <th>id_pais_origem</th>\n      <th>importador_municipio</th>\n      <th>importador_uf</th>\n      <th>urf</th>\n      <th>ano</th>\n      <th>semestre</th>\n      <th>avg_valor_item</th>\n    </tr>\n  </thead>\n  <tbody>\n    <tr>\n      <th>0</th>\n      <td>1.00191E7</td>\n      <td>MÉXICO</td>\n      <td>RS</td>\n      <td>PASSO FUNDO</td>\n      <td>AEROPORTO INTERNACIONAL DE VIRACOPOS</td>\n      <td>2024</td>\n      <td>2</td>\n      <td>1.356255</td>\n    </tr>\n    <tr>\n      <th>1</th>\n      <td>1.00191E7</td>\n      <td>MÉXICO</td>\n      <td>RS</td>\n      <td>PASSO FUNDO</td>\n      <td>AEROPORTO INTERNACIONAL DE VIRACOPOS</td>\n      <td>2024</td>\n      <td>2</td>\n      <td>1.352692</td>\n    </tr>\n    <tr>\n      <th>2</th>\n      <td>1.00191E7</td>\n      <td>MÉXICO</td>\n      <td>RS</td>\n      <td>PASSO FUNDO</td>\n      <td>AEROPORTO INTERNACIONAL DE VIRACOPOS</td>\n      <td>2024</td>\n      <td>2</td>\n      <td>1.356255</td>\n    </tr>\n    <tr>\n      <th>3</th>\n      <td>1.00191E7</td>\n      <td>MÉXICO</td>\n      <td>RS</td>\n      <td>PASSO FUNDO</td>\n      <td>AEROPORTO INTERNACIONAL DE VIRACOPOS</td>\n      <td>2024</td>\n      <td>2</td>\n      <td>1.352692</td>\n    </tr>\n    <tr>\n      <th>4</th>\n      <td>1.00191E7</td>\n      <td>MÉXICO</td>\n      <td>RS</td>\n      <td>PASSO FUNDO</td>\n      <td>AEROPORTO INTERNACIONAL DE VIRACOPOS</td>\n      <td>2024</td>\n      <td>2</td>\n      <td>1.356255</td>\n    </tr>\n  </tbody>\n</table>\n</div>"
     },
     "execution_count": 62,
     "metadata": {},
     "output_type": "execute_result"
    }
   ],
   "source": [
    "df.head()"
   ],
   "metadata": {
    "collapsed": false,
    "ExecuteTime": {
     "end_time": "2024-02-26T18:31:13.805056600Z",
     "start_time": "2024-02-26T18:31:13.631914900Z"
    }
   },
   "id": "aea09357c4697e88"
  },
  {
   "cell_type": "code",
   "execution_count": 63,
   "outputs": [],
   "source": [
    "df[\"avg_valor_item\"] = df[\"avg_valor_item\"].interpolate()"
   ],
   "metadata": {
    "collapsed": false,
    "ExecuteTime": {
     "end_time": "2024-02-26T18:31:36.070229300Z",
     "start_time": "2024-02-26T18:31:13.704999300Z"
    }
   },
   "id": "ec2a21b9aaad19cc"
  },
  {
   "cell_type": "code",
   "execution_count": 64,
   "outputs": [
    {
     "data": {
      "text/plain": "Index(['ncm', 'id_pais_origem', 'importador_municipio', 'importador_uf', 'urf',\n       'ano', 'semestre', 'avg_valor_item'],\n      dtype='object')"
     },
     "execution_count": 64,
     "metadata": {},
     "output_type": "execute_result"
    }
   ],
   "source": [
    "df.columns"
   ],
   "metadata": {
    "collapsed": false,
    "ExecuteTime": {
     "end_time": "2024-02-26T18:31:36.128134900Z",
     "start_time": "2024-02-26T18:31:35.488556700Z"
    }
   },
   "id": "757f6c988f3dab0b"
  },
  {
   "cell_type": "code",
   "execution_count": null,
   "outputs": [],
   "source": [
    "df_grouped = df.groupby(['ncm', 'id_pais_origem', 'importador_municipio', 'importador_uf', 'urf','ano', 'semestre'], \\\n",
    "                        as_index=False).mean('avg_valor_item')"
   ],
   "metadata": {
    "collapsed": false,
    "is_executing": true,
    "ExecuteTime": {
     "start_time": "2024-02-26T18:31:35.509849100Z"
    }
   },
   "id": "5062a5115467c73b"
  },
  {
   "cell_type": "code",
   "execution_count": null,
   "outputs": [],
   "source": [
    "df_grouped[\"old_municipio\"] = df_grouped[\"importador_municipio\"]"
   ],
   "metadata": {
    "collapsed": false,
    "is_executing": true
   },
   "id": "eddd698a3d66e796"
  },
  {
   "cell_type": "code",
   "execution_count": null,
   "outputs": [],
   "source": [],
   "metadata": {
    "collapsed": false
   },
   "id": "6541d626b1f8bd11"
  },
  {
   "cell_type": "code",
   "execution_count": null,
   "outputs": [],
   "source": [
    "estados_br = [\"AC\",\"AL\",\"AP\",\"AM\",\"BA\",\"CE\",\"ES\",\"GO\",\"MA\",\"MT\",\"MS\",\"MG\",\"PA\",\"PB\",\"PR\",\"PE\",\n",
    "              \"PI\",\"RJ\",\"RN\",\"RS\",\"RO\",\"RR\",\"SC\",\"SP\",\"SE\",\"TO\",\"DF\"]\n",
    "\n",
    "print(\"Ajustando importador UF\")\n",
    "df_grouped[\"importador_uf_new\"] = df_grouped.apply(lambda x: x[\"importador_uf\"] if x[\"importador_uf\"] in estados_br \\\n",
    "    else x[\"importador_municipio\"], axis=1)\n",
    "\n",
    "print(\"Ajustando importador municipio\")\n",
    "df_grouped[\"importador_municipio_new\"] = df_grouped.apply(lambda x: x[\"old_municipio\"] if x[\"old_municipio\"] not in estados_br \\\n",
    "    else x[\"importador_uf\"],axis=1)"
   ],
   "metadata": {
    "collapsed": false,
    "is_executing": true
   },
   "id": "c313b2f63a023e2f"
  },
  {
   "cell_type": "code",
   "execution_count": null,
   "outputs": [],
   "source": [
    "df_grouped.drop(columns=['importador_municipio', \"importador_uf\", \"old_municipio\"], inplace=True)"
   ],
   "metadata": {
    "collapsed": false,
    "is_executing": true
   },
   "id": "3d5113c33f032b95"
  },
  {
   "cell_type": "code",
   "execution_count": null,
   "outputs": [],
   "source": [
    "df_grouped.rename(columns={\"importador_municipio_new\": \"importador_municipio\", \n",
    "                   \"importador_uf_new\": \"importador_uf\",\n",
    "                    \"id_pais_origem\": \"name_pt\"}, inplace=True)"
   ],
   "metadata": {
    "collapsed": false,
    "is_executing": true
   },
   "id": "10f86042f13e0d9f"
  },
  {
   "cell_type": "code",
   "execution_count": null,
   "outputs": [],
   "source": [
    "df_grouped = df_grouped[df_grouped[\"avg_valor_item\"] > 0]"
   ],
   "metadata": {
    "collapsed": false,
    "is_executing": true
   },
   "id": "a1a03918cd86c5a"
  },
  {
   "cell_type": "code",
   "execution_count": null,
   "outputs": [],
   "source": [
    "df_grouped.head()"
   ],
   "metadata": {
    "collapsed": false,
    "is_executing": true
   },
   "id": "bf317a337fc3e4c6"
  },
  {
   "cell_type": "code",
   "execution_count": null,
   "outputs": [],
   "source": [
    "df_grouped.to_parquet(\"../data/processed/trend_line_and_historic_average_unity_price.parquet\",index=False)"
   ],
   "metadata": {
    "collapsed": false,
    "is_executing": true
   },
   "id": "8b5ba11f3f50a8b5"
  },
  {
   "cell_type": "code",
   "execution_count": null,
   "outputs": [],
   "source": [
    "import plotly.express as px\n",
    "\n",
    "px.histogram(df_grouped, x='avg_valor_item')"
   ],
   "metadata": {
    "collapsed": false,
    "ExecuteTime": {
     "start_time": "2024-02-26T18:23:54.139648200Z"
    }
   },
   "id": "9cbb332ab8952d1b"
  }
 ],
 "metadata": {
  "kernelspec": {
   "display_name": "Python 3",
   "language": "python",
   "name": "python3"
  },
  "language_info": {
   "codemirror_mode": {
    "name": "ipython",
    "version": 2
   },
   "file_extension": ".py",
   "mimetype": "text/x-python",
   "name": "python",
   "nbconvert_exporter": "python",
   "pygments_lexer": "ipython2",
   "version": "2.7.6"
  }
 },
 "nbformat": 4,
 "nbformat_minor": 5
}
