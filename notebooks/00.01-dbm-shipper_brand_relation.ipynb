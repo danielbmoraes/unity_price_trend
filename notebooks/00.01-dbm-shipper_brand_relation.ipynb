{
 "cells": [
  {
   "cell_type": "markdown",
   "source": [
    "# Shipper-Brand Relation"
   ],
   "metadata": {
    "collapsed": false
   },
   "id": "401bf5dc9b838f33"
  },
  {
   "cell_type": "markdown",
   "source": [
    "Esse notebook tem por objetivo fazer a relação de empresas que importam somente uma marca, facilitando a relação importador-"
   ],
   "metadata": {
    "collapsed": false
   },
   "id": "ee3547a85086aa1f"
  },
  {
   "cell_type": "code",
   "execution_count": 1,
   "id": "9f4b6b3ba58fedc9",
   "metadata": {
    "collapsed": true,
    "ExecuteTime": {
     "end_time": "2023-12-22T17:27:57.427618300Z",
     "start_time": "2023-12-22T17:27:54.321170600Z"
    }
   },
   "outputs": [],
   "source": [
    "# Importing the modules needed\n",
    "import sys\n",
    "sys.path.append(\"../src/\")\n",
    "\n",
    "from src.data.dremio_utils import *\n",
    "# Data Handling\n",
    "from dotenv import dotenv_values \n",
    "from pyarrow import flight\n",
    "import pandas as pd"
   ]
  },
  {
   "cell_type": "markdown",
   "source": [
    "> configure the notebook"
   ],
   "metadata": {
    "collapsed": false
   },
   "id": "5f07bae431a94de"
  },
  {
   "cell_type": "code",
   "execution_count": 2,
   "outputs": [],
   "source": [
    "config = dotenv_values(\".env\")\n",
    "bds = BaseDremioService(config)"
   ],
   "metadata": {
    "collapsed": false,
    "ExecuteTime": {
     "end_time": "2023-12-22T17:28:04.097570600Z",
     "start_time": "2023-12-22T17:28:04.070492900Z"
    }
   },
   "id": "b958cb0ee3f1a4f9"
  },
  {
   "cell_type": "markdown",
   "source": [
    "## 1. Extract"
   ],
   "metadata": {
    "collapsed": false
   },
   "id": "7a857a09bd42d6f3"
  },
  {
   "cell_type": "code",
   "execution_count": 1,
   "outputs": [
    {
     "ename": "NameError",
     "evalue": "name 'bds' is not defined",
     "output_type": "error",
     "traceback": [
      "\u001B[1;31m---------------------------------------------------------------------------\u001B[0m",
      "\u001B[1;31mNameError\u001B[0m                                 Traceback (most recent call last)",
      "Cell \u001B[1;32mIn[1], line 11\u001B[0m\n\u001B[0;32m      1\u001B[0m big_data_di_sql \u001B[38;5;241m=\u001B[39m \u001B[38;5;124m'''\u001B[39m\u001B[38;5;124m \u001B[39m\n\u001B[0;32m      2\u001B[0m \u001B[38;5;124mselect \u001B[39m\n\u001B[0;32m      3\u001B[0m \u001B[38;5;124m    shipper_name,\u001B[39m\n\u001B[1;32m   (...)\u001B[0m\n\u001B[0;32m      9\u001B[0m \u001B[38;5;124m    attributes_pt like \u001B[39m\u001B[38;5;124m'\u001B[39m\u001B[38;5;124m%\u001B[39m\u001B[38;5;124mMARCA\u001B[39m\u001B[38;5;124m%\u001B[39m\u001B[38;5;124m'\u001B[39m\u001B[38;5;124m;\u001B[39m\n\u001B[0;32m     10\u001B[0m \u001B[38;5;124m'''\u001B[39m\n\u001B[1;32m---> 11\u001B[0m aux_df \u001B[38;5;241m=\u001B[39m \u001B[43mbds\u001B[49m\u001B[38;5;241m.\u001B[39mextract_dremio_dataset(big_data_di_sql)\n",
      "\u001B[1;31mNameError\u001B[0m: name 'bds' is not defined"
     ]
    }
   ],
   "source": [
    "big_data_di_sql = ''' \n",
    "select \n",
    "    shipper_name,\n",
    "    manufacturer_name\n",
    "    attributes_pt\n",
    "from \n",
    "    logcomex.\"search-impo\".gold.\"import_data\"\n",
    "where \n",
    "    attributes_pt like '%MARCA%';\n",
    "'''\n",
    "aux_df = bds.extract_dremio_dataset(big_data_di_sql)"
   ],
   "metadata": {
    "collapsed": false,
    "ExecuteTime": {
     "end_time": "2024-01-11T18:42:44.010850800Z",
     "start_time": "2024-01-11T18:42:43.839899800Z"
    }
   },
   "id": "f3a1ec05835a6adc"
  },
  {
   "cell_type": "code",
   "execution_count": null,
   "outputs": [],
   "source": [
    "aux_df.to_parquet(\"../data/raw/attributes_dict.parquet\")"
   ],
   "metadata": {
    "collapsed": false,
    "ExecuteTime": {
     "end_time": "2024-01-11T18:42:44.010850800Z",
     "start_time": "2024-01-11T18:42:44.010850800Z"
    }
   },
   "id": "initial_id"
  },
  {
   "cell_type": "markdown",
   "source": [
    "# 2. Transform the Data"
   ],
   "metadata": {
    "collapsed": false
   },
   "id": "2cd3b9648a0eb283"
  },
  {
   "cell_type": "code",
   "execution_count": 59,
   "outputs": [],
   "source": [
    "df = aux_df.copy()"
   ],
   "metadata": {
    "collapsed": false,
    "ExecuteTime": {
     "end_time": "2023-12-22T18:59:50.493991400Z",
     "start_time": "2023-12-22T18:59:48.859790Z"
    }
   },
   "id": "cea6fb42b69f98a0"
  },
  {
   "cell_type": "code",
   "execution_count": 60,
   "outputs": [],
   "source": [
    "# Filtrar somente as marcas\n",
    "def attributes_to_marca(row):\n",
    "    dict_att = eval(row)\n",
    "    \n",
    "    val = \"sem marca\"\n",
    "    if \"MARCA\" in dict_att.keys():\n",
    "        val = dict_att[\"MARCA\"]\n",
    "    \n",
    "    return val\n",
    "df[\"MARCA\"] = df[\"attributes_pt\"].apply(attributes_to_marca)"
   ],
   "metadata": {
    "collapsed": false,
    "ExecuteTime": {
     "end_time": "2023-12-22T19:04:58.570481300Z",
     "start_time": "2023-12-22T18:59:50.493991400Z"
    }
   },
   "id": "47f238634b6f3454"
  },
  {
   "cell_type": "code",
   "execution_count": 61,
   "outputs": [],
   "source": [
    "df.drop_duplicates(subset=[\"shipper\", \"MARCA\"], inplace = True)\n",
    "df.drop(columns = \"attributes_pt\", inplace = True)\n",
    "df = df[df[\"MARCA\"]!=\"sem marca\"]"
   ],
   "metadata": {
    "collapsed": false,
    "ExecuteTime": {
     "end_time": "2023-12-22T19:05:08.155592600Z",
     "start_time": "2023-12-22T19:04:58.578143500Z"
    }
   },
   "id": "aaa0c3eefdc06d22"
  },
  {
   "cell_type": "code",
   "execution_count": 64,
   "outputs": [],
   "source": [
    "df_group = df.groupby(\"shipper\", as_index = False)[\"MARCA\"].nunique()"
   ],
   "metadata": {
    "collapsed": false,
    "ExecuteTime": {
     "end_time": "2023-12-22T19:05:47.396933400Z",
     "start_time": "2023-12-22T19:05:46.844228600Z"
    }
   },
   "id": "5b2e4a9195cf11b7"
  },
  {
   "cell_type": "code",
   "execution_count": 72,
   "outputs": [],
   "source": [
    "shippers_with_one_brand = df_group[df_group[\"MARCA\"]==1][\"shipper\"].to_list()"
   ],
   "metadata": {
    "collapsed": false,
    "ExecuteTime": {
     "end_time": "2023-12-22T19:20:50.946511Z",
     "start_time": "2023-12-22T19:20:50.927495800Z"
    }
   },
   "id": "fd00b3cfd87e95af"
  },
  {
   "cell_type": "code",
   "execution_count": 75,
   "outputs": [],
   "source": [
    "df_with_one_brand = df[df[\"shipper\"].isin(shippers_with_one_brand)].reset_index(drop=True)\n",
    "df_with_one_brand.to_parquet(\"../data/processed/shipper_brand_relation.parquet\")"
   ],
   "metadata": {
    "collapsed": false,
    "ExecuteTime": {
     "end_time": "2023-12-22T19:23:20.077091300Z",
     "start_time": "2023-12-22T19:23:19.761030200Z"
    }
   },
   "id": "bd41c8e446d3b9a6"
  },
  {
   "cell_type": "code",
   "execution_count": 81,
   "outputs": [],
   "source": [
    "df_aux = df_with_one_brand.copy()\n",
    "df_aux[\"brand_with_shipper_name\"] = df_aux.apply(lambda x: 1 if x[\"MARCA\"] in x[\"shipper\"] else 0, axis=1)\n",
    "brand_with_shipper_name = df_aux[df_aux[\"brand_with_shipper_name\"] == 1].copy()\n",
    "brand_with_shipper_name.drop(columns=\"brand_with_shipper_name\")\n",
    "brand_with_shipper_name.reset_index(drop=True)\n",
    "brand_with_shipper_name.to_parquet(\"../data/processed/brands_with_shipper_name.parquet\")"
   ],
   "metadata": {
    "collapsed": false,
    "ExecuteTime": {
     "end_time": "2023-12-22T20:18:27.809010300Z",
     "start_time": "2023-12-22T20:18:27.338686600Z"
    }
   },
   "id": "299525558d2819a"
  }
 ],
 "metadata": {
  "kernelspec": {
   "display_name": "Python 3",
   "language": "python",
   "name": "python3"
  },
  "language_info": {
   "codemirror_mode": {
    "name": "ipython",
    "version": 2
   },
   "file_extension": ".py",
   "mimetype": "text/x-python",
   "name": "python",
   "nbconvert_exporter": "python",
   "pygments_lexer": "ipython2",
   "version": "2.7.6"
  }
 },
 "nbformat": 4,
 "nbformat_minor": 5
}
