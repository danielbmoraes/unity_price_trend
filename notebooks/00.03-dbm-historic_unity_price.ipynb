{
 "cells": [
  {
   "cell_type": "raw",
   "source": [
    "# #%% md\n",
    "# Shipper-Brand Relation"
   ],
   "metadata": {
    "collapsed": false
   },
   "id": "43393a88d8db239d"
  },
  {
   "cell_type": "markdown",
   "source": [
    "Esse notebook tem por objetivo fazer a relação de empresas que importam somente uma marca, facilitando a relação importador-"
   ],
   "metadata": {
    "collapsed": false
   },
   "id": "ee3547a85086aa1f"
  },
  {
   "cell_type": "code",
   "execution_count": 1,
   "id": "2247626460e056ff",
   "metadata": {
    "collapsed": true,
    "ExecuteTime": {
     "end_time": "2024-03-13T19:53:55.156705400Z",
     "start_time": "2024-03-13T19:53:54.873150600Z"
    }
   },
   "outputs": [],
   "source": [
    "# Importing the modules needed\n",
    "import sys\n",
    "\n",
    "import pandas as pd\n",
    "\n",
    "sys.path.append(\"../src/\")\n",
    "\n",
    "from src.data.dremio_utils import *\n",
    "# Data Handling\n",
    "from dotenv import dotenv_values \n",
    "\n",
    "from pyspark import SparkContext\n",
    "from pyspark.sql import SparkSession\n",
    "from pyspark.sql.functions import udf\n",
    "from pyspark.sql.types import StructType, StructField, StringType, DecimalType, FloatType, DateType, TimestampType\n",
    "\n",
    "import pyarrow.parquet as pq"
   ]
  },
  {
   "cell_type": "code",
   "execution_count": 2,
   "outputs": [],
   "source": [
    "spark = SparkSession.builder.master(\"local[1]\").appName(\"attributes_dict\").getOrCreate()"
   ],
   "metadata": {
    "collapsed": false,
    "ExecuteTime": {
     "end_time": "2024-03-13T19:54:12.656315100Z",
     "start_time": "2024-03-13T19:53:55.590881Z"
    }
   },
   "id": "9f4b6b3ba58fedc9"
  },
  {
   "cell_type": "code",
   "execution_count": 3,
   "outputs": [],
   "source": [
    "config = dotenv_values(\".env\")\n",
    "bds = BaseDremioService(config)"
   ],
   "metadata": {
    "collapsed": false,
    "ExecuteTime": {
     "end_time": "2024-03-13T19:54:12.671953300Z",
     "start_time": "2024-03-13T19:54:12.656315100Z"
    }
   },
   "id": "b958cb0ee3f1a4f9"
  },
  {
   "cell_type": "markdown",
   "source": [
    "## 1. Old Data"
   ],
   "metadata": {
    "collapsed": false
   },
   "id": "7a857a09bd42d6f3"
  },
  {
   "cell_type": "markdown",
   "source": [
    "### 1.1 Extract the data"
   ],
   "metadata": {
    "collapsed": false
   },
   "id": "bd9775f4282642fb"
  },
  {
   "cell_type": "code",
   "execution_count": 8,
   "outputs": [
    {
     "name": "stdout",
     "output_type": "stream",
     "text": [
      "[INFO] Authentication was successful\n",
      "[INFO] Query:   \n",
      " SELECT \n",
      "     dpb.di_number,\n",
      "     sd.sgl_uf_import as sgl_uf,\n",
      "     sd.cidade_import,\n",
      "     sd.anomes,\n",
      "     dpb.urf_entrada_carga,\n",
      "     CAST(val_unid_prod_us AS FLOAT) as val_unid_prod_us\n",
      " FROM searchx.search_dump sd\n",
      " INNER JOIN di_pu.di_pu_bronze dpb\n",
      "    ON CAST(dpb.di_number AS INT) = CAST(sd.di_number AS INT)\n",
      " WHERE anomes <= 202112\n",
      "    AND anomes >= 201801\n",
      "    AND ISNUMERIC(val_unid_prod_us)\n",
      "[INFO] GetSchema was successful\n",
      "[INFO] Schema:  <pyarrow.flight.SchemaResult schema=(di_number: int32\n",
      "sgl_uf: string\n",
      "cidade_import: string\n",
      "anomes: string\n",
      "urf_entrada_carga: string\n",
      "val_unid_prod_us: float)>\n",
      "[INFO] GetFlightInfo was successful\n",
      "[INFO] Ticket:  <pyarrow.flight.Ticket ticket=b'\\n\\x8f\\x03 \\n SELECT \\n     dpb.di_number,\\n     sd.sgl_uf_import as sgl_uf,\\n     sd.cidade_import,\\n     sd.anomes,\\n     dpb.urf_entrada_carga,\\n     CAST(val_unid_prod_us AS FLOAT) as val_unid_prod_us\\n FROM searchx.search_dump sd\\n INNER JOIN di_pu.di_pu_bronze dpb\\n    ON CAST(dpb.di_number AS INT) = CAST(sd.di_number AS INT)\\n WHERE anomes <= 202112\\n    AND anomes >= 201801\\n    AND ISNUMERIC(val_unid_prod_us)\\n\\x12\\xac\\x03\\n\\xa9\\x03\\n\\x8f\\x03 \\n SELECT \\n     dpb.di_number,\\n     sd.sgl_uf_import as sgl_uf,\\n     sd.cidade_import,\\n     sd.anomes,\\n     dpb.urf_entrada_carga,\\n     CAST(val_unid_prod_us AS FLOAT) as val_unid_prod_us\\n FROM searchx.search_dump sd\\n INNER JOIN di_pu.di_pu_bronze dpb\\n    ON CAST(dpb.di_number AS INT) = CAST(sd.di_number AS INT)\\n WHERE anomes <= 202112\\n    AND anomes >= 201801\\n    AND ISNUMERIC(val_unid_prod_us)\\n\\x10\\xd5\\x17\\x1a\\x12\\t\\x11\\xd2+\\xc9\\x07\\x11\\x0e\\x1a\\x11\\x00\\x06;\\x1d\\xf8\\x9d\\x10\\xf2'>\n",
      "[INFO] Reading query results from Dremio\n"
     ]
    }
   ],
   "source": [
    "big_data_di_sql = ''' \n",
    " SELECT \n",
    "     dpb.di_number,\n",
    "     sd.sgl_uf_import as sgl_uf,\n",
    "     sd.cidade_import,\n",
    "     sd.anomes,\n",
    "     dpb.urf_entrada_carga,\n",
    "     CAST(val_unid_prod_us AS FLOAT) as val_unid_prod_us\n",
    " FROM searchx.search_dump sd\n",
    " INNER JOIN di_pu.di_pu_bronze dpb\n",
    "    ON CAST(dpb.di_number AS INT) = CAST(sd.di_number AS INT)\n",
    " WHERE anomes <= 202112\n",
    "    AND anomes >= 201801\n",
    "    AND ISNUMERIC(val_unid_prod_us)\n",
    "'''\n",
    "aux_df = bds.extract_dremio_dataset(big_data_di_sql)\n",
    "aux_df.to_parquet(\"../data/raw/unity_price/search_dump.parquet\")"
   ],
   "metadata": {
    "collapsed": false,
    "ExecuteTime": {
     "end_time": "2024-03-13T18:37:50.138990500Z",
     "start_time": "2024-03-13T18:22:44.746257400Z"
    }
   },
   "id": "3b4fe85b1b5101ac"
  },
  {
   "cell_type": "markdown",
   "source": [
    "### 1.2 Group By"
   ],
   "metadata": {
    "collapsed": false
   },
   "id": "19821c7bf5ce61ea"
  },
  {
   "cell_type": "code",
   "execution_count": 4,
   "outputs": [],
   "source": [
    "search_dump = spark.read.parquet(\"../data/raw/unity_price/search_dump.parquet\")"
   ],
   "metadata": {
    "collapsed": false,
    "ExecuteTime": {
     "end_time": "2024-03-13T19:54:15.018112800Z",
     "start_time": "2024-03-13T19:54:12.671953300Z"
    }
   },
   "id": "3e9840f45e43eee5"
  },
  {
   "cell_type": "code",
   "execution_count": 5,
   "outputs": [],
   "source": [
    "di_pu_add = spark.read.parquet(\"../data/raw/unity_price/di_pu_add.parquet\")"
   ],
   "metadata": {
    "collapsed": false,
    "ExecuteTime": {
     "end_time": "2024-03-13T19:54:15.127970200Z",
     "start_time": "2024-03-13T19:54:15.018112800Z"
    }
   },
   "id": "b48759f54d3525ef"
  },
  {
   "cell_type": "code",
   "execution_count": 6,
   "outputs": [],
   "source": [
    "search_dump_comp = di_pu_add.join(search_dump, search_dump.di_number == di_pu_add.di_number)"
   ],
   "metadata": {
    "collapsed": false,
    "ExecuteTime": {
     "end_time": "2024-03-13T19:54:15.238617400Z",
     "start_time": "2024-03-13T19:54:15.112382500Z"
    }
   },
   "id": "54ca011278761086"
  },
  {
   "cell_type": "code",
   "execution_count": 7,
   "outputs": [
    {
     "data": {
      "text/plain": "['id',\n 'pais',\n 'cod_ncm',\n 'di_control_pu_addition_id',\n 'di_number',\n 'di_number',\n 'sgl_uf',\n 'cidade_import',\n 'anomes',\n 'urf_entrada_carga',\n 'val_unid_prod_us']"
     },
     "execution_count": 7,
     "metadata": {},
     "output_type": "execute_result"
    }
   ],
   "source": [
    "search_dump_comp.columns"
   ],
   "metadata": {
    "collapsed": false,
    "ExecuteTime": {
     "end_time": "2024-03-13T19:54:15.254286800Z",
     "start_time": "2024-03-13T19:54:15.238617400Z"
    }
   },
   "id": "440920f671e76302"
  },
  {
   "cell_type": "code",
   "execution_count": 8,
   "outputs": [],
   "source": [
    "search_dump_grouped = search_dump_comp.groupBy([\n",
    "    'pais',\n",
    "    'cod_ncm',\n",
    "    'sgl_uf',\n",
    "    'cidade_import',\n",
    "    'urf_entrada_carga',\n",
    "    'anomes']).avg('val_unid_prod_us')"
   ],
   "metadata": {
    "collapsed": false,
    "ExecuteTime": {
     "end_time": "2024-03-13T19:54:15.348431900Z",
     "start_time": "2024-03-13T19:54:15.254286800Z"
    }
   },
   "id": "5841c146ac894f2f"
  },
  {
   "cell_type": "code",
   "execution_count": 9,
   "outputs": [],
   "source": [
    "search_dump_grouped = search_dump_grouped.withColumnRenamed(\"pais\", \"id_pais_origem\")\\\n",
    "    .withColumnRenamed(\"cod_ncm\", \"ncm\")\\\n",
    "    .withColumnRenamed(\"cidade_import\", \"importador_municipio\")\\\n",
    "    .withColumnRenamed(\"sgl_uf\", \"importador_uf\")\\\n",
    "    .withColumnRenamed(\"urf_entrada_carga\", \"urf\")\\\n",
    "    .withColumnRenamed(\"anomes\", \"anomes\")\\\n",
    "    .withColumnRenamed(\"avg(val_unid_prod_us)\", \"avg_valor_item\")"
   ],
   "metadata": {
    "collapsed": false,
    "ExecuteTime": {
     "end_time": "2024-03-13T19:54:15.410970700Z",
     "start_time": "2024-03-13T19:54:15.348431900Z"
    }
   },
   "id": "265617fb9dd7f410"
  },
  {
   "cell_type": "code",
   "execution_count": 10,
   "outputs": [],
   "source": [
    "# search_dump_grouped.show(5)"
   ],
   "metadata": {
    "collapsed": false,
    "ExecuteTime": {
     "end_time": "2024-03-13T19:54:15.427610100Z",
     "start_time": "2024-03-13T19:54:15.410970700Z"
    }
   },
   "id": "916405a746b196ab"
  },
  {
   "cell_type": "code",
   "execution_count": 11,
   "outputs": [],
   "source": [
    "search_dump_grouped.write.parquet(\"../data/interim/dump_grouped\", mode=\"overwrite\")"
   ],
   "metadata": {
    "collapsed": false,
    "ExecuteTime": {
     "end_time": "2024-03-13T20:03:19.218771Z",
     "start_time": "2024-03-13T19:54:15.427610100Z"
    }
   },
   "id": "ef5dc64e05ff04e7"
  },
  {
   "cell_type": "markdown",
   "source": [
    "## 2. New Data"
   ],
   "metadata": {
    "collapsed": false
   },
   "id": "216f5d9ae8ffdbc5"
  },
  {
   "cell_type": "markdown",
   "source": [
    "### 2.1 Extract the data"
   ],
   "metadata": {
    "collapsed": false
   },
   "id": "138fa0577ce5a1a"
  },
  {
   "cell_type": "code",
   "execution_count": 41,
   "outputs": [
    {
     "name": "stdout",
     "output_type": "stream",
     "text": [
      "[INFO] Authentication was successful\n",
      "[INFO] Query:   \n",
      "SELECT\n",
      "    dpa.id as id,\n",
      "    cb.name_pt as pais,\n",
      "    CAST(cod_ncm as int) as cod_ncm,\n",
      "    di_control_pu_addition_id,\n",
      "    di_number\n",
      "FROM di_pu.di_pu_addition_bronze dpa\n",
      "LEFT JOIN di_pu.country_bronze cb\n",
      "    ON dpa.id_pais_origem = cb.id\n",
      "[INFO] GetSchema was successful\n",
      "[INFO] Schema:  <pyarrow.flight.SchemaResult schema=(id: int64\n",
      "pais: string\n",
      "cod_ncm: int32\n",
      "di_control_pu_addition_id: int64\n",
      "di_number: int32)>\n",
      "[INFO] GetFlightInfo was successful\n",
      "[INFO] Ticket:  <pyarrow.flight.Ticket ticket=b'\\n\\xee\\x01 \\nSELECT\\n    dpa.id as id,\\n    cb.name_pt as pais,\\n    CAST(cod_ncm as int) as cod_ncm,\\n    di_control_pu_addition_id,\\n    di_number\\nFROM di_pu.di_pu_addition_bronze dpa\\nLEFT JOIN di_pu.country_bronze cb\\n    ON dpa.id_pais_origem = cb.id\\n\\x12\\x8b\\x02\\n\\x88\\x02\\n\\xee\\x01 \\nSELECT\\n    dpa.id as id,\\n    cb.name_pt as pais,\\n    CAST(cod_ncm as int) as cod_ncm,\\n    di_control_pu_addition_id,\\n    di_number\\nFROM di_pu.di_pu_addition_bronze dpa\\nLEFT JOIN di_pu.country_bronze cb\\n    ON dpa.id_pais_origem = cb.id\\n\\x10\\xd9\\x17\\x1a\\x12\\t\\xed\\xad\\xa2 -\\x01\\x0e\\x1a\\x11\\x00[\\xda\\xf9t\\xbe\\xa0\\xee'>\n",
      "[INFO] Reading query results from Dremio\n"
     ]
    }
   ],
   "source": [
    "# Snippet to extract the data\n",
    "# ```Python\n",
    "big_data_di_sql = ''' \n",
    "SELECT\n",
    "    dpa.id as id,\n",
    "    cb.name_pt as pais,\n",
    "    CAST(cod_ncm as int) as cod_ncm,\n",
    "    di_control_pu_addition_id,\n",
    "    di_number\n",
    "FROM di_pu.di_pu_addition_bronze dpa\n",
    "LEFT JOIN di_pu.country_bronze cb\n",
    "    ON dpa.id_pais_origem = cb.id\n",
    "'''\n",
    "aux_df = bds.extract_dremio_dataset(big_data_di_sql)\n",
    "aux_df.to_parquet(\"../data/raw/unity_price/di_pu_add.parquet\")"
   ],
   "metadata": {
    "collapsed": false,
    "ExecuteTime": {
     "end_time": "2024-03-13T19:32:28.427271500Z",
     "start_time": "2024-03-13T19:30:25.036003100Z"
    }
   },
   "id": "35f1a295fc9d9db4"
  },
  {
   "cell_type": "markdown",
   "source": [
    "big_data_di_sql = ''' \n",
    "SELECT \n",
    "    valor_item,\n",
    "    di_pu_addition_id\n",
    "FROM di_pu.di_pu_addition_itens_bronze\n",
    "'''\n",
    "aux_df = bds.extract_dremio_dataset(big_data_di_sql)\n",
    "aux_df.to_parquet(\"../data/raw/unity_price/di_pu_add_itens.parquet\")"
   ],
   "metadata": {
    "collapsed": false
   },
   "id": "3791d44d8b165ea0"
  },
  {
   "cell_type": "markdown",
   "source": [
    "big_data_di_sql = ''' \n",
    "SELECT \n",
    "    importador_endereco_municipio,\n",
    "    importador_endereco_uf,\n",
    "    urf_entrada_carga,\n",
    "    CONCAT(EXTRACT(YEAR FROM CAST(data_hora_registro AS DATE)), LPAD(EXTRACT(MONTH FROM CAST(data_hora_registro AS DATE)), 2, '0')) as anomes,\n",
    "    di_number \n",
    "FROM di_pu.di_pu_bronze\n",
    "WHERE\n",
    "    CAST(data_hora_registro AS DATE) < '2021-12-01' OR \n",
    "    CAST(data_hora_registro AS DATE) > '2022-02-28'\n",
    "'''\n",
    "aux_df = bds.extract_dremio_dataset(big_data_di_sql)\n",
    "aux_df.to_parquet(\"../data/raw/unity_price/di_pu.parquet\")"
   ],
   "metadata": {
    "collapsed": false
   },
   "id": "3a9d399cc5aa496b"
  },
  {
   "cell_type": "code",
   "execution_count": 42,
   "outputs": [],
   "source": [
    "di_pu = spark.read.parquet(\"../data/raw/unity_price/di_pu.parquet\")\n",
    "di_pu_add = spark.read.parquet(\"../data/raw/unity_price/di_pu_add.parquet\")\n",
    "di_pu_add_itens = spark.read.parquet(\"../data/raw/unity_price/di_pu_add_itens.parquet\")"
   ],
   "metadata": {
    "collapsed": false,
    "ExecuteTime": {
     "end_time": "2024-03-13T19:32:28.685416300Z",
     "start_time": "2024-03-13T19:32:28.439272Z"
    }
   },
   "id": "initial_id"
  },
  {
   "cell_type": "markdown",
   "source": [
    "### 2.2 Cross the Data"
   ],
   "metadata": {
    "collapsed": false
   },
   "id": "1fbcee09d1990029"
  },
  {
   "cell_type": "code",
   "execution_count": 34,
   "outputs": [
    {
     "data": {
      "text/plain": "['valor_item', 'di_pu_addition_id']"
     },
     "execution_count": 34,
     "metadata": {},
     "output_type": "execute_result"
    }
   ],
   "source": [
    "di_pu_add_itens.columns"
   ],
   "metadata": {
    "collapsed": false,
    "ExecuteTime": {
     "end_time": "2024-03-13T19:29:02.486480600Z",
     "start_time": "2024-03-13T19:29:02.473487600Z"
    }
   },
   "id": "f1252e6f3fd2c5e4"
  },
  {
   "cell_type": "code",
   "execution_count": 44,
   "outputs": [
    {
     "name": "stdout",
     "output_type": "stream",
     "text": [
      "root\n",
      " |-- id: long (nullable = true)\n",
      " |-- pais: string (nullable = true)\n",
      " |-- cod_ncm: double (nullable = true)\n",
      " |-- di_control_pu_addition_id: long (nullable = true)\n",
      " |-- di_number: integer (nullable = true)\n",
      " |-- valor_item: decimal(17,6) (nullable = true)\n",
      " |-- di_pu_addition_id: long (nullable = true)\n"
     ]
    }
   ],
   "source": [
    "di_complete = di_pu_add.join(di_pu_add_itens, di_pu_add_itens.di_pu_addition_id == di_pu_add.id)\n",
    "di_complete.printSchema()"
   ],
   "metadata": {
    "collapsed": false,
    "ExecuteTime": {
     "end_time": "2024-03-13T19:32:28.754492900Z",
     "start_time": "2024-03-13T19:32:28.702412700Z"
    }
   },
   "id": "13d43739592d7225"
  },
  {
   "cell_type": "code",
   "execution_count": 45,
   "outputs": [
    {
     "name": "stdout",
     "output_type": "stream",
     "text": [
      "root\n",
      " |-- id: long (nullable = true)\n",
      " |-- pais: string (nullable = true)\n",
      " |-- cod_ncm: double (nullable = true)\n",
      " |-- di_control_pu_addition_id: long (nullable = true)\n",
      " |-- di_number: integer (nullable = true)\n",
      " |-- valor_item: decimal(17,6) (nullable = true)\n",
      " |-- di_pu_addition_id: long (nullable = true)\n",
      " |-- importador_endereco_municipio: string (nullable = true)\n",
      " |-- importador_endereco_uf: string (nullable = true)\n",
      " |-- urf_entrada_carga: string (nullable = true)\n",
      " |-- anomes: string (nullable = true)\n",
      " |-- di_number: integer (nullable = true)\n"
     ]
    }
   ],
   "source": [
    "di_complete = di_complete.join(di_pu, di_complete.di_number == di_pu.di_number)\n",
    "di_complete.printSchema()"
   ],
   "metadata": {
    "collapsed": false,
    "ExecuteTime": {
     "end_time": "2024-03-13T19:34:35.608543Z",
     "start_time": "2024-03-13T19:34:35.557485900Z"
    }
   },
   "id": "1b08302b536704bf"
  },
  {
   "cell_type": "markdown",
   "source": [
    "### 2.3 Group by"
   ],
   "metadata": {
    "collapsed": false,
    "ExecuteTime": {
     "end_time": "2024-02-16T20:24:02.167270200Z",
     "start_time": "2024-02-16T20:24:02.136026Z"
    }
   },
   "id": "7a899a06ed26190e"
  },
  {
   "cell_type": "code",
   "execution_count": 46,
   "outputs": [],
   "source": [
    "di_complete = di_complete.groupBy([\n",
    "                                'pais',\n",
    "                                 'cod_ncm',\n",
    "                                 'importador_endereco_municipio',\n",
    "                                 'importador_endereco_uf',\n",
    "                                 'urf_entrada_carga',\n",
    "                                 'anomes']).avg(\"valor_item\")"
   ],
   "metadata": {
    "collapsed": false,
    "ExecuteTime": {
     "end_time": "2024-03-13T19:34:38.328729300Z",
     "start_time": "2024-03-13T19:34:38.271249200Z"
    }
   },
   "id": "6fc0ff4005a89a07"
  },
  {
   "cell_type": "code",
   "execution_count": 47,
   "outputs": [],
   "source": [
    "di_complete = di_complete.withColumnRenamed(\"pais\", \"pais\")\\\n",
    "    .withColumnRenamed(\"cod_ncm\", \"ncm\")\\\n",
    "    .withColumnRenamed(\"importador_endereco_municipio\", \"importador_municipio\")\\\n",
    "    .withColumnRenamed(\"importador_endereco_uf\", \"importador_uf\")\\\n",
    "    .withColumnRenamed(\"urf_entrada_carga\", \"urf\")\\\n",
    "    .withColumnRenamed(\"ano\", \"ano\")\\\n",
    "    .withColumnRenamed(\"avg(valor_item)\", \"avg_valor_item\")"
   ],
   "metadata": {
    "collapsed": false,
    "ExecuteTime": {
     "end_time": "2024-03-13T19:34:39.179171200Z",
     "start_time": "2024-03-13T19:34:39.121569700Z"
    }
   },
   "id": "ca425ed44dee6505"
  },
  {
   "cell_type": "code",
   "execution_count": 48,
   "outputs": [],
   "source": [
    "di_complete = di_complete.withColumn(\"ncm\", di_complete.ncm.cast(DecimalType(18,2)))"
   ],
   "metadata": {
    "collapsed": false,
    "ExecuteTime": {
     "end_time": "2024-03-13T19:34:47.170238500Z",
     "start_time": "2024-03-13T19:34:47.122274800Z"
    }
   },
   "id": "4a366602171527bb"
  },
  {
   "cell_type": "code",
   "execution_count": null,
   "outputs": [],
   "source": [
    "di_complete.show()"
   ],
   "metadata": {
    "collapsed": false,
    "ExecuteTime": {
     "start_time": "2024-03-13T18:50:34.708514100Z"
    }
   },
   "id": "f1ff6edbc24e5a36"
  },
  {
   "cell_type": "code",
   "execution_count": 49,
   "outputs": [],
   "source": [
    "di_complete.write.parquet(\"../data/interim/di_completed\", mode=\"overwrite\")"
   ],
   "metadata": {
    "collapsed": false,
    "ExecuteTime": {
     "end_time": "2024-03-13T19:39:17.309998600Z",
     "start_time": "2024-03-13T19:34:49.456747700Z"
    }
   },
   "id": "a5f7e3751ff22452"
  },
  {
   "cell_type": "markdown",
   "source": [
    "## 3. Merge old and new Data"
   ],
   "metadata": {
    "collapsed": false
   },
   "id": "2cd3b9648a0eb283"
  },
  {
   "cell_type": "code",
   "execution_count": 12,
   "outputs": [],
   "source": [
    "di_complete = spark.read.parquet(\"../data/interim/di_completed\")"
   ],
   "metadata": {
    "collapsed": false,
    "ExecuteTime": {
     "end_time": "2024-03-13T20:03:19.376326900Z",
     "start_time": "2024-03-13T20:03:19.221776800Z"
    }
   },
   "id": "8c7051fb0a10f341"
  },
  {
   "cell_type": "code",
   "execution_count": 13,
   "outputs": [],
   "source": [
    "historic_completed = search_dump_grouped.unionAll(di_complete)"
   ],
   "metadata": {
    "collapsed": false,
    "ExecuteTime": {
     "end_time": "2024-03-13T20:03:19.426814900Z",
     "start_time": "2024-03-13T20:03:19.379296Z"
    }
   },
   "id": "6a8150cf68376450"
  },
  {
   "cell_type": "code",
   "execution_count": 16,
   "outputs": [],
   "source": [
    "# df.withColumn('total_sale_volume', df.total_sale_volume.cast(DecimalType(18, 2)))\n",
    "historic_completed = historic_completed.withColumn(\"ncm\", historic_completed.ncm.cast(DecimalType(18, 2)))"
   ],
   "metadata": {
    "collapsed": false,
    "ExecuteTime": {
     "end_time": "2024-03-13T22:20:52.326484100Z",
     "start_time": "2024-03-13T22:20:52.271432800Z"
    }
   },
   "id": "23d18cb9e63cd350"
  },
  {
   "cell_type": "code",
   "execution_count": null,
   "outputs": [],
   "source": [
    "# search_dump_grouped.count()\n",
    "# historic_completed.count()"
   ],
   "metadata": {
    "collapsed": false,
    "ExecuteTime": {
     "start_time": "2024-03-13T19:45:51.064725400Z"
    }
   },
   "id": "c88ae43e4786f225"
  },
  {
   "cell_type": "code",
   "execution_count": 17,
   "outputs": [],
   "source": [
    "historic_completed.write.parquet(\"../data/interim/unity_price_historic\", mode=\"overwrite\")"
   ],
   "metadata": {
    "collapsed": false,
    "ExecuteTime": {
     "end_time": "2024-03-13T22:28:08.382639300Z",
     "start_time": "2024-03-13T22:20:54.010807400Z"
    }
   },
   "id": "82c65f040125ea44"
  },
  {
   "cell_type": "code",
   "execution_count": 18,
   "outputs": [],
   "source": [
    "table = pq.read_table(\"../data/interim/unity_price_historic\")\n",
    "df = table.to_pandas()"
   ],
   "metadata": {
    "collapsed": false,
    "ExecuteTime": {
     "end_time": "2024-03-13T22:28:20.667628500Z",
     "start_time": "2024-03-13T22:28:08.385639600Z"
    }
   },
   "id": "751f5a1c3bb36f8c"
  },
  {
   "cell_type": "code",
   "execution_count": 19,
   "outputs": [],
   "source": [
    "df = df[df[\"anomes\"].astype(int) >= 201800].copy()\n",
    "df[\"semestre\"] = df.apply(lambda x: 1 if int(str(x[\"anomes\"])[-2:]) <= 6 else 2, axis=1)\n",
    "df[\"ano\"] = df.apply(lambda x: int(str(x[\"anomes\"])[:4]), axis=1)\n",
    "df[\"ano_semestre\"] = df.apply(lambda x: x[\"ano\"]*100 + x[\"semestre\"], axis=1)"
   ],
   "metadata": {
    "collapsed": false,
    "ExecuteTime": {
     "end_time": "2024-03-13T22:30:56.882643300Z",
     "start_time": "2024-03-13T22:28:20.669628200Z"
    }
   },
   "id": "3a3d132ba0e7594d"
  },
  {
   "cell_type": "code",
   "execution_count": 20,
   "outputs": [],
   "source": [
    "df.to_parquet(\"../data/processed/average_unity_price_historic.parquet\")"
   ],
   "metadata": {
    "collapsed": false,
    "ExecuteTime": {
     "end_time": "2024-03-13T22:31:19.993114400Z",
     "start_time": "2024-03-13T22:30:56.900644700Z"
    }
   },
   "id": "d87e340797a827e7"
  }
 ],
 "metadata": {
  "kernelspec": {
   "display_name": "Python 3",
   "language": "python",
   "name": "python3"
  },
  "language_info": {
   "codemirror_mode": {
    "name": "ipython",
    "version": 2
   },
   "file_extension": ".py",
   "mimetype": "text/x-python",
   "name": "python",
   "nbconvert_exporter": "python",
   "pygments_lexer": "ipython2",
   "version": "2.7.6"
  }
 },
 "nbformat": 4,
 "nbformat_minor": 5
}
